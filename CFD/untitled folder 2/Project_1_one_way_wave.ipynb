{
 "cells": [
  {
   "cell_type": "code",
   "execution_count": 2,
   "id": "1e1e00a8-e850-46d5-9d3e-d4a074474cc2",
   "metadata": {},
   "outputs": [],
   "source": [
    "import numpy as np\n",
    "import matplotlib.pyplot as plt\n",
    "from matplotlib.animation import FuncAnimation\n",
    "import time\n",
    "\n",
    "from itertools import count\n",
    "from IPython import display\n",
    "\n",
    "import seaborn as sns\n",
    "from IPython.display import HTML\n",
    "from scipy.io import loadmat\n",
    "from utils.helper_util import Func_GaussElimination,plotter"
   ]
  },
  {
   "cell_type": "code",
   "execution_count": 7,
   "id": "3d978d21-5eae-43d6-991b-24f86868b23f",
   "metadata": {},
   "outputs": [],
   "source": [
    "##Wave Propagation\n",
    "c=1\n",
    "##CFL\n",
    "CFL=0.4\n",
    "## grid\n",
    "N  = 100 ;\n",
    "x  = np.linspace(0, 1, N+1)\n",
    "x  = x[0:N] \n",
    "dx = x[1] - x[0] \n",
    "#Delta\n",
    "dt=CFL*dx/(c)\n",
    "t_domain=np.linspace(0, 4, int((4 - 0) / dt + 1))\n",
    "#initial condition\n",
    "sigma=0.01\n",
    "f0=np.exp((-(x-0.5)**2)/sigma)\n",
    "f0=f0.reshape((len(f0),1))\n",
    "A = np.diag(((3*c*dt)/(4*dx)) * np.ones((N-1)), -1) + np.diag(1 * np.ones((N)), 0)+ np.diag((-(3*c*dt)/(4*dx)) * np.ones((N-1)), +1)\n",
    "B=((c*dt)/(2*dx))*(np.diag(-1 * np.ones((N-1)), -1)+ np.diag(1 * np.ones((N-1)), +1))\n"
   ]
  },
  {
   "cell_type": "code",
   "execution_count": 8,
   "id": "c42d07e1-8c51-4263-bdd9-50c628d8dc7e",
   "metadata": {},
   "outputs": [
    {
     "data": {
      "text/plain": [
       "(100,)"
      ]
     },
     "execution_count": 8,
     "metadata": {},
     "output_type": "execute_result"
    }
   ],
   "source": [
    "x.shape"
   ]
  },
  {
   "cell_type": "code",
   "execution_count": null,
   "id": "e0050f8d-dc3f-4a55-a183-ffe7596f94e9",
   "metadata": {},
   "outputs": [],
   "source": [
    "u_LB_list=[]\n",
    "u_RB_list=[]\n",
    "u_LB_list.append(np.exp((-(0-0.5)**2)/sigma))\n",
    "u_RB_list.append(np.exp((-(1-0.5)**2)/sigma))\n",
    "A_int =np.diag(-((c*dt)/(2*dx)) * np.ones((N-1)), -1) + np.diag(1 * np.ones((N)), 0)+ np.diag(((c*dt)/(2*dx)) * np.ones((N-1)), +1)\n",
    "f_old=f0\n",
    "f_new = Func_GaussElimination(A_int, f_old)\n",
    "\n",
    "u_LB=np.exp((-(0-0.5)**2)/sigma) -((c*dt)/(2*dx))*(f_new[0]) +((c*dt)/(2*dx))*(f_new[-1])\n",
    "u_LB_list.append(u_LB[0])\n",
    "u_RB=np.exp((-(0-0.5)**2)/sigma) -((c*dt)/(2*dx))*(f_new[0]) +((c*dt)/(2*dx))*(f_new[-1])\n",
    "u_RB_list.append(u_RB[0])\n",
    "\n"
   ]
  },
  {
   "cell_type": "code",
   "execution_count": null,
   "id": "487648bb-3dab-4538-a72a-e95b8d5f0edf",
   "metadata": {},
   "outputs": [],
   "source": [
    "np.exp((-(1-0.5)**2)/sigma"
   ]
  },
  {
   "cell_type": "code",
   "execution_count": null,
   "id": "1cc7cb63-46c5-44f7-b067-0495bcc08525",
   "metadata": {
    "tags": []
   },
   "outputs": [],
   "source": [
    "\n",
    "\n",
    "f_new_list=[]\n",
    "xlist=[]\n",
    "f_old = f0\n",
    "dat_acq_int=1\n",
    "for it in range(len(t_domain)):\n",
    "    if it==0:\n",
    "        f_new=A@f_new + B@f_old\n",
    "        u_LB=u_LB_list[1+it] -(3*c*dt/(4*dx))*(f_new[0])+(3*c*dt/(4*dx))*(f_new[-1])+(c*dt/(2*dx))*(f_new[0])-(c*dt/(2*dx))*(f_new[-1])\n",
    "        u_RB=u_LB\n",
    "        u_LB_list.append(u_LB)\n",
    "        u_RB_list.append(u_RB)\n",
    "    else:\n",
    "        f_new1=f_new\n",
    "        f_new=A@f_new + B@f_new1 \n",
    "        u_LB=u_LB_list[1+it] -(3*c*dt/(4*dx))*(f_new[0])+(3*c*dt/(4*dx))*(f_new[-1])+(c*dt/(2*dx))*(f_new[0])-(c*dt/(2*dx))*(f_new[-1])\n",
    "        u_RB=u_LB\n",
    "        u_LB_list.append(u_LB)\n",
    "        u_RB_list.append(u_RB)\n",
    "    if it%dat_acq_int==0:\n",
    "        f_new_list.append(np.insert(np.insert(f_new, 0, u_LB),len(x)+1,u_RB))\n",
    "        xlist.append(np.insert(np.insert(x, 0, 0),len(x)+1,1))\n",
    "HTML(plotter(xlist,f_new_list,interv=100,dat_acq=dat_acq_int,p=-3,q=3).to_html5_video())\n"
   ]
  },
  {
   "cell_type": "code",
   "execution_count": null,
   "id": "b1a81e14-75de-457f-be4e-77505d51da5b",
   "metadata": {},
   "outputs": [],
   "source": []
  }
 ],
 "metadata": {
  "kernelspec": {
   "display_name": "Python 3 (ipykernel)",
   "language": "python",
   "name": "python3"
  },
  "language_info": {
   "codemirror_mode": {
    "name": "ipython",
    "version": 3
   },
   "file_extension": ".py",
   "mimetype": "text/x-python",
   "name": "python",
   "nbconvert_exporter": "python",
   "pygments_lexer": "ipython3",
   "version": "3.9.12"
  }
 },
 "nbformat": 4,
 "nbformat_minor": 5
}

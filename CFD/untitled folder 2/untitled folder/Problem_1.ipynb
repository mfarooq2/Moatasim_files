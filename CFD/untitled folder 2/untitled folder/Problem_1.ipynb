{
 "cells": [
  {
   "cell_type": "code",
   "execution_count": 229,
   "id": "0c856093-3b72-4de7-81e4-003642e5550c",
   "metadata": {},
   "outputs": [],
   "source": [
    "import numpy as np\n",
    "import matplotlib.pyplot as plt\n",
    "from matplotlib.animation import FuncAnimation\n",
    "import time\n",
    "from matplotlib import axes\n",
    "from itertools import count\n",
    "from IPython import display\n",
    "\n",
    "import seaborn as sns\n",
    "from IPython.display import HTML\n",
    "from scipy.io import loadmat\n",
    "from utils.helper_util import Func_GaussElimination,plotter\n",
    "import pandas as pd"
   ]
  },
  {
   "cell_type": "code",
   "execution_count": 248,
   "id": "11f6b689-63e0-43f3-bc1c-80a1e7041675",
   "metadata": {},
   "outputs": [],
   "source": [
    "##Wave Propagation\n",
    "c=1\n",
    "##CFL\n",
    "CFL=0.4\n",
    "## grid\n",
    "N  = 100 ;\n",
    "x  = np.linspace(0, 1, N+1)\n",
    "x  = x[0:N] \n",
    "dx = x[1] - x[0] \n",
    "#Delta\n",
    "dt=CFL*dx/(c)\n",
    "t_domain=np.linspace(0, 4, int((4 - 0) / dt + 1))\n",
    "#initial condition\n",
    "sigma=0.01"
   ]
  },
  {
   "cell_type": "code",
   "execution_count": 249,
   "id": "3652d368-347a-4adf-b2a3-ff97e6f7af72",
   "metadata": {},
   "outputs": [
    {
     "data": {
      "text/plain": [
       "0.01"
      ]
     },
     "execution_count": 249,
     "metadata": {},
     "output_type": "execute_result"
    }
   ],
   "source": [
    "dx"
   ]
  },
  {
   "cell_type": "code",
   "execution_count": 250,
   "id": "a73eb515-0746-493d-a6b2-2eaa8f2e1d42",
   "metadata": {},
   "outputs": [],
   "source": [
    "def f_not(x):\n",
    "    return np.exp((-(x-0.5)**2)/sigma)"
   ]
  },
  {
   "cell_type": "code",
   "execution_count": 251,
   "id": "a992be10-b5d8-4362-af45-74d04f4bf10b",
   "metadata": {},
   "outputs": [],
   "source": [
    "##AB-1 for kickstart\n",
    "f_new_list1=[]\n",
    "xlist=[]\n",
    "Diff_old=np.zeros(len(x))\n",
    "Diff_new=np.zeros(len(x))\n",
    "dat_acq_int=1\n",
    "for j in range(len(x)):\n",
    "    Diff_old[j]=f_not(x[j])\n",
    "f_new_list1.append(list(Diff_old))"
   ]
  },
  {
   "cell_type": "code",
   "execution_count": 252,
   "id": "6fad54d3-7c1d-4309-9863-75da6bf1adf4",
   "metadata": {},
   "outputs": [],
   "source": [
    "Diff_new[0]=Diff_old[0]+(dt/(2*dx))*(Diff_old[1]-Diff_old[-1])\n",
    "Diff_new[-1]=Diff_old[-1]+(dt/(2*dx))*(Diff_old[0]-Diff_old[-2])\n",
    "for j in range(1,len(x)-1):\n",
    "    Diff_new[j]=Diff_old[j]+(dt/(2*dx))*(Diff_old[j+1]-Diff_old[j-1])\n",
    "f_new_list1.append(list(Diff_new))"
   ]
  },
  {
   "cell_type": "code",
   "execution_count": 253,
   "id": "adaa2d4c-761e-4e91-88a9-d8a46f602915",
   "metadata": {},
   "outputs": [],
   "source": [
    "##AB-2 for solution\n",
    "f_new_list1=[]\n",
    "xlist=[]\n",
    "dat_acq_int=1\n",
    "for it in range(1000):\n",
    "    dummy_var=Diff_new.copy()\n",
    "    Diff_new[0]=Diff_new[0]+(c*dt/(4*dx))*(-3*Diff_new[1]+3*Diff_new[-1]+Diff_old[1]-Diff_old[-1])\n",
    "    Diff_new[-1]=Diff_new[-1]+(c*dt/(4*dx))*(-3*Diff_new[0]+3*Diff_new[-2]+Diff_old[0]-Diff_old[-2])\n",
    "    for j in range(1,len(x)-1):\n",
    "        Diff_new[j]=Diff_new[j]+(c*dt/(4*dx))*(-3*Diff_new[j+1]+3*Diff_new[j-1]+Diff_old[j+1]-Diff_old[j-1])\n",
    "    Diff_old=dummy_var.copy()\n",
    "    f_new_list1.append(list(np.insert(Diff_new, len(x), Diff_new[0])))\n",
    "    xlist.append(np.insert(x, len(x), 1))"
   ]
  },
  {
   "cell_type": "code",
   "execution_count": 254,
   "id": "4318bffd-ebb2-47af-9892-c2f083d2b22b",
   "metadata": {},
   "outputs": [],
   "source": [
    "##Wave Propagation\n",
    "c=1\n",
    "##CFL\n",
    "CFL=0.4\n",
    "## grid\n",
    "N  = 100 ;\n",
    "x  = np.linspace(0, 1, N+1)\n",
    "x  = x[0:N] \n",
    "dx = x[1] - x[0] \n",
    "#Delta\n",
    "dt=CFL*dx/(c)\n",
    "t_domain=np.linspace(0, 4, int((4 - 0) / dt + 1))\n",
    "#initial condition\n",
    "sigma=0.01\n",
    "def f_not(x):\n",
    "    return np.exp((-(x-0.5)**2)/sigma)\n",
    "##Function_list\n",
    "f_new_list=[]\n",
    "xlist=[]\n",
    "Diff_old=np.zeros(len(x))\n",
    "Diff_new=np.zeros(len(x))\n",
    "dat_acq_int=1\n",
    "for j in range(len(x)):\n",
    "    Diff_new[j]=f_not(x[j])\n",
    "f_new_list.append(list(Diff_new))\n",
    "xlist.append(x)\n",
    "##AB-2 for solution\n",
    "dat_acq_int=1\n",
    "for it in range(1000):\n",
    "    Diff_new[0]=Diff_new[0]-(c*dt/(2*dx))*(-Diff_new[-1]+Diff_new[1])+(((c*dt)**2)/(2*dx**2))*(Diff_new[-1]-2*Diff_new[0]+Diff_new[1])\n",
    "    Diff_new[-1]=Diff_new[-1]-(c*dt/(2*dx))*(-Diff_new[-2]+Diff_new[0])+(((c*dt)**2)/(2*dx**2))*(Diff_new[-2]-2*Diff_new[-1]+Diff_new[0])\n",
    "    for j in range(1,len(x)-1):\n",
    "        Diff_new[j]=Diff_new[j]-(c*dt/(2*dx))*(-Diff_new[j-1]+Diff_new[j+1])+(((c*dt)**2)/(2*dx**2))*(Diff_new[j-1]-2*Diff_new[j]+Diff_new[j+1])\n",
    "    #f_new_list.append(list(Diff_new))\n",
    "    f_new_list.append(list(np.insert(Diff_new, len(x), Diff_new[0])))\n",
    "    xlist.append(np.insert(x, len(x), 1))\n",
    "    "
   ]
  },
  {
   "cell_type": "code",
   "execution_count": null,
   "id": "0e16d9a7-e34e-4cdc-a278-d339f54fc970",
   "metadata": {},
   "outputs": [],
   "source": [
    "plt.plot(xlist[int(3/dt)],f_new_list1[int(3/dt)],'--k',label='Adams Bashforth 2',color='Red')\n",
    "plt.plot(xlist[int(3/dt)],f_new_list[int(3/dt)],label='Lax Wendroff',color='Blue')\n",
    "plt.xlabel(\" $X_{axis}$ \", fontsize='15')\n",
    "plt.ylabel(\"U\", fontsize='15')\n",
    "plt.legend()\n",
    "plt.minorticks_on()\n",
    "plt.tick_params(direction='in', right=True, top=True)\n",
    "plt.tick_params(labelsize=14)\n",
    "plt.tick_params(labelbottom=True, labeltop=False, labelright=False, labelleft=True)\n",
    "plt.tick_params(direction='in', which='minor', length=6, bottom=True, top=True, left=True, right=True)\n",
    "plt.tick_params(direction='in', which='major', length= 12, bottom= True, top= True, left=True, right=True)\n",
    "\n",
    "plt.title('CFL_0.4 at t=3', fontsize='15')"
   ]
  },
  {
   "cell_type": "code",
   "execution_count": null,
   "id": "163eeebf-6028-4611-b871-8bad60750e65",
   "metadata": {},
   "outputs": [],
   "source": [
    "f,ax=plt.subplots()\n",
    "ax.plot(xlist[int(3/dt)],f_new_list1[int(3/dt)],'--k',label='Adams Bashforth 2')\n",
    "ax.plot(xlist[int(3/dt)],f_new_list[int(3/dt)],label='Lax Wendroff')\n",
    "ax.legend()\n",
    "ax.set_xlabel('x domain')\n",
    "ax.set_ylabel('u')\n",
    "ax.set_title('CFL_0.8 at t=3')\n",
    "#plt.figure(figsize=(4, 3), dpi=80)\n",
    "plt.savefig('AB2_Lex_CF08.jpg')\n",
    "plt.show()"
   ]
  }
 ],
 "metadata": {
  "kernelspec": {
   "display_name": "Python 3 (ipykernel)",
   "language": "python",
   "name": "python3"
  },
  "language_info": {
   "codemirror_mode": {
    "name": "ipython",
    "version": 3
   },
   "file_extension": ".py",
   "mimetype": "text/x-python",
   "name": "python",
   "nbconvert_exporter": "python",
   "pygments_lexer": "ipython3",
   "version": "3.8.13"
  }
 },
 "nbformat": 4,
 "nbformat_minor": 5
}

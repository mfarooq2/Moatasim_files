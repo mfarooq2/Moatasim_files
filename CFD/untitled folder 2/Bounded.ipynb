{
 "cells": [
  {
   "cell_type": "code",
   "execution_count": 1,
   "id": "0f845bbc-55de-400b-a59d-257d7e1e2c46",
   "metadata": {},
   "outputs": [],
   "source": [
    "import numpy as np\n",
    "import matplotlib.pyplot as plt\n",
    "def central_diff(y,h):\n",
    "    return (y[2:]-y[:-2])/(2*h)\n"
   ]
  },
  {
   "cell_type": "code",
   "execution_count": 3,
   "id": "14e18cac-60d8-4810-9803-8caf00d39b31",
   "metadata": {},
   "outputs": [
    {
     "name": "stderr",
     "output_type": "stream",
     "text": [
      "<ipython-input-3-4f52296d7d84>:5: RuntimeWarning: divide by zero encountered in true_divide\n",
      "  x=x_i/(np.sqrt(1-(x_i)**2))\n"
     ]
    }
   ],
   "source": [
    "# step size\n",
    "N=40\n",
    "x_i=np.linspace(-1,1,N+2)\n",
    "dx_i = x_i[1]-x_i[0]\n",
    "x=x_i/(np.sqrt(1-(x_i)**2))\n"
   ]
  },
  {
   "cell_type": "code",
   "execution_count": 5,
   "id": "e33e2a42-3c74-42ce-9177-f8918fa0b8b2",
   "metadata": {},
   "outputs": [],
   "source": [
    "##Function definition\n",
    "f=np.exp(-x**2)\n",
    "plt.plot(x,f)"
   ]
  },
  {
   "cell_type": "code",
   "execution_count": 12,
   "id": "dad2bf08-0020-47ee-93c8-82f1021e76b0",
   "metadata": {},
   "outputs": [],
   "source": [
    "## Numerically Compute f'\n",
    "dfdxi=np.zeros(N+2)\n",
    "for i in range(N+2):\n",
    "    if (i!=0 and i!=N+1):\n",
    "        dfdxi[i]=(f[i+1]-f[i-1])/(2*dx_i)\n",
    "    "
   ]
  },
  {
   "cell_type": "code",
   "execution_count": 13,
   "id": "6c96bfd2-173a-41eb-a0ba-e13fd8dc3206",
   "metadata": {},
   "outputs": [
    {
     "data": {
      "text/plain": [
       "array([       -inf, -3.08322072, -2.09471251, -1.63902517, -1.35629165,\n",
       "       -1.15530179, -1.00059506, -0.87507503, -0.76932182, -0.677644  ,\n",
       "       -0.59635993, -0.52295779, -0.45564783, -0.39310681, -0.33432392,\n",
       "       -0.27850333, -0.225     , -0.17327582, -0.1228683 , -0.0733674 ,\n",
       "       -0.0243975 ,  0.0243975 ,  0.0733674 ,  0.1228683 ,  0.17327582,\n",
       "        0.225     ,  0.27850333,  0.33432392,  0.39310681,  0.45564783,\n",
       "        0.52295779,  0.59635993,  0.677644  ,  0.76932182,  0.87507503,\n",
       "        1.00059506,  1.15530179,  1.35629165,  1.63902517,  2.09471251,\n",
       "        3.08322072,         inf])"
      ]
     },
     "execution_count": 13,
     "metadata": {},
     "output_type": "execute_result"
    }
   ],
   "source": [
    "x"
   ]
  },
  {
   "cell_type": "code",
   "execution_count": null,
   "id": "ad63132c-68d1-4477-a8f0-f768a3f8fcd1",
   "metadata": {},
   "outputs": [],
   "source": []
  }
 ],
 "metadata": {
  "kernelspec": {
   "display_name": "Python 3 (ipykernel)",
   "language": "python",
   "name": "python3"
  },
  "language_info": {
   "codemirror_mode": {
    "name": "ipython",
    "version": 3
   },
   "file_extension": ".py",
   "mimetype": "text/x-python",
   "name": "python",
   "nbconvert_exporter": "python",
   "pygments_lexer": "ipython3",
   "version": "3.9.12"
  }
 },
 "nbformat": 4,
 "nbformat_minor": 5
}

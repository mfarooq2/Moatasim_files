{
 "cells": [
  {
   "cell_type": "code",
   "execution_count": 28,
   "id": "24ddd2c9-dc77-49f4-aab9-74bf046789b5",
   "metadata": {},
   "outputs": [],
   "source": [
    "import numpy as np\n",
    "from scipy.optimize import minimize\n",
    "import numpy as np\n",
    "import matplotlib.pyplot as plt\n",
    "from mpl_toolkits import mplot3d\n",
    "from matplotlib.animation import FuncAnimation\n",
    "import time\n",
    "import pandas as pd\n",
    "from numpy.linalg import norm\n",
    "from itertools import count\n",
    "from IPython import display\n",
    "import seaborn as sns\n",
    "from IPython.display import HTML\n",
    "from scipy.io import loadmat\n",
    "from operator_functions.pointer_func import pointer_vector\n",
    "from operator_functions.AB_operator import A_operator,B_operator,uBC_Laplace,b_vector_creator\n",
    "from operator_functions.Conjugate_gradient import CG_solver_transient,CG_solver,CG_solver_transient_Matrix\n",
    "from operator_functions.bound_append import bound_appender\n",
    "from operator_functions.helper_util import Func_GaussElimination\n",
    "import time\n",
    "from joblib import Parallel, delayed\n",
    "from scipy.optimize import root\n",
    "from numpy import cosh, zeros_like, mgrid, zeros\n",
    "from scipy import optimize"
   ]
  },
  {
   "cell_type": "code",
   "execution_count": 2,
   "id": "ef585c79-53d7-457b-a491-32b21721f50a",
   "metadata": {},
   "outputs": [],
   "source": [
    "def hessian(fun):\n",
    "  return jit(jacfwd(jacrev(fun)))"
   ]
  },
  {
   "cell_type": "code",
   "execution_count": 29,
   "id": "a7a4b0d6-0ae5-4258-a817-b87c492370ec",
   "metadata": {},
   "outputs": [],
   "source": [
    "##diffusivity\n",
    "alpha  = 0.005 ;\n",
    "## Delta t\n",
    "dt = 0.02 ;\n",
    "## grid\n",
    "Nx=19\n",
    "Ny=19\n",
    "xtotal  = np.linspace(0,1,Nx+2)\n",
    "x=xtotal[1:Nx+1]\n",
    "ytotal  = np.linspace(0,1,Ny+2)\n",
    "y=ytotal[1:Ny+1]\n",
    "dx = x[1] - x[0] \n",
    "dy=y[1] - y[0] \n",
    "xv, yv = np.meshgrid(x, y, indexing='ij')\n",
    "X,Y=np.meshgrid(xtotal, ytotal, indexing='ij')\n",
    "kappa=0.02*np.exp(-((((xv-0.7)**2)/0.09)+(((yv-0.6)**2)/0.25)))\n",
    "b=kappa/(alpha)\n",
    "Q=np.zeros((Nx*Ny,1))\n",
    "BCB=(-0.3)*np.ones(Nx)\n",
    "BCL=0.5-0.5*np.cos(2*np.pi*y)\n",
    "BCT=0.5+0.5*np.sin(4*np.pi*x-0.5*np.pi)\n",
    "BCR=np.zeros(Ny)\n",
    "cg_iter=10\n",
    "b_residual_list=[]\n",
    "cg_iter_list=[10,50,100,200,250]\n",
    "#for cg_iter in cg_iter_list:\n",
    "#    Steady_ss,Solution_Matrix,b_residual=CG_solver(Q,b,Nx,Ny,dx,dy,BCB,BCL,BCT,BCR,cg_iter)\n",
    "#    b_residual_list.append(b_residual)\n",
    "cg_iter=100\n",
    "Steady_ss,Solution_Matrix,b_residual=CG_solver(Q,b,Nx,Ny,dx,dy,BCB,BCL,BCT,BCR,cg_iter)\n",
    "N=Nx*Ny\n",
    "matrix_A=[]\n",
    "matrix_B=[]\n",
    "\n",
    "BCB=(-0.3)*np.ones(Nx)\n",
    "BCL=0.5-0.5*np.cos(2*np.pi*y)\n",
    "BCT=0.5+0.5*np.sin(4*np.pi*x-0.5*np.pi)\n",
    "BCR=np.zeros(Ny)\n",
    "b_vector=b_vector_creator(kappa,Nx,Ny,dx,dy,BCB,BCL,BCT,BCR,dt,alpha)"
   ]
  },
  {
   "cell_type": "code",
   "execution_count": 4,
   "id": "8f80b246-36a6-44f7-ac62-d490a3a4e606",
   "metadata": {},
   "outputs": [],
   "source": []
  },
  {
   "cell_type": "code",
   "execution_count": null,
   "id": "6a5b06fe-9b1f-4c11-81ab-c0d0ebe0785e",
   "metadata": {},
   "outputs": [],
   "source": []
  },
  {
   "cell_type": "code",
   "execution_count": 21,
   "id": "4232ae4e-9891-4ffd-a2ee-13ac3141fc59",
   "metadata": {},
   "outputs": [],
   "source": [
    "def func_new(x_new,*args):\n",
    "    Q=args\n",
    "    s=B_operator(x_new,Nx,Ny,dx,dy,dt,alpha)-A_operator(Q,Nx,Ny,dx,dy,dt,alpha)-b_vector\n",
    "    return norm(s)"
   ]
  },
  {
   "cell_type": "code",
   "execution_count": 30,
   "id": "6e07fe61-b5da-4406-808f-c30e8e3cf94d",
   "metadata": {},
   "outputs": [
    {
     "name": "stdout",
     "output_type": "stream",
     "text": [
      "Warning: Desired error not necessarily achieved due to precision loss.\n",
      "         Current function value: 0.000000\n",
      "         Iterations: 16\n",
      "         Function evaluations: 24628\n",
      "         Gradient evaluations: 68\n",
      "0\n",
      "Warning: Desired error not necessarily achieved due to precision loss.\n",
      "         Current function value: 0.000000\n",
      "         Iterations: 16\n",
      "         Function evaluations: 24628\n",
      "         Gradient evaluations: 68\n",
      "1\n",
      "Warning: Desired error not necessarily achieved due to precision loss.\n",
      "         Current function value: 0.000000\n",
      "         Iterations: 16\n",
      "         Function evaluations: 24628\n",
      "         Gradient evaluations: 68\n",
      "2\n",
      "Warning: Desired error not necessarily achieved due to precision loss.\n",
      "         Current function value: 0.000000\n",
      "         Iterations: 16\n",
      "         Function evaluations: 24628\n",
      "         Gradient evaluations: 68\n",
      "3\n",
      "Warning: Desired error not necessarily achieved due to precision loss.\n",
      "         Current function value: 0.000000\n",
      "         Iterations: 16\n",
      "         Function evaluations: 24628\n",
      "         Gradient evaluations: 68\n",
      "4\n",
      "Warning: Desired error not necessarily achieved due to precision loss.\n",
      "         Current function value: 0.000000\n",
      "         Iterations: 16\n",
      "         Function evaluations: 24628\n",
      "         Gradient evaluations: 68\n",
      "5\n",
      "Warning: Desired error not necessarily achieved due to precision loss.\n",
      "         Current function value: 0.000000\n",
      "         Iterations: 16\n",
      "         Function evaluations: 24628\n",
      "         Gradient evaluations: 68\n",
      "6\n",
      "Warning: Desired error not necessarily achieved due to precision loss.\n",
      "         Current function value: 0.000000\n",
      "         Iterations: 16\n",
      "         Function evaluations: 24628\n",
      "         Gradient evaluations: 68\n",
      "7\n",
      "Warning: Desired error not necessarily achieved due to precision loss.\n",
      "         Current function value: 0.000000\n",
      "         Iterations: 16\n",
      "         Function evaluations: 24628\n",
      "         Gradient evaluations: 68\n",
      "8\n",
      "Warning: Desired error not necessarily achieved due to precision loss.\n",
      "         Current function value: 0.000000\n",
      "         Iterations: 16\n",
      "         Function evaluations: 24628\n",
      "         Gradient evaluations: 68\n",
      "9\n"
     ]
    }
   ],
   "source": [
    "sol_list=[]\n",
    "x_new=Q\n",
    "for i in range(10):\n",
    "    res1 = optimize.fmin_cg(func_new, x_new, args=Q)\n",
    "    sol_list.append(res1)\n",
    "    print(i)"
   ]
  },
  {
   "cell_type": "code",
   "execution_count": 31,
   "id": "ef7a5fcb-4c6c-48ba-9bfc-95392d8b688c",
   "metadata": {},
   "outputs": [],
   "source": [
    "Mat_sol=np.zeros((Nx,Ny))\n",
    "iQ=pointer_vector(Nx, Ny)\n",
    "for i in range(0,Nx):\n",
    "    for j in range(0,Ny):\n",
    "        Mat_sol[i,j] = res1[iQ[i, j]]"
   ]
  },
  {
   "cell_type": "code",
   "execution_count": 32,
   "id": "d99802e1-9075-4a91-915f-71f7681271d3",
   "metadata": {},
   "outputs": [
    {
     "data": {
      "image/png": "[encoded data removed]",
      "text/plain": [
       "<Figure size 640x480 with 2 Axes>"
      ]
     },
     "metadata": {},
     "output_type": "display_data"
    }
   ],
   "source": [
    "fig,ax=plt.subplots(1,1)\n",
    "cp = ax.contourf(xv, yv, Mat_sol)\n",
    "fig.colorbar(cp)\n",
    "ax.set_title('Filled Contours Plot')\n",
    "ax.set_xlabel('x (units)')\n",
    "ax.set_ylabel('y (units)')\n",
    "plt.show()"
   ]
  },
  {
   "cell_type": "code",
   "execution_count": 7,
   "id": "cc543df3-68dc-405b-aaf7-6b2a69ec0ec5",
   "metadata": {},
   "outputs": [],
   "source": [
    "    kappa_base=0.02*np.exp(-((((xv-0.7)**2)/0.09)+(((yv-0.6)**2)/0.25)))\n",
    "    kappa=dt*kappa_base\n",
    "    Q=np.zeros((Nx*Ny,1))\n",
    "    norm_list=[]\n",
    "    b_vector=b_vector_creator(kappa,Nx,Ny,dx,dy,BCB,BCL,BCT,BCR,dt,alpha)\n",
    "    b=A_operator(Q,Nx,Ny,dx,dy,dt,alpha)+b_vector\n",
    "    for it in range(100):\n",
    "        Q=root(func_new, np.zeros((Nx*Ny,1)), method='df-sane',args=(Q)).x\n",
    "        norm_l2 = (norm(Q-Steady_ss))/(norm(Steady_ss))\n",
    "        if it%10==0:\n",
    "            print(it*dt,norm_l2)\n",
    "        norm_list.append(norm_l2)\n",
    "        if norm_l2<1e-4:\n",
    "            break\n",
    "        if it>3:\n",
    "            if (norm_list[-1]-norm_list[-2])>0:\n",
    "                break\n",
    "    return Q,norm_list"
   ]
  },
  {
   "cell_type": "code",
   "execution_count": 8,
   "id": "ffa6f894-57b7-488e-8daf-d5f9b1693ff6",
   "metadata": {},
   "outputs": [
    {
     "name": "stdout",
     "output_type": "stream",
     "text": [
      "0 0.9890542964092446\n",
      "10 0.8869355150914063\n",
      "20 0.7936964640195268\n",
      "30 0.7078029016475909\n",
      "40 0.6299433515600601\n",
      "50 0.5618997170946339\n",
      "60 0.5063739903525999\n",
      "70 0.4667440243730494\n",
      "80 0.44627637752577387\n"
     ]
    }
   ],
   "source": [
    "Q,norm_list=timer_iteration(1)"
   ]
  },
  {
   "cell_type": "code",
   "execution_count": null,
   "id": "a40b208b-bedc-4ade-be51-e065dc0fb977",
   "metadata": {},
   "outputs": [],
   "source": [
    "norm_list_total=[]\n",
    "iter_list_total=[]\n",
    "t = time.time()\n",
    "results = Parallel(n_jobs=2)(delayed(timer_iteration)(dt) for dt in [0.1,1,5,10])\n",
    "print(time.time()-t)"
   ]
  },
  {
   "cell_type": "code",
   "execution_count": null,
   "id": "adb68a8b-c7d0-46ca-81fc-46f38e73de68",
   "metadata": {},
   "outputs": [],
   "source": []
  }
 ],
 "metadata": {
  "kernelspec": {
   "display_name": "Python 3 (ipykernel)",
   "language": "python",
   "name": "python3"
  },
  "language_info": {
   "codemirror_mode": {
    "name": "ipython",
    "version": 3
   },
   "file_extension": ".py",
   "mimetype": "text/x-python",
   "name": "python",
   "nbconvert_exporter": "python",
   "pygments_lexer": "ipython3",
   "version": "3.8.13"
  }
 },
 "nbformat": 4,
 "nbformat_minor": 5
}

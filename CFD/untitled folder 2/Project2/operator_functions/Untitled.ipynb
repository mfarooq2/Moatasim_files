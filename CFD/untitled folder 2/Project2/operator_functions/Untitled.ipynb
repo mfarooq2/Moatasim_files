{
 "cells": [
  {
   "cell_type": "code",
   "execution_count": 1,
   "id": "c536242c-2e74-40b5-8a6e-2af27816d047",
   "metadata": {},
   "outputs": [],
   "source": [
    "import numpy as np"
   ]
  },
  {
   "cell_type": "code",
   "execution_count": 37,
   "id": "895dff0e-c4f6-4622-924c-73b2410d827f",
   "metadata": {},
   "outputs": [
    {
     "data": {
      "text/plain": [
       "1.7032133175042506e-05"
      ]
     },
     "execution_count": 37,
     "metadata": {},
     "output_type": "execute_result"
    }
   ],
   "source": [
    "αc=0.04\n",
    "#Dv=0.242e-04\n",
    "Dv=0.2485e-04\n",
    "M=18\n",
    "R=8.31\n",
    "rho=1000\n",
    "dp=2e-06\n",
    "Sr=1.02\n",
    "P=np.exp(16.7-(4060/(T-37)))\n",
    "P_inf=Sr*P\n",
    "T=293\n",
    "(4*Dv*M/(R*rho*dp*T))*(P_inf-P)"
   ]
  },
  {
   "cell_type": "code",
   "execution_count": 22,
   "id": "e66d9605-2718-4adb-b90d-2e26d0489da9",
   "metadata": {},
   "outputs": [
    {
     "data": {
      "text/plain": [
       "5.691984323432344e-05"
      ]
     },
     "execution_count": 22,
     "metadata": {},
     "output_type": "execute_result"
    }
   ],
   "source": [
    "(17e-06/(P_inf-P))*(R*rho*dp*T)/(4*M)"
   ]
  },
  {
   "cell_type": "code",
   "execution_count": 16,
   "id": "62208136-4bcb-4158-b3ae-9ab59380b64c",
   "metadata": {},
   "outputs": [
    {
     "data": {
      "text/plain": [
       "1.169929049464097"
      ]
     },
     "execution_count": 16,
     "metadata": {},
     "output_type": "execute_result"
    }
   ],
   "source": [
    "2.79/P_inf"
   ]
  },
  {
   "cell_type": "code",
   "execution_count": 29,
   "id": "0624a5ae-96ed-445e-84e0-c23a263533d1",
   "metadata": {},
   "outputs": [
    {
     "data": {
      "text/plain": [
       "2.317815158651271"
      ]
     },
     "execution_count": 29,
     "metadata": {},
     "output_type": "execute_result"
    }
   ],
   "source": []
  },
  {
   "cell_type": "code",
   "execution_count": 82,
   "id": "b9353d78-9113-4e6e-aa73-37e09a910d1f",
   "metadata": {},
   "outputs": [
    {
     "data": {
      "text/plain": [
       "0.3692190518368324"
      ]
     },
     "execution_count": 82,
     "metadata": {},
     "output_type": "execute_result"
    }
   ],
   "source": [
    "αc=0.04\n",
    "Dv=0.242e-04\n",
    "#Dv=0.2485e-04\n",
    "M=18\n",
    "R=8.31\n",
    "rho=1000\n",
    "dp=20e-06\n",
    "Sr=0.6\n",
    "T_inf=293\n",
    "Td=(T_inf-273)+((((6.65+0.345*(T_inf-273)+0.0031*((T_inf-273)**2)))*(Sr-1))/(1+(0.82+0.00782*(T_inf-273))*Sr))\n",
    "Td=Td+273\n",
    "P=np.exp(16.7-(4060/(Td-37)))\n",
    "P_inf=Sr*P\n",
    "#P_inf=1.573\n",
    "\n",
    "((R*rho*(dp**2))/(8*Dv*M*((P/Td)-(P_inf/T_inf))))"
   ]
  },
  {
   "cell_type": "code",
   "execution_count": 88,
   "id": "1743b5d3-3cdb-4ca8-a500-e59470aff592",
   "metadata": {},
   "outputs": [
    {
     "data": {
      "text/plain": [
       "1.7324782106818055"
      ]
     },
     "execution_count": 88,
     "metadata": {},
     "output_type": "execute_result"
    }
   ],
   "source": [
    "N=3e9\n",
    "k=7e-10\n",
    "t=2\n",
    "(1/(1+N*k*t))**(-1/3)"
   ]
  },
  {
   "cell_type": "code",
   "execution_count": 89,
   "id": "37195d23-7676-455e-afff-8fccbe793bd3",
   "metadata": {},
   "outputs": [
    {
     "data": {
      "text/plain": [
       "0.1923076923076923"
      ]
     },
     "execution_count": 89,
     "metadata": {},
     "output_type": "execute_result"
    }
   ],
   "source": [
    "(1/(1+N*k*t))"
   ]
  },
  {
   "cell_type": "code",
   "execution_count": 74,
   "id": "249067b4-f771-4b52-9855-073486676d42",
   "metadata": {},
   "outputs": [
    {
     "data": {
      "text/plain": [
       "1.833266704151406"
      ]
     },
     "execution_count": 74,
     "metadata": {},
     "output_type": "execute_result"
    }
   ],
   "source": [
    "P"
   ]
  },
  {
   "cell_type": "code",
   "execution_count": null,
   "id": "cfd85421-9487-417f-a5ce-1c8e3260760b",
   "metadata": {},
   "outputs": [],
   "source": []
  }
 ],
 "metadata": {
  "kernelspec": {
   "display_name": "Python 3 (ipykernel)",
   "language": "python",
   "name": "python3"
  },
  "language_info": {
   "codemirror_mode": {
    "name": "ipython",
    "version": 3
   },
   "file_extension": ".py",
   "mimetype": "text/x-python",
   "name": "python",
   "nbconvert_exporter": "python",
   "pygments_lexer": "ipython3",
   "version": "3.8.13"
  }
 },
 "nbformat": 4,
 "nbformat_minor": 5
}

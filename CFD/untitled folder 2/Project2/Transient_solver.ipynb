{
 "cells": [
  {
   "cell_type": "code",
   "execution_count": 4,
   "id": "1aae77f5-316a-428e-971f-4898ee974ac1",
   "metadata": {},
   "outputs": [],
   "source": [
    "import numpy as np\n",
    "import jax.numpy as jnp\n",
    "from jax import grad, jit, vmap\n",
    "from jax import random\n",
    "import matplotlib.pyplot as plt\n",
    "from mpl_toolkits import mplot3d\n",
    "from matplotlib.animation import FuncAnimation\n",
    "import time\n",
    "import pandas as pd\n",
    "from numpy.linalg import norm\n",
    "from itertools import count\n",
    "from IPython import display\n",
    "import seaborn as sns\n",
    "from IPython.display import HTML\n",
    "#from scipy.io import loadmat\n",
    "from operator_functions.pointer_func import pointer_vector\n",
    "from operator_functions.AB_operator import A_operator,B_operator,uBC_Laplace,b_vector_creator\n",
    "from operator_functions.Conjugate_gradient import CG_solver,CG_solver_transient_Matrix,CG_solver_transient\n",
    "from operator_functions.bound_append import bound_appender\n",
    "from operator_functions.helper_util import Func_GaussElimination,plotter_animation_contour\n",
    "import time\n",
    "from joblib import Parallel, delayed"
   ]
  },
  {
   "cell_type": "code",
   "execution_count": 107,
   "id": "80d0baf8-f208-4aa7-a8d1-f097cd2854fc",
   "metadata": {},
   "outputs": [],
   "source": [
    "##diffusivity\n",
    "alpha  = 0.005 ;\n",
    "## Delta t\n",
    "dt = 0.02 ;\n",
    "## grid\n",
    "Nx=9\n",
    "Ny=10\n",
    "xtotal  = np.linspace(0,1,Nx+2)\n",
    "x=xtotal[1:Nx+1]\n",
    "ytotal  = np.linspace(0,1,Ny+2)\n",
    "y=ytotal[1:Ny+1]\n",
    "dx = x[1] - x[0] \n",
    "dy=y[1] - y[0] \n",
    "xv, yv = np.meshgrid(x, y, indexing='ij')\n",
    "X,Y=np.meshgrid(xtotal, ytotal, indexing='ij')\n",
    "kappa=0.02*np.exp(-((((xv-0.7)**2)/0.09)+(((yv-0.6)**2)/0.25)))\n",
    "b=-1*kappa/(alpha)\n",
    "Q=np.zeros((Nx*Ny,1))\n",
    "BCB=(-0.3)*np.ones(Nx)\n",
    "BCL=0.5-0.5*np.cos(2*np.pi*y)\n",
    "BCT=0.5+0.5*np.sin(4*np.pi*x-0.5*np.pi)\n",
    "BCR=np.zeros(Ny)\n",
    "b_residual_list=[]\n",
    "cg_iter_list=[10,50,100,200,250]\n",
    "#for cg_iter in cg_iter_list:\n",
    "#    Steady_ss,Solution_Matrix,b_residual=CG_solver(Q,b,Nx,Ny,dx,dy,BCB,BCL,BCT,BCR,cg_iter)\n",
    "#    b_residual_list.append(b_residual)\n",
    "cg_iter=100\n",
    "Steady_ss,Solution_Matrix,b_residual=CG_solver(Q,b,Nx,Ny,dx,dy,BCB,BCL,BCT,BCR,cg_iter)\n",
    "N=Nx*Ny\n",
    "matrix_A=[]\n",
    "matrix_B=[]\n",
    "\n",
    "BCB=(-0.3)*np.ones(Nx)\n",
    "BCL=0.5-0.5*np.cos(2*np.pi*y)\n",
    "BCT=0.5+0.5*np.sin(4*np.pi*x-0.5*np.pi)\n",
    "BCR=np.zeros(Ny)\n",
    "\n",
    "for i in range(N):\n",
    "   Q=np.zeros((N,1))\n",
    "   Q[i,0]=1\n",
    "   matrix_A.append(list(A_operator(Q,Nx,Ny,dx,dy,dt,alpha)[:,0]))\n",
    "    \n",
    "   Q=np.zeros((N,1))\n",
    "   Q[i,0]=1\n",
    "   matrix_B.append(list(B_operator(Q,Nx,Ny,dx,dy,dt,alpha)[:,0]))\n",
    "matrix_A=np.array(matrix_A)\n",
    "inv_A=np.linalg.inv(matrix_A)\n",
    "matrix_B=np.array(matrix_B)\n",
    "inv_B=np.linalg.inv(matrix_B)\n",
    "dt_range=[0.01,0.1,1,10]"
   ]
  },
  {
   "cell_type": "code",
   "execution_count": 126,
   "id": "16f9b9d8-e3e0-49b5-839b-1e78237a7cf4",
   "metadata": {},
   "outputs": [],
   "source": [
    "Nx=9\n",
    "Ny=10\n",
    "iQ=pointer_vector(Nx, Ny)\n",
    "#u_new_s=np.arange(0,len(Steady_ss)).reshape(Nx,Ny)\n",
    "#u_vec_s=np.reshape(Steady_ss, (Nx,Ny), order='C')\n",
    "#xv, yv = np.meshgrid(x, y, indexing='ij')\n",
    "u_new_s=np.arange(0,Nx*Ny).reshape(Nx,Ny)\n",
    "u_new_s[:,0]=0\n",
    "u_new_s[:,1]=0\n",
    "#u_vec_s=np.reshape(u_new_s[0:iu[-1,-1]+1], (nx-1,ny), order='C')"
   ]
  },
  {
   "cell_type": "code",
   "execution_count": 127,
   "id": "8702180c-cbca-46d7-a63d-a6a48acc9da5",
   "metadata": {},
   "outputs": [
    {
     "data": {
      "image/png": "[encoded data removed]",
      "text/plain": [
       "<Figure size 640x480 with 2 Axes>"
      ]
     },
     "metadata": {},
     "output_type": "display_data"
    }
   ],
   "source": [
    "fig,ax=plt.subplots(1,1)\n",
    "cp = ax.contourf(xv, yv, u_new_s)\n",
    "fig.colorbar(cp)\n",
    "ax.set_title('Filled Contours Plot')\n",
    "ax.set_xlabel('x (units)')\n",
    "ax.set_ylabel('y (units)')\n",
    "plt.show()"
   ]
  },
  {
   "cell_type": "code",
   "execution_count": 128,
   "id": "8861229f-ad73-4af9-a234-864ca4551225",
   "metadata": {},
   "outputs": [],
   "source": [
    "vis_mat=pd.DataFrame(u_new_s.T)\n",
    "vis_mat=vis_mat[::-1]\n",
    "vis_mat.columns=[f\"x={i}\" for i in vis_mat.columns]\n",
    "vis_mat.index=[f\"y={i}\" for i in vis_mat.index]"
   ]
  },
  {
   "cell_type": "code",
   "execution_count": 129,
   "id": "9553194c-edf9-4b0d-bc96-00993bf15fba",
   "metadata": {},
   "outputs": [
    {
     "data": {
      "text/html": [
       "<div>\n",
       "<style scoped>\n",
       "    .dataframe tbody tr th:only-of-type {\n",
       "        vertical-align: middle;\n",
       "    }\n",
       "\n",
       "    .dataframe tbody tr th {\n",
       "        vertical-align: top;\n",
       "    }\n",
       "\n",
       "    .dataframe thead th {\n",
       "        text-align: right;\n",
       "    }\n",
       "</style>\n",
       "<table border=\"1\" class=\"dataframe\">\n",
       "  <thead>\n",
       "    <tr style=\"text-align: right;\">\n",
       "      <th></th>\n",
       "      <th>x=0</th>\n",
       "      <th>x=1</th>\n",
       "      <th>x=2</th>\n",
       "      <th>x=3</th>\n",
       "      <th>x=4</th>\n",
       "      <th>x=5</th>\n",
       "      <th>x=6</th>\n",
       "      <th>x=7</th>\n",
       "      <th>x=8</th>\n",
       "    </tr>\n",
       "  </thead>\n",
       "  <tbody>\n",
       "    <tr>\n",
       "      <th>y=9</th>\n",
       "      <td>9</td>\n",
       "      <td>19</td>\n",
       "      <td>29</td>\n",
       "      <td>39</td>\n",
       "      <td>49</td>\n",
       "      <td>59</td>\n",
       "      <td>69</td>\n",
       "      <td>79</td>\n",
       "      <td>89</td>\n",
       "    </tr>\n",
       "    <tr>\n",
       "      <th>y=8</th>\n",
       "      <td>8</td>\n",
       "      <td>18</td>\n",
       "      <td>28</td>\n",
       "      <td>38</td>\n",
       "      <td>48</td>\n",
       "      <td>58</td>\n",
       "      <td>68</td>\n",
       "      <td>78</td>\n",
       "      <td>88</td>\n",
       "    </tr>\n",
       "    <tr>\n",
       "      <th>y=7</th>\n",
       "      <td>7</td>\n",
       "      <td>17</td>\n",
       "      <td>27</td>\n",
       "      <td>37</td>\n",
       "      <td>47</td>\n",
       "      <td>57</td>\n",
       "      <td>67</td>\n",
       "      <td>77</td>\n",
       "      <td>87</td>\n",
       "    </tr>\n",
       "    <tr>\n",
       "      <th>y=6</th>\n",
       "      <td>6</td>\n",
       "      <td>16</td>\n",
       "      <td>26</td>\n",
       "      <td>36</td>\n",
       "      <td>46</td>\n",
       "      <td>56</td>\n",
       "      <td>66</td>\n",
       "      <td>76</td>\n",
       "      <td>86</td>\n",
       "    </tr>\n",
       "    <tr>\n",
       "      <th>y=5</th>\n",
       "      <td>5</td>\n",
       "      <td>15</td>\n",
       "      <td>25</td>\n",
       "      <td>35</td>\n",
       "      <td>45</td>\n",
       "      <td>55</td>\n",
       "      <td>65</td>\n",
       "      <td>75</td>\n",
       "      <td>85</td>\n",
       "    </tr>\n",
       "    <tr>\n",
       "      <th>y=4</th>\n",
       "      <td>4</td>\n",
       "      <td>14</td>\n",
       "      <td>24</td>\n",
       "      <td>34</td>\n",
       "      <td>44</td>\n",
       "      <td>54</td>\n",
       "      <td>64</td>\n",
       "      <td>74</td>\n",
       "      <td>84</td>\n",
       "    </tr>\n",
       "    <tr>\n",
       "      <th>y=3</th>\n",
       "      <td>3</td>\n",
       "      <td>13</td>\n",
       "      <td>23</td>\n",
       "      <td>33</td>\n",
       "      <td>43</td>\n",
       "      <td>53</td>\n",
       "      <td>63</td>\n",
       "      <td>73</td>\n",
       "      <td>83</td>\n",
       "    </tr>\n",
       "    <tr>\n",
       "      <th>y=2</th>\n",
       "      <td>2</td>\n",
       "      <td>12</td>\n",
       "      <td>22</td>\n",
       "      <td>32</td>\n",
       "      <td>42</td>\n",
       "      <td>52</td>\n",
       "      <td>62</td>\n",
       "      <td>72</td>\n",
       "      <td>82</td>\n",
       "    </tr>\n",
       "    <tr>\n",
       "      <th>y=1</th>\n",
       "      <td>0</td>\n",
       "      <td>0</td>\n",
       "      <td>0</td>\n",
       "      <td>0</td>\n",
       "      <td>0</td>\n",
       "      <td>0</td>\n",
       "      <td>0</td>\n",
       "      <td>0</td>\n",
       "      <td>0</td>\n",
       "    </tr>\n",
       "    <tr>\n",
       "      <th>y=0</th>\n",
       "      <td>0</td>\n",
       "      <td>0</td>\n",
       "      <td>0</td>\n",
       "      <td>0</td>\n",
       "      <td>0</td>\n",
       "      <td>0</td>\n",
       "      <td>0</td>\n",
       "      <td>0</td>\n",
       "      <td>0</td>\n",
       "    </tr>\n",
       "  </tbody>\n",
       "</table>\n",
       "</div>"
      ],
      "text/plain": [
       "     x=0  x=1  x=2  x=3  x=4  x=5  x=6  x=7  x=8\n",
       "y=9    9   19   29   39   49   59   69   79   89\n",
       "y=8    8   18   28   38   48   58   68   78   88\n",
       "y=7    7   17   27   37   47   57   67   77   87\n",
       "y=6    6   16   26   36   46   56   66   76   86\n",
       "y=5    5   15   25   35   45   55   65   75   85\n",
       "y=4    4   14   24   34   44   54   64   74   84\n",
       "y=3    3   13   23   33   43   53   63   73   83\n",
       "y=2    2   12   22   32   42   52   62   72   82\n",
       "y=1    0    0    0    0    0    0    0    0    0\n",
       "y=0    0    0    0    0    0    0    0    0    0"
      ]
     },
     "execution_count": 129,
     "metadata": {},
     "output_type": "execute_result"
    }
   ],
   "source": [
    "vis_mat"
   ]
  },
  {
   "cell_type": "code",
   "execution_count": 106,
   "id": "0afd9c12-d64f-4f12-849f-80d314a26093",
   "metadata": {},
   "outputs": [
    {
     "data": {
      "text/plain": [
       "(10, 10)"
      ]
     },
     "execution_count": 106,
     "metadata": {},
     "output_type": "execute_result"
    }
   ],
   "source": [
    "u_new_s.shape"
   ]
  },
  {
   "cell_type": "code",
   "execution_count": null,
   "id": "3553e323-b7a6-4304-8cf9-ffbbe8e20e82",
   "metadata": {},
   "outputs": [],
   "source": [
    "def is_hermitian_positive_semidefinite(X):\n",
    "    if X.shape[0] != X.shape[1]: # must be a square matrix\n",
    "        return False\n",
    "\n",
    "    if not np.all( X - X.T == 0 ): # must be a symmetric or hermitian matrix\n",
    "        return False\n",
    "\n",
    "    try: # Cholesky decomposition fails for matrices that are NOT positive definite.\n",
    "\n",
    "        # But since the matrix may be positive SEMI-definite due to rank deficiency\n",
    "        # we must regularize.\n",
    "        regularized_X = X + np.eye(X.shape[0]) * 1e-14\n",
    "\n",
    "        np.linalg.cholesky(regularized_X)\n",
    "    except np.linalg.LinAlgError:\n",
    "        return False\n",
    "\n",
    "    return True"
   ]
  },
  {
   "cell_type": "code",
   "execution_count": null,
   "id": "0fb671ef-7215-4a04-a16a-eb841bf23665",
   "metadata": {},
   "outputs": [],
   "source": [
    "is_hermitian_positive_semidefinite(matrix_B)"
   ]
  },
  {
   "cell_type": "code",
   "execution_count": null,
   "id": "cc6a7eba-7bc8-4619-88e0-3d0a57b4e951",
   "metadata": {},
   "outputs": [],
   "source": [
    "plt.plot([i for i in range(len(b_residual))],b_residual,label=f\"cg_iter={cg_iter}\")\n",
    "plt.legend()\n",
    "plt.show()"
   ]
  },
  {
   "cell_type": "code",
   "execution_count": null,
   "id": "476faf1b-5a39-48e8-aefa-705299e6eb4d",
   "metadata": {},
   "outputs": [],
   "source": [
    "def timer_iteration(dt):\n",
    "    kappa=dt*kappa_base\n",
    "    Q=np.zeros((Nx*Ny,1))\n",
    "    norm_list=[]\n",
    "    b_vector=b_vector_creator(kappa,Nx,Ny,dx,dy,BCB,BCL,BCT,BCR,dt,alpha)\n",
    "    for it in range(100):\n",
    "        b=A_operator(Q,Nx,Ny,dx,dy,dt,alpha)+b_vector\n",
    "        Q,Solution_Matrix=CG_solver_transient(Q,b,Nx,Ny,dx,dy,BCB,BCL,BCT,BCR,dt,alpha)\n",
    "        norm_l2 = (norm(Q-Steady_ss))/(norm(Steady_ss))\n",
    "        if it%10==0:\n",
    "            print(it*dt,norm_l2)\n",
    "        norm_list.append(norm_l2)\n",
    "        if norm_l2<1e-4:\n",
    "            break\n",
    "    return Q,norm_list"
   ]
  },
  {
   "cell_type": "code",
   "execution_count": null,
   "id": "87a61304-644e-4c98-bb77-674af6dd8ee8",
   "metadata": {},
   "outputs": [],
   "source": [
    "norm_list_total=[]\n",
    "iter_list_total=[]\n",
    "t = time.time()\n",
    "results = Parallel(n_jobs=2)(delayed(timer_iteration)(dt) for dt in [0.1,1,5,10])\n",
    "print(time.time()-t)"
   ]
  },
  {
   "cell_type": "code",
   "execution_count": null,
   "id": "3c26d3c3-f4ff-4cf7-be62-beab46c52492",
   "metadata": {},
   "outputs": [],
   "source": [
    "plt.plot([i for i in range(len(results[0]))],results[0],label=f\"dt={dt_range[0]}\")\n",
    "plt.plot([i for i in range(len(results[1]))],results[1],label=f\"dt={dt_range[1]}\")\n",
    "plt.plot([i for i in range(len(results[2]))],results[2],label=f\"dt={dt_range[2]}\")\n",
    "plt.plot([i for i in range(len(results[3]))],results[3],label=f\"dt={dt_range[3]}\")\n",
    "plt.legend()\n",
    "plt.show()"
   ]
  },
  {
   "cell_type": "code",
   "execution_count": 3,
   "id": "08b34c5e-ca96-4ef4-994e-bd1c7a65faa1",
   "metadata": {},
   "outputs": [
    {
     "name": "stdout",
     "output_type": "stream",
     "text": [
      "0 0.9290678061669092\n",
      "10 0.6335861370956881\n",
      "20 0.4437174274716311\n",
      "30 0.3010499245879097\n",
      "40 0.19257603148666466\n",
      "50 0.11163725727388547\n",
      "60 0.05800721559987832\n",
      "70 0.04721691352272086\n",
      "80 0.06966694905242383\n",
      "90 0.09466050723104692\n",
      "100 0.11562314940084588\n",
      "110 0.13231490527061118\n",
      "120 0.14539306351376924\n",
      "130 0.15557135720630952\n",
      "140 0.16346654418221732\n",
      "150 0.16957932980289747\n",
      "160 0.17430690527470286\n",
      "170 0.17796039433692024\n",
      "180 0.18078257845666337\n",
      "190 0.18296176523909902\n",
      "200 0.18464414935457157\n",
      "210 0.18594266029027293\n",
      "220 0.18694466472945862\n",
      "230 0.18771783034876294\n",
      "240 0.1883140233072831\n",
      "250 0.18877350630603826\n",
      "260 0.1891282366096929\n",
      "270 0.18940038624802677\n",
      "280 0.18961071931415496\n",
      "290 0.1897717664693979\n",
      "300 0.18989268123810235\n",
      "310 0.18998186713037057\n",
      "320 0.19004184369700677\n",
      "330 0.1900823535472766\n",
      "340 0.19010015744100553\n",
      "350 0.19010761750169483\n",
      "360 0.19011483829913212\n",
      "370 0.19012182724314697\n",
      "380 0.19012859177698102\n",
      "390 0.19013513910583402\n",
      "400 0.19014147620359764\n",
      "410 0.19014760982027715\n",
      "420 0.1901535464891767\n",
      "430 0.190159292533855\n",
      "440 0.1901648540748574\n",
      "450 0.19017023703623195\n",
      "460 0.19017544715183676\n",
      "470 0.19018048997144466\n",
      "480 0.19018537086665196\n",
      "490 0.19019009503659814\n",
      "500 0.19019466751350117\n"
     ]
    },
    {
     "ename": "KeyboardInterrupt",
     "evalue": "",
     "output_type": "error",
     "traceback": [
      "\u001b[0;31m---------------------------------------------------------------------------\u001b[0m",
      "\u001b[0;31mKeyboardInterrupt\u001b[0m                         Traceback (most recent call last)",
      "Input \u001b[0;32mIn [3]\u001b[0m, in \u001b[0;36m<cell line: 7>\u001b[0;34m()\u001b[0m\n\u001b[1;32m     17\u001b[0m \u001b[38;5;66;03m#b_vector=b_vector_creator(kappa,Nx,Ny,dx,dy,BCB,BCL,BCT,BCR,dt,alpha)\u001b[39;00m\n\u001b[1;32m     18\u001b[0m \u001b[38;5;28;01mfor\u001b[39;00m it \u001b[38;5;129;01min\u001b[39;00m \u001b[38;5;28mrange\u001b[39m(\u001b[38;5;241m1000\u001b[39m):\n\u001b[1;32m     19\u001b[0m     \u001b[38;5;66;03m#b=A_operator(Q,Nx,Ny,dx,dy,dt,alpha)+b_vector\u001b[39;00m\n\u001b[0;32m---> 20\u001b[0m     Q,Solution_Matrix,b_residual\u001b[38;5;241m=\u001b[39m\u001b[43mCG_solver_transient\u001b[49m\u001b[43m(\u001b[49m\u001b[43mQ\u001b[49m\u001b[43m,\u001b[49m\u001b[43mkappa\u001b[49m\u001b[43m,\u001b[49m\u001b[43mNx\u001b[49m\u001b[43m,\u001b[49m\u001b[43mNy\u001b[49m\u001b[43m,\u001b[49m\u001b[43mdx\u001b[49m\u001b[43m,\u001b[49m\u001b[43mdy\u001b[49m\u001b[43m,\u001b[49m\u001b[43mBCB\u001b[49m\u001b[43m,\u001b[49m\u001b[43mBCL\u001b[49m\u001b[43m,\u001b[49m\u001b[43mBCT\u001b[49m\u001b[43m,\u001b[49m\u001b[43mBCR\u001b[49m\u001b[43m,\u001b[49m\u001b[43mdt\u001b[49m\u001b[43m,\u001b[49m\u001b[43malpha\u001b[49m\u001b[43m)\u001b[49m\n\u001b[1;32m     21\u001b[0m     norm_l2 \u001b[38;5;241m=\u001b[39m (norm(Q\u001b[38;5;241m-\u001b[39mSteady_ss))\u001b[38;5;241m/\u001b[39m(norm(Steady_ss))\n\u001b[1;32m     22\u001b[0m     \u001b[38;5;28;01mif\u001b[39;00m it\u001b[38;5;241m%\u001b[39m\u001b[38;5;241m10\u001b[39m\u001b[38;5;241m==\u001b[39m\u001b[38;5;241m0\u001b[39m:\n",
      "File \u001b[0;32m~/Desktop/CFD/Project2/operator_functions/Conjugate_gradient.py:55\u001b[0m, in \u001b[0;36mCG_solver_transient\u001b[0;34m(Q, kappa, Nx, Ny, dx, dy, BCB, BCL, BCT, BCR, dt, alpha)\u001b[0m\n\u001b[1;32m     53\u001b[0m d_old\u001b[38;5;241m=\u001b[39md_new\n\u001b[1;32m     54\u001b[0m r_old\u001b[38;5;241m=\u001b[39mr_new\n\u001b[0;32m---> 55\u001b[0m l2_norm\u001b[38;5;241m=\u001b[39mnorm(b\u001b[38;5;241m-\u001b[39m\u001b[43mB_operator\u001b[49m\u001b[43m(\u001b[49m\u001b[43mQ\u001b[49m\u001b[43m,\u001b[49m\u001b[43mNx\u001b[49m\u001b[43m,\u001b[49m\u001b[43mNy\u001b[49m\u001b[43m,\u001b[49m\u001b[43mdx\u001b[49m\u001b[43m,\u001b[49m\u001b[43mdy\u001b[49m\u001b[43m,\u001b[49m\u001b[43mdt\u001b[49m\u001b[43m,\u001b[49m\u001b[43malpha\u001b[49m\u001b[43m)\u001b[49m)\n\u001b[1;32m     56\u001b[0m b_residual\u001b[38;5;241m.\u001b[39mappend(l2_norm)\n\u001b[1;32m     57\u001b[0m \u001b[38;5;28;01mif\u001b[39;00m l2_norm\u001b[38;5;241m<\u001b[39m\u001b[38;5;241m0.0001\u001b[39m:\n",
      "File \u001b[0;32m~/Desktop/CFD/Project2/operator_functions/AB_operator.py:69\u001b[0m, in \u001b[0;36mB_operator\u001b[0;34m(Q, Nx, Ny, dx, dy, dt, alpha)\u001b[0m\n\u001b[1;32m     67\u001b[0m \u001b[38;5;28;01mfor\u001b[39;00m i \u001b[38;5;129;01min\u001b[39;00m \u001b[38;5;28mrange\u001b[39m(\u001b[38;5;241m1\u001b[39m,Nx\u001b[38;5;241m-\u001b[39m\u001b[38;5;241m1\u001b[39m):\n\u001b[1;32m     68\u001b[0m     \u001b[38;5;28;01mfor\u001b[39;00m j \u001b[38;5;129;01min\u001b[39;00m \u001b[38;5;28mrange\u001b[39m(\u001b[38;5;241m1\u001b[39m,Ny\u001b[38;5;241m-\u001b[39m\u001b[38;5;241m1\u001b[39m):\n\u001b[0;32m---> 69\u001b[0m         Y[iQ[i, j]] \u001b[38;5;241m=\u001b[39m Q[iQ[i, j]]\u001b[38;5;241m-\u001b[39m(\u001b[43malpha\u001b[49m\u001b[38;5;241;43m*\u001b[39;49m\u001b[43mdt\u001b[49m\u001b[38;5;241;43m/\u001b[39;49m\u001b[38;5;241;43m2\u001b[39;49m)\u001b[38;5;241m*\u001b[39m(((Q[iQ[i\u001b[38;5;241m-\u001b[39m\u001b[38;5;241m1\u001b[39m, j]] \u001b[38;5;241m-\u001b[39m \u001b[38;5;241m2\u001b[39m\u001b[38;5;241m*\u001b[39mQ[iQ[i, j]] \u001b[38;5;241m+\u001b[39m Q[iQ[i\u001b[38;5;241m+\u001b[39m\u001b[38;5;241m1\u001b[39m, j]] ) \u001b[38;5;241m/\u001b[39m(dx\u001b[38;5;241m*\u001b[39m\u001b[38;5;241m*\u001b[39m\u001b[38;5;241m2\u001b[39m))\u001b[38;5;241m+\u001b[39m ((Q[iQ[i, j\u001b[38;5;241m-\u001b[39m\u001b[38;5;241m1\u001b[39m]] \u001b[38;5;241m-\u001b[39m \u001b[38;5;241m2\u001b[39m\u001b[38;5;241m*\u001b[39mQ[iQ[i, j]] \u001b[38;5;241m+\u001b[39m Q[iQ[i, j\u001b[38;5;241m+\u001b[39m\u001b[38;5;241m1\u001b[39m]] ) \u001b[38;5;241m/\u001b[39m(dy\u001b[38;5;241m*\u001b[39m\u001b[38;5;241m*\u001b[39m\u001b[38;5;241m2\u001b[39m))) \n\u001b[1;32m     70\u001b[0m         \u001b[38;5;66;03m#Y = Y.at[[iQ[i, j]]].set(Q[iQ[i, j]]-(alpha*dt/2)*(((Q[iQ[i-1, j]] - 2*Q[iQ[i, j]] + Q[iQ[i+1, j]] ) /(dx**2))+ ((Q[iQ[i, j-1]] - 2*Q[iQ[i, j]] + Q[iQ[i, j+1]] ) /(dy**2))) )\u001b[39;00m\n\u001b[1;32m     71\u001b[0m \u001b[38;5;66;03m## Edges\u001b[39;00m\n\u001b[1;32m     72\u001b[0m \u001b[38;5;66;03m# left (Dirichlet)\u001b[39;00m\n\u001b[1;32m     73\u001b[0m i \u001b[38;5;241m=\u001b[39m \u001b[38;5;241m0\u001b[39m ;\n",
      "\u001b[0;31mKeyboardInterrupt\u001b[0m: "
     ]
    }
   ],
   "source": [
    "norm_list_total=[]\n",
    "iter_list_total=[]\n",
    "Solution_Matrix_list=[]\n",
    "b_residual_list=[]\n",
    "kappa_base=0.02*np.exp(-((((xv-0.7)**2)/0.09)+(((yv-0.6)**2)/0.25)))\n",
    "dt_range=[1]\n",
    "for dt in dt_range:\n",
    "    ## grid\n",
    "    kappa=dt*kappa_base\n",
    "    Q=np.zeros((Nx*Ny,1))\n",
    "    BCB=(-0.3)*np.ones(Nx)\n",
    "    BCL=0.5-0.5*np.cos(2*np.pi*y)\n",
    "    BCT=0.5+0.5*np.sin(4*np.pi*x-0.5*np.pi)\n",
    "    BCR=np.zeros(Ny)\n",
    "    norm_list=[]\n",
    "    iter_list=[]\n",
    "    #b_vector=b_vector_creator(kappa,Nx,Ny,dx,dy,BCB,BCL,BCT,BCR,dt,alpha)\n",
    "    for it in range(1000):\n",
    "        #b=A_operator(Q,Nx,Ny,dx,dy,dt,alpha)+b_vector\n",
    "        Q,Solution_Matrix,b_residual=CG_solver_transient(Q,kappa,Nx,Ny,dx,dy,BCB,BCL,BCT,BCR,dt,alpha)\n",
    "        norm_l2 = (norm(Q-Steady_ss))/(norm(Steady_ss))\n",
    "        if it%10==0:\n",
    "            print(it*dt,norm_l2)\n",
    "        norm_list.append(norm_l2)\n",
    "        iter_list.append(it)\n",
    "        if norm_l2<1e-4:\n",
    "            b_residual_list.append(b_residual)\n",
    "            break\n",
    "        Solution_Matrix_list.append(Solution_Matrix)\n",
    "    norm_list_total.append(norm_list)\n",
    "    iter_list_total.append(iter_list)"
   ]
  },
  {
   "cell_type": "code",
   "execution_count": null,
   "id": "4dd8cca3-9c9d-4643-a035-12d254ebad3c",
   "metadata": {},
   "outputs": [],
   "source": [
    "uBC_Laplace"
   ]
  },
  {
   "cell_type": "code",
   "execution_count": null,
   "id": "7e2a8cb7-b1f0-478c-a112-dcdcc120045e",
   "metadata": {},
   "outputs": [],
   "source": [
    "plt.plot([i for i in range(len(b_residual))],b_residual,label=f\"dt={dt_range[0]}\")\n",
    "# plt.plot([i for i in range(len(norm_list_total[1]))],norm_list_total[1],label=f\"dt={dt_range[1]}\")\n",
    "# plt.plot([i for i in range(len(norm_list_total[2]))],norm_list_total[2],label=f\"dt={dt_range[2]}\")\n",
    "# plt.plot([i for i in range(len(norm_list_total[3]))],norm_list_total[3],label=f\"dt={dt_range[3]}\")\n",
    "# plt.legend()\n",
    "# plt.show()"
   ]
  },
  {
   "cell_type": "code",
   "execution_count": null,
   "id": "5a54b29e-e219-410f-8750-f21b949b2750",
   "metadata": {},
   "outputs": [],
   "source": [
    "dat_acq_int=1\n",
    "HTML(plotter_animation_contour(xv,yv,Solution_Matrix_list,interv=100,dat_acq=dat_acq_int,p=0,q=1).to_html5_video())"
   ]
  },
  {
   "cell_type": "code",
   "execution_count": null,
   "id": "b694ad26-18a4-4f00-ac59-53536164c99f",
   "metadata": {},
   "outputs": [],
   "source": [
    "fig,ax=plt.subplots(1,1)\n",
    "cp = ax.contourf(xv, yv, Solution_Matrix)\n",
    "fig.colorbar(cp)\n",
    "ax.set_title('Filled Contours Plot')\n",
    "ax.set_xlabel('x (units)')\n",
    "ax.set_ylabel('y (units)')\n",
    "plt.show()"
   ]
  },
  {
   "cell_type": "markdown",
   "id": "ebec3db2-5179-4170-ac76-ab021e8ece86",
   "metadata": {},
   "source": []
  },
  {
   "cell_type": "code",
   "execution_count": null,
   "id": "6a0e37d9-73b0-4660-b351-c01b14e2e2ef",
   "metadata": {},
   "outputs": [],
   "source": [
    "norm_list_total=[]\n",
    "iter_list_total=[]\n",
    "kappa_base=0.02*np.exp(-((((xv-0.7)**2)/0.09)+(((yv-0.6)**2)/0.25)))\n",
    "## grid\n",
    "dt=0.01\n",
    "kappa=(2*dt)*kappa_base\n",
    "Q=np.zeros((Nx*Ny,1))\n",
    "BCB=(-0.3)*np.ones(Nx)\n",
    "BCL=0.5-0.5*np.cos(2*np.pi*y)\n",
    "BCT=0.5+0.5*np.sin(4*np.pi*x-0.5*np.pi)\n",
    "BCR=np.zeros(Ny)\n",
    "norm_list=[]\n",
    "iter_list=[]\n",
    "b_vector=b_vector_creator(kappa,Nx,Ny,dx,dy,BCB,BCL,BCT,BCR,dt,alpha)\n",
    "for it in range(20000):\n",
    "    b=A_operator(Q,Nx,Ny,dx,dy,dt,alpha)+b_vector\n",
    "    #Q=np.linalg.solve(matrix_B, b)\n",
    "    Q,Solution_Matrix=CG_solver_transient_Matrix(matrix_B,Q,b,Nx,Ny,dx,dy,BCB,BCL,BCT,BCR,dt,alpha)\n",
    "    norm_l2 = (norm(Q-Steady_ss))/(norm(Steady_ss))\n",
    "    if it%100==0:\n",
    "        print(it*dt,norm_l2)\n",
    "    norm_list.append(norm_l2)\n",
    "    iter_list.append(it)\n",
    "    if norm_l2<1e-4:\n",
    "        break\n",
    "    if it>3:\n",
    "        if (norm_list[-1]-norm_list[-2])>0.00001:\n",
    "            break\n",
    "norm_list_total.append(norm_list)\n",
    "iter_list_total.append(iter_list)"
   ]
  },
  {
   "cell_type": "code",
   "execution_count": null,
   "id": "86d2338e-8921-4db0-8d6a-a95f2a23abea",
   "metadata": {},
   "outputs": [],
   "source": [
    "b_vector=b_vector_creator(kappa,Nx,Ny,dx,dy,BCB,BCL,BCT,BCR,dt,alpha)"
   ]
  },
  {
   "cell_type": "code",
   "execution_count": null,
   "id": "107d4ab6-a1d3-4082-bb39-899b428ba0be",
   "metadata": {},
   "outputs": [],
   "source": [
    "norm_list_total.µ, append(norm_list)"
   ]
  },
  {
   "cell_type": "code",
   "execution_count": null,
   "id": "aaed7d63-2292-4150-a5db-e55ce92cb3f9",
   "metadata": {},
   "outputs": [],
   "source": [
    "plt.plot([i for i in range(len(norm_list_total[0]))],norm_list_total[0],label=f\"dt={dt_range[0]}\")\n",
    "#plt.plot([i for i in range(len(norm_list_total[1]))],norm_list_total[1],label=f\"dt={dt_range[1]}\")\n",
    "#plt.plot([i for i in range(len(norm_list_total[2]))],norm_list_total[2],label=f\"dt={dt_range[2]}\")\n",
    "#plt.plot([i for i in range(len(norm_list_total[3]))],norm_list_total[3],label=f\"dt={dt_range[3]}\")\n",
    "plt.legend()\n",
    "plt.show()"
   ]
  },
  {
   "cell_type": "code",
   "execution_count": null,
   "id": "1b704c38-555d-48ef-b6db-5ce5e831ef53",
   "metadata": {},
   "outputs": [],
   "source": [
    "Mat_sol=np.zeros((Nx,Ny))\n",
    "iQ=pointer_vector(Nx, Ny)\n",
    "for i in range(0,Nx):\n",
    "    for j in range(0,Ny):\n",
    "        Mat_sol[i,j] = Q[iQ[i, j]]"
   ]
  },
  {
   "cell_type": "code",
   "execution_count": null,
   "id": "91c0b8c7-9aa3-4aae-93de-38a3d363714c",
   "metadata": {},
   "outputs": [],
   "source": [
    "fig,ax=plt.subplots(1,1)\n",
    "cp = ax.contourf(xv, yv, Mat_sol)\n",
    "fig.colorbar(cp)\n",
    "ax.set_title('Filled Contours Plot')\n",
    "ax.set_xlabel('x (units)')\n",
    "ax.set_ylabel('y (units)')\n",
    "plt.show()"
   ]
  },
  {
   "cell_type": "code",
   "execution_count": null,
   "id": "353c74c0-4c5f-4a9e-85a4-a34957c1b2fd",
   "metadata": {},
   "outputs": [],
   "source": [
    "np.max(Q)"
   ]
  },
  {
   "cell_type": "code",
   "execution_count": null,
   "id": "61ed163a-14f1-4f84-bdf8-98fa2cc8b364",
   "metadata": {},
   "outputs": [],
   "source": [
    "from scipy import sparse\n",
    "matrix_B = sparse.csr_matrix(matrix_B)"
   ]
  },
  {
   "cell_type": "code",
   "execution_count": null,
   "id": "cdcebfcc-801a-42a3-86f5-b9f6c50dfa61",
   "metadata": {},
   "outputs": [],
   "source": []
  },
  {
   "cell_type": "code",
   "execution_count": null,
   "id": "6a3acdd4-4c8d-492c-a24a-664872464f59",
   "metadata": {},
   "outputs": [],
   "source": [
    "matrix_B.shape"
   ]
  }
 ],
 "metadata": {
  "kernelspec": {
   "display_name": "Python 3 (ipykernel)",
   "language": "python",
   "name": "python3"
  },
  "language_info": {
   "codemirror_mode": {
    "name": "ipython",
    "version": 3
   },
   "file_extension": ".py",
   "mimetype": "text/x-python",
   "name": "python",
   "nbconvert_exporter": "python",
   "pygments_lexer": "ipython3",
   "version": "3.8.13"
  }
 },
 "nbformat": 4,
 "nbformat_minor": 5
}

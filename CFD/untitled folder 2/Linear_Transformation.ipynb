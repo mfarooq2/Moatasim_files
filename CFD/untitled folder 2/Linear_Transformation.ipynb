{
 "cells": [
  {
   "cell_type": "code",
   "execution_count": 2,
   "id": "37d5e493-f749-44f4-b677-c2a8d386623a",
   "metadata": {},
   "outputs": [],
   "source": [
    "import numpy as np\n",
    "import matplotlib.pyplot as plt\n",
    "def plot_quadrilateral(basis, color='k'):\n",
    "    \"\"\"Plot the quadrilateral defined by the two basis vectors.\"\"\"\n",
    "    ix, iy = basis[0]\n",
    "    jx, jy = basis[1]\n",
    "    plt.plot([0, ix, ix+jx, jx, 0], [0, iy, iy+jy, jy, 0], color)\n",
    "\n",
    "def plot_vector(v, color='k', lw=1):\n",
    "    \"\"\"Plot vector v as a line with a specified color and linewidth.\"\"\"\n",
    "    plt.plot([0, v[0]], [0, v[1]], c=color, lw=lw)\n",
    "\n",
    "def plot_points(grid, color='k'):\n",
    "    \"\"\"Plot the grid points in a specified color.\"\"\"\n",
    "    plt.scatter(*grid, c=color, s=2, alpha=0.5)\n",
    "\n",
    "def apply_transformation(basis, T):\n",
    "    \"\"\"Return the transformed basis after applying transformation T.\"\"\"\n",
    "    return (T @ basis.T).T"
   ]
  },
  {
   "cell_type": "code",
   "execution_count": 6,
   "id": "47642ccf-7dd7-4586-bcf8-b6957084430e",
   "metadata": {},
   "outputs": [
    {
     "data": {
      "image/png": "[encoded data removed]",
      "text/plain": [
       "<Figure size 432x288 with 1 Axes>"
      ]
     },
     "metadata": {
      "needs_background": "light"
     },
     "output_type": "display_data"
    }
   ],
   "source": [
    "\n",
    "# Set up a Cartesian grid of points.\n",
    "XMIN, XMAX, YMIN, YMAX = -3, 3, -3, 3\n",
    "N = 16\n",
    "xgrid = np.linspace(XMIN, XMAX, N)\n",
    "ygrid = np.linspace(YMIN, YMAX, N)\n",
    "grid = np.array(np.meshgrid(xgrid, ygrid)).reshape(2, N**2)\n",
    "\n",
    "# Our untransformed unit basis vectors, i and j:\n",
    "basis = np.array([[1,0], [0,1]])\n",
    "# The untransformed grid and unit square.\n",
    "plot_points(grid)\n",
    "plot_quadrilateral(basis)\n",
    "\n",
    "# Apply the transformation matrix, S, to the scene.\n",
    "S = np.array(((1.5, 0.5),(0.5, 1.5)))\n",
    "tbasis = apply_transformation(basis, S)\n",
    "plot_quadrilateral(tbasis, 'r')\n",
    "tgrid = S @ grid\n",
    "plot_points(tgrid, 'r')\n",
    "\n",
    "# Find the eigenvalues and eigenvectors of S... \n",
    "vals, vecs = np.linalg.eig(S)\n",
    "#print(vals, vecs)\n",
    "if all(np.isreal(vals)):\n",
    "    # ... if they're all real, indicate them on the diagram.\n",
    "    v1, v2 = vals\n",
    "    e1, e2 = vecs.T\n",
    "    #plot_vector(v1*e1, 'r', 3)\n",
    "    #plot_vector(v2*e2, 'r', 3)\n",
    "    plot_vector(e1, 'k')\n",
    "    plot_vector(e2, 'k')\n",
    "\n",
    "# Ensure the plot has 1:1 aspect (i.e. squares look square) and set the limits.\n",
    "plt.axis('square')\n",
    "plt.xlim(XMIN, XMAX)\n",
    "plt.ylim(YMIN, YMAX)\n",
    "\n",
    "plt.show()"
   ]
  },
  {
   "cell_type": "code",
   "execution_count": null,
   "id": "718135f9-aed8-4e08-84c8-96787bfb4d69",
   "metadata": {},
   "outputs": [],
   "source": []
  }
 ],
 "metadata": {
  "kernelspec": {
   "display_name": "Python 3 (ipykernel)",
   "language": "python",
   "name": "python3"
  },
  "language_info": {
   "codemirror_mode": {
    "name": "ipython",
    "version": 3
   },
   "file_extension": ".py",
   "mimetype": "text/x-python",
   "name": "python",
   "nbconvert_exporter": "python",
   "pygments_lexer": "ipython3",
   "version": "3.9.12"
  }
 },
 "nbformat": 4,
 "nbformat_minor": 5
}

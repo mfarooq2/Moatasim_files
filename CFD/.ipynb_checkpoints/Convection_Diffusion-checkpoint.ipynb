{
 "cells": [
  {
   "cell_type": "code",
   "execution_count": 7,
   "id": "414f7ca4-ef2d-4381-8826-65a65984d0ae",
   "metadata": {},
   "outputs": [],
   "source": [
    "import numpy as np\n",
    "import matplotlib.pyplot as plt\n",
    "from matplotlib.animation import FuncAnimation\n",
    "import time\n",
    "from numpy.linalg import norm,solve\n",
    "from itertools import count\n",
    "from IPython import display\n",
    "import seaborn as sns\n",
    "from IPython.display import HTML\n",
    "from scipy.io import loadmat\n",
    "from utils.helper_util import Func_GaussElimination,plotter"
   ]
  },
  {
   "cell_type": "code",
   "execution_count": 8,
   "id": "f33de36f-70ba-4721-8a3d-a2602e1a3adc",
   "metadata": {},
   "outputs": [],
   "source": [
    "def f_not(x):\n",
    "    sigma=0.01\n",
    "    return np.exp((-(x-0.5)**2)/sigma)"
   ]
  },
  {
   "cell_type": "code",
   "execution_count": 9,
   "id": "3766aa43-ce23-43a0-8786-16e67cbb2dc1",
   "metadata": {},
   "outputs": [],
   "source": [
    "##Wave Propagation\n",
    "alph=0.005\n",
    "\n",
    "a=0.4\n",
    "b=-0.1\n",
    "c=0.1\n",
    "## grid\n",
    "N  = 100 ;\n",
    "x  = np.linspace(0, 1, N+1)\n",
    "u_ss=0.4+0.6*x\n",
    "CFL=0.4\n",
    "x  = x[0:N] \n",
    "dx = x[1] - x[0] \n",
    "#Delta\n",
    "#dt=CFL*dx/(c)\n",
    "dt=0.0001\n",
    "t_domain=np.linspace(0, 400, int((400 - 0) / dt + 1))\n",
    "#initial condition\n",
    "#f0=np.zeros(len(x))\n",
    "#f0=f0.reshape((len(f0),1))\n",
    "\n",
    "p=(alph*dt)/(2*dx**2)\n",
    "q=(dt)/(4*dx)\n",
    "L = np.diag(1 * np.ones((N-1)), -1) + np.diag(-2 * np.ones((N)), 0)+ np.diag((1) * np.ones((N-1)), +1)\n",
    "L[0,-1]=1\n",
    "L[-1,0]=1\n",
    "L1=L.copy()\n",
    "L1[-1,-1]=2\n",
    "D = np.diag(-1 * np.ones((N-1)), -1) + np.diag(0 * np.ones((N)), 0)+ np.diag((1) * np.ones((N-1)), +1)\n",
    "D[0,-1]=-1\n",
    "D[-1,0]=1\n",
    "\n",
    "\n",
    "I = np.diag(0 * np.ones((N-1)), -1) + np.diag(1 * np.ones((N)), 0)+ np.diag((0) * np.ones((N-1)), +1)\n",
    "L1[0,-1]=-1\n",
    "L1[-1,0]=-1\n",
    "A=I-(alph*dt/2)*L1\n",
    "f0=f_not(x)\n",
    "f0=f0.reshape((len(f0),1))\n"
   ]
  },
  {
   "cell_type": "code",
   "execution_count": 10,
   "id": "db81599b-b7c8-47da-af81-5f569a76672c",
   "metadata": {},
   "outputs": [],
   "source": [
    "#New\n",
    "f_old=f0.copy()\n",
    "f_new=f0.copy()\n",
    "f_new_list=[]\n",
    "x_list=[]\n",
    "f_new_list.append(list(f_new[:,0]))\n",
    "x_list.append(x)\n",
    "f_new[0,0]=f_old[0,0]+(((-dt/(2*dx))+(alph*dt/(dx**2)))*(f_old[1,0]))+((1-(2*alph*dt/(dx**2)))*(f_old[0,0]))+(((dt/(2*dx))+(alph*dt/(dx**2)))*(f_old[-1,0]))\n",
    "f_new[-1,0]=f_old[-1,0]+(((-dt/(2*dx))+(alph*dt/(dx**2)))*(f_old[0,0]))+(((1-(2*alph*dt/(dx**2)))*(f_old[-1,0])))+(((dt/(2*dx))+(alph*dt/(dx**2)))*(f_old[-2,0]))\n",
    "for j in range(1,len(x)-1):\n",
    "    f_new[j,0]=f_new[j,0]+(((-dt/(2*dx))+(alph*dt/(dx**2)))*(f_old[j+1,0]))+((1-(2*alph*dt/(dx**2)))*(f_old[j,0]))+(((dt/(2*dx))+(alph*dt/(dx**2)))*(f_old[j-1,0]))\n",
    "f_new_list.append(list(f_new[:,0]))\n",
    "x_list.append(x)"
   ]
  },
  {
   "cell_type": "code",
   "execution_count": null,
   "id": "4f0e2dee-3920-4ca5-81b0-147c0f9a85ab",
   "metadata": {},
   "outputs": [],
   "source": [
    "\n",
    "\n",
    "point1=int(0.7/dt)\n",
    "point2=int(1.9/dt)\n",
    "point3=int(2.1/dt)\n",
    "point4=int(3.3/dt)\n",
    "\n",
    "#plt.plot(x_list[point1],f_new_list[point1],'-k',label='t=0.7')\n",
    "plt.plot(x_list[point1],f_new_list[point1],label='t=0.7',color='red')\n",
    "plt.plot(x_list[point2],f_new_list[point2],label='t=1.9',color='Yellow')\n",
    "#plt.plot(x_list[point2],f_new_list[point2],'-o',label='t=1.9')\n",
    "plt.plot(x_list[point3],f_new_list[point3],label='t=2.1',color='Blue')\n",
    "plt.plot(x_list[point3],f_new_list[point4],label='t=3.3',color='Green')\n",
    "plt.xlabel(\" $X_{domain}$ \", fontsize='15')\n",
    "plt.ylabel(\"U\", fontsize='15')\n",
    "plt.legend()\n",
    "#plt.minorticks_on()\n",
    "#plt.tick_params(direction='in', right=True, top=True)\n",
    "#plt.tick_params(labelsize=14)\n",
    "#plt.tick_params(labelbottom=True, labeltop=False, labelright=False, labelleft=True)\n",
    "#plt.tick_params(direction='in', which='minor', length=6, bottom=True, top=True, left=True, right=True)\n",
    "#plt.tick_params(direction='in', which='major', length= 12, bottom= True, top= True, left=True, right=True)\n",
    "\n",
    "plt.title('Advection_Diffusion_with_splitting', fontsize='15')\n",
    "#ax.set_ylabel('u')\n",
    "#ax.set_title('CFL_0.8 at t=3')\n",
    "#plt.figure(figsize=(4, 3), dpi=80)\n",
    "#plt.savefig('AB2_Lex_CF08.jpg')\n",
    "plt.savefig('/Users/moatasimfarooque/Desktop/CFD/Plots/Moatasim/Convection_Advection.jpg', dpi=300, bbox_inches =\"tight\")\n"
   ]
  },
  {
   "cell_type": "code",
   "execution_count": 12,
   "id": "d65153c4-29ca-4771-9df3-497c89bdbec4",
   "metadata": {},
   "outputs": [],
   "source": [
    "for it in range(100000):\n",
    "    b_vector=-q*(3*(D@f_new)-(D@f_old))+p*(L@f_new)+f_new\n",
    "    f_old=f_new.copy()\n",
    "    #f_new = Func_GaussElimination(A, b_vector)\n",
    "    f_new=np.linalg.solve(A, b_vector)\n",
    "    f_new_list.append(list(f_new[:,0]))\n",
    "    x_list.append(x)"
   ]
  },
  {
   "cell_type": "code",
   "execution_count": null,
   "id": "6fe0eb12-3acf-4bbe-bf3c-4bec37e2b6ea",
   "metadata": {},
   "outputs": [],
   "source": [
    "dat_acq_int=100\n",
    "HTML(plotter(x_list,f_new_list,interv=50,dat_acq=dat_acq_int,p=0,q=5).to_html5_video())"
   ]
  },
  {
   "cell_type": "code",
   "execution_count": null,
   "id": "823631a2-7e22-4f0b-927f-c0702bfc741b",
   "metadata": {},
   "outputs": [],
   "source": [
    "f_old[1]"
   ]
  },
  {
   "cell_type": "code",
   "execution_count": null,
   "id": "29a8f878-4b13-4089-a998-117a9ed0b1b0",
   "metadata": {},
   "outputs": [],
   "source": []
  }
 ],
 "metadata": {
  "kernelspec": {
   "display_name": "Python 3 (ipykernel)",
   "language": "python",
   "name": "python3"
  },
  "language_info": {
   "codemirror_mode": {
    "name": "ipython",
    "version": 3
   },
   "file_extension": ".py",
   "mimetype": "text/x-python",
   "name": "python",
   "nbconvert_exporter": "python",
   "pygments_lexer": "ipython3",
   "version": "3.8.13"
  }
 },
 "nbformat": 4,
 "nbformat_minor": 5
}

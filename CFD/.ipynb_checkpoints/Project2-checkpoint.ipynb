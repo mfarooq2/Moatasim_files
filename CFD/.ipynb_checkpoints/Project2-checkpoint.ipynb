{
 "cells": [
  {
   "cell_type": "code",
   "execution_count": 904,
   "id": "bfcfc7b9-0ddc-4860-bce2-13d5bea5085e",
   "metadata": {},
   "outputs": [],
   "source": [
    "import numpy as np\n",
    "import matplotlib.pyplot as plt\n",
    "from mpl_toolkits import mplot3d\n",
    "from matplotlib.animation import FuncAnimation\n",
    "import time\n",
    "\n",
    "from itertools import count\n",
    "from IPython import display\n",
    "\n",
    "import seaborn as sns\n",
    "from IPython.display import HTML\n",
    "from scipy.io import loadmat\n",
    "from utils.helper_util import Func_GaussElimination,plotter"
   ]
  },
  {
   "cell_type": "code",
   "execution_count": 905,
   "id": "a46d6de2-513f-46de-b798-419d257549ed",
   "metadata": {},
   "outputs": [],
   "source": [
    "##diffusivity\n",
    "alpha  = 0.005 ;\n",
    "\n",
    "\n",
    "\n",
    "## Delta t\n",
    "dt = 0.02 ;\n",
    "\n",
    "\n",
    "## grid\n",
    "Nx=19\n",
    "Ny=19\n",
    "xtotal  = np.linspace(0,1,Nx+2)\n",
    "x=xtotal[1:Nx+1]\n",
    "ytotal  = np.linspace(0,1,Ny+2)\n",
    "y=ytotal[1:Ny+1]\n",
    "dx = x[1] - x[0] \n",
    "dy=y[1] - y[0] \n",
    "xv, yv = np.meshgrid(x, y, indexing='ij')\n",
    "\n",
    "X,Y=np.meshgrid(xtotal, ytotal, indexing='ij')\n",
    "\n",
    "kappa=0.02*np.exp(-((((xv-0.7)**2)/0.09)+(((yv-0.6)**2)/0.25)))\n",
    "b=kappa/(alpha)\n",
    "Q=np.zeros((Nx*Ny,1))\n",
    "b_vector=np.zeros((Nx*Ny,1))\n",
    "\n",
    "BCB=(-0.3/dx)*np.ones(Nx)\n",
    "BCL=0.5-0.5*np.cos(2*np.pi*y)\n",
    "BCT=0.5+0.5*np.sin(4*np.pi*x-0.5*np.pi)\n",
    "BCR=np.zeros(Ny)\n"
   ]
  },
  {
   "cell_type": "code",
   "execution_count": 906,
   "id": "0a89d9f7-646f-43c7-a228-3383c91bb9d6",
   "metadata": {},
   "outputs": [],
   "source": [
    "def pointer_vector(Nx, Ny):\n",
    "    iQ=np.nan*np.zeros((Nx,Ny))\n",
    "    ids=np.arange(start=0,stop=(Nx)*(Ny))\n",
    "    k=0\n",
    "    for i in range(Nx):\n",
    "        for j in range(Ny):\n",
    "            iQ[i,j]=int(ids[k])\n",
    "            k=k+1\n",
    "            if k==len(ids):\n",
    "                break\n",
    "        if k==len(ids):\n",
    "            break\n",
    "            \n",
    "    return iQ.astype(int)"
   ]
  },
  {
   "cell_type": "code",
   "execution_count": 994,
   "id": "13e8adfa-66b0-408d-9e86-f31bd7af33fc",
   "metadata": {},
   "outputs": [],
   "source": [
    "def LaplaceOpt_Aq(Q,Nx,Ny):\n",
    "\n",
    "    iQ=pointer_vector(Nx, Ny)\n",
    "\n",
    "    ## Initialize output \n",
    "    Y=np.nan*np.ones((len(Q),1))\n",
    "\n",
    "    ## inner domain\n",
    "    for i in range(1,Ny-1):\n",
    "        for j in range(1,Nx-1):\n",
    "            Y[iQ[i, j]] = (((Q[iQ[i-1, j]] - 2*Q[iQ[i, j]] + Q[iQ[i+1, j]] ) /(dx**2))+ ((Q[iQ[i, j-1]] - 2*Q[iQ[i, j]] + Q[iQ[i, j+1]] ) /(dy**2))) +b[i,j] \n",
    "\n",
    "    ## Edges\n",
    "    # left (Dirichlet)\n",
    "    i = 0 ;\n",
    "    for j in range(1,Ny-1):\n",
    "            Y[iQ[i, j]] = (( (-2*Q[iQ[i, j]] + Q[iQ[i+1, j]] ) /(dx**2))+ ((Q[iQ[i, j-1]] - 2*Q[iQ[i, j]] + Q[iQ[i, j+1]] ) /(dy**2))) +b[i,j]\n",
    "\n",
    "    # top (Dirichlet)\n",
    "    j = -1\n",
    "    for i in range(1,Nx-1):\n",
    "            Y[iQ[i, j]] = (((Q[iQ[i-1, j]] - 2*Q[iQ[i, j]] + Q[iQ[i+1, j]] ) /(dx**2))+ ((Q[iQ[i, j-1]] - 2*Q[iQ[i, j]] ) /(dy**2))) +b[i,j]\n",
    "\n",
    "\n",
    "    # Bottom (Neuman)\n",
    "    j = 0\n",
    "    for i in range(1,Nx-1):\n",
    "            Y[iQ[i, j]] = (((Q[iQ[i-1, j]] - 2*Q[iQ[i, j]] + Q[iQ[i+1, j]] ) /(dx**2))+ ((-1*Q[iQ[i, j]] + Q[iQ[i, j+1]] ) /(dy**2))) +b[i,j] \n",
    "\n",
    "\n",
    "    # Right (Neuman)\n",
    "    i=-1\n",
    "    for j in range(1,Ny-1):\n",
    "        Y[iQ[i, j]] = (( (Q[iQ[i-1, j]] - Q[iQ[i, j]] ) /(dx**2))+ ((Q[iQ[i, j-1]] - 2*Q[iQ[i, j]] + Q[iQ[i, j+1]] ) /(dy**2))) +b[i,j] \n",
    "\n",
    "        \n",
    "    ## Corners\n",
    "    # bottom left\n",
    "    i = 0\n",
    "    j = 0\n",
    "    Y[iQ[i, j]] = (( (-2*Q[iQ[i, j]] + Q[iQ[i+1, j]] ) /(dx**2))+ ((-1*Q[iQ[i, j]] + Q[iQ[i, j+1]] ) /(dy**2))) +b[i,j] \n",
    "\n",
    "    ## bottom right\n",
    "    i=-1\n",
    "    j=0\n",
    "\n",
    "    Y[iQ[i, j]] = (((Q[iQ[i-1, j]] - Q[iQ[i, j]] ) /(dx**2))+ ((-Q[iQ[i, j]] + Q[iQ[i, j+1]] ) /(dy**2))) +b[i,j] \n",
    "\n",
    "    ## top left\n",
    "    j=-1\n",
    "    i=0\n",
    "    Y[iQ[i, j]] = (( (-2*Q[iQ[i, j]] + Q[iQ[i+1, j]] ) /(dx**2))+ ((Q[iQ[i, j-1]] - 2*Q[iQ[i, j]] ) /(dy**2))) +b[i,j] \n",
    "\n",
    "    ## top right\n",
    "    i=-1\n",
    "    j=-1\n",
    "    Y[iQ[i, j]] = (((Q[iQ[i-1, j]] - Q[iQ[i, j]] ) /(dx**2))+ (( Q[iQ[i, j-1]] - 2*Q[iQ[i, j]] )/(dy**2))) +b[i,j] \n",
    "    return Y\n",
    "              "
   ]
  },
  {
   "cell_type": "code",
   "execution_count": 996,
   "id": "88c41f2e-3a80-4c00-8ef2-4b1b513af3e6",
   "metadata": {},
   "outputs": [],
   "source": [
    "def uBC_Laplace(Nx,Ny,dx,dy,BCB,BCL,BCT,BCR):\n",
    "\n",
    "    uBC  = np.zeros((Nx*Ny, 1)) ;\n",
    "\n",
    "    ## Edges\n",
    "    #left (Dirichlet)\n",
    "    i = 0\n",
    "    for j in range(1,Ny-1):\n",
    "        uBC[iQ[i, j]] = BCL[j] / (dx**2)\n",
    "\n",
    "    #bottom (Neuman)\n",
    "    j = 0\n",
    "    for i in range(1,Nx-1):\n",
    "        uBC[iQ[i, j]] = -BCB[i] / (dy)\n",
    "\n",
    "    # right(Neuman)\n",
    "    i = -1\n",
    "    for j in range(1,Ny-1):\n",
    "        uBC[iQ[i, j]] = BCR[j] / (dy)\n",
    "\n",
    "    # top(Dirichlet)\n",
    "    j = -1\n",
    "    for i in range(1,Nx-1):\n",
    "        uBC[iQ[i, j]] = BCT[i] / (dx**2)\n",
    "\n",
    "    ## Corners\n",
    "    # bottom left (D-N)\n",
    "    i = 0 ;\n",
    "    j = 0 ;\n",
    "    uBC[iQ[i, j]] = (BCL[i] /(dx**2)) - (BCB[j] /(dy))\n",
    "\n",
    "    # bottom right (N-N)\n",
    "    i = -1\n",
    "    j = 0 \n",
    "    uBC[iQ[i, j]] = (BCR[i] /(dx)) - (BCB[j] /(dy))\n",
    "\n",
    "    # top left (D-D)\n",
    "    i = 0\n",
    "    j = -1 \n",
    "    uBC[iQ[i, j]] = (BCL[i] /(dx**2)) + (BCT[j] /(dy**2))\n",
    "\n",
    "    # top right (N-D)\n",
    "    i=-1\n",
    "    j=-1\n",
    "    uBC[iQ[i, j]] = (BCR[i] /(dx)) + (BCT[j] /(dy**2))\n",
    "    return uBC"
   ]
  },
  {
   "cell_type": "code",
   "execution_count": 997,
   "id": "e7440122-ab9d-44eb-809a-fe7b88ef7158",
   "metadata": {},
   "outputs": [],
   "source": [
    "d_old=b_vector-LaplaceOpt_Aq(Q,Nx,Ny)-uBC_Laplace(Nx,Ny,dx,dy,BCB,BCL,BCT,BCR)\n",
    "r_old=b_vector-LaplaceOpt_Aq(Q,Nx,Ny)-uBC_Laplace(Nx,Ny,dx,dy,BCB,BCL,BCT,BCR)\n",
    "\n",
    "\n",
    "for i in range(100):\n",
    "    alpha_factor=((r_old.T)@r_old)/((d_old.T)@(LaplaceOpt_Aq(d_old,Nx,Ny)+uBC_Laplace(Nx,Ny,dx,dy,BCB,BCL,BCT,BCR)))\n",
    "\n",
    "    Q=Q+(alpha_factor[0,0])*d_old\n",
    "    r_new=r_old-(alpha_factor[0,0])*(LaplaceOpt_Aq(d_old,Nx,Ny)+uBC_Laplace(Nx,Ny,dx,dy,BCB,BCL,BCT,BCR))\n",
    "\n",
    "    beta=((r_new.T)@(r_new))/((r_old.T)@(r_old))\n",
    "    d_new=r_new+(beta[0,0])*d_old\n",
    "\n",
    "    d_old=d_new\n",
    "    r_old=r_new\n",
    "    \n",
    "Solution_Matrix=np.zeros((Nx,Ny))\n",
    "k=0\n",
    "for i in range(Nx):\n",
    "    for j in range(Ny):\n",
    "        Solution_Matrix[i,j]=Q[k]\n",
    "        k=k+1"
   ]
  },
  {
   "cell_type": "code",
   "execution_count": 998,
   "id": "2cf30918-6c75-49c6-9e7f-5bd2b7c5d376",
   "metadata": {},
   "outputs": [],
   "source": [
    "BCBt=(Solution_Matrix[:,0]-dx*(-0.3))\n",
    "BCLt=0.5-0.5*np.cos(2*np.pi*ytotal)\n",
    "BCTt=0.5+0.5*np.sin((4*np.pi*xtotal)-(0.5*np.pi))\n",
    "BCRt=Solution_Matrix[-1,:]"
   ]
  },
  {
   "cell_type": "code",
   "execution_count": 999,
   "id": "2f79e6d7-474a-4d6f-a057-8ff3fb082e00",
   "metadata": {},
   "outputs": [],
   "source": [
    "Final_matrix=np.zeros((Nx+2,Nx+2))\n",
    "Final_matrix[0,:]=BCLt\n",
    "Final_matrix[-1,1:Nx+1]=BCRt\n",
    "Final_matrix[1:Ny+1,0]=BCBt\n",
    "Final_matrix[:,-1]=BCTt\n",
    "\n",
    "for i in range(1,Nx+1):\n",
    "    for j in range(1,Ny+1):\n",
    "        Final_matrix[i,j]=Solution_Matrix[i-1,j-1]"
   ]
  },
  {
   "cell_type": "code",
   "execution_count": 1031,
   "id": "0c2f1f35-d143-4e41-ba76-38fe087a3c63",
   "metadata": {},
   "outputs": [
    {
     "data": {
      "image/png": "[encoded data removed]",
      "text/plain": [
       "<Figure size 432x288 with 2 Axes>"
      ]
     },
     "metadata": {
      "needs_background": "light"
     },
     "output_type": "display_data"
    }
   ],
   "source": [
    "fig,ax=plt.subplots(1,1)\n",
    "cp = ax.contourf(X, Y, Final_matrix)\n",
    "fig.colorbar(cp)\n",
    "#ax.set_title('Filled Contours Plot')\n",
    "ax.set_xlabel('x (units)')\n",
    "ax.set_ylabel('y (units)')\n",
    "plt.show()"
   ]
  },
  {
   "cell_type": "code",
   "execution_count": 1028,
   "id": "aee9d0d9-a6bd-4d17-a4ca-519748edee4c",
   "metadata": {},
   "outputs": [
    {
     "data": {
      "image/png": "[encoded data removed]",
      "text/plain": [
       "<Figure size 432x288 with 2 Axes>"
      ]
     },
     "metadata": {
      "needs_background": "light"
     },
     "output_type": "display_data"
    }
   ],
   "source": [
    "fig,ax=plt.subplots(1,1)\n",
    "cp = ax.contourf(xv, yv, Solution_Matrix)\n",
    "fig.colorbar(cp)\n",
    "#ax.set_title('Filled Contours Plot')\n",
    "ax.set_xlabel('x (units)')\n",
    "ax.set_ylabel('y (units)')\n",
    "plt.show()"
   ]
  },
  {
   "cell_type": "code",
   "execution_count": 1040,
   "id": "ca4f26db-6e89-4dd3-b2b1-675c750557ff",
   "metadata": {},
   "outputs": [
    {
     "data": {
      "image/png": "[encoded data removed]",
      "text/plain": [
       "<Figure size 432x288 with 2 Axes>"
      ]
     },
     "metadata": {
      "needs_background": "light"
     },
     "output_type": "display_data"
    }
   ],
   "source": [
    "fig,ax=plt.subplots(1,1)\n",
    "cp = ax.contourf(xv, yv, kappa/(1))\n",
    "fig.colorbar(cp)\n",
    "#ax.set_title('Filled Contours Plot')\n",
    "ax.set_xlabel('x (units)')\n",
    "ax.set_ylabel('y (units)')\n",
    "plt.show()"
   ]
  },
  {
   "cell_type": "code",
   "execution_count": 1033,
   "id": "7da78045-8640-4b98-86a9-c236e448a3b2",
   "metadata": {},
   "outputs": [
    {
     "data": {
      "text/plain": [
       "(19, 19)"
      ]
     },
     "execution_count": 1033,
     "metadata": {},
     "output_type": "execute_result"
    }
   ],
   "source": [
    "Solution_Matrix.shape"
   ]
  },
  {
   "cell_type": "code",
   "execution_count": 1034,
   "id": "21deca3e-58e9-4bd6-ba8a-de5f439d3846",
   "metadata": {},
   "outputs": [
    {
     "data": {
      "text/plain": [
       "(19, 19)"
      ]
     },
     "execution_count": 1034,
     "metadata": {},
     "output_type": "execute_result"
    }
   ],
   "source": [
    "b.shape"
   ]
  },
  {
   "cell_type": "code",
   "execution_count": null,
   "id": "0bf8b3c9-691a-4c73-85b3-b661a7d96a72",
   "metadata": {},
   "outputs": [],
   "source": []
  }
 ],
 "metadata": {
  "kernelspec": {
   "display_name": "Python 3 (ipykernel)",
   "language": "python",
   "name": "python3"
  },
  "language_info": {
   "codemirror_mode": {
    "name": "ipython",
    "version": 3
   },
   "file_extension": ".py",
   "mimetype": "text/x-python",
   "name": "python",
   "nbconvert_exporter": "python",
   "pygments_lexer": "ipython3",
   "version": "3.9.12"
  }
 },
 "nbformat": 4,
 "nbformat_minor": 5
}

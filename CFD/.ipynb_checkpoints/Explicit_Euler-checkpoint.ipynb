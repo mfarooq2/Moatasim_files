{
 "cells": [
  {
   "cell_type": "code",
   "execution_count": 14,
   "id": "cd3d2a37-c774-47ec-8d33-1931a12f6699",
   "metadata": {},
   "outputs": [],
   "source": [
    "import numpy as np\n",
    "import matplotlib.pyplot as plt\n",
    "from matplotlib.animation import FuncAnimation\n",
    "import time\n",
    "from numpy.linalg import norm\n",
    "from itertools import count\n",
    "from IPython import display\n",
    "\n",
    "import seaborn as sns\n",
    "from IPython.display import HTML\n",
    "from scipy.io import loadmat\n",
    "from utils.helper_util import Func_GaussElimination,plotter"
   ]
  },
  {
   "cell_type": "code",
   "execution_count": 31,
   "id": "d1882ca0-83d1-4ee7-a555-5651c9f857eb",
   "metadata": {},
   "outputs": [],
   "source": [
    "##Wave Propagation\n",
    "alph=0.005\n",
    "\n",
    "a=0.4\n",
    "b=-0.1\n",
    "c=0.1\n",
    "## grid\n",
    "N  = 99 ;\n",
    "x  = np.linspace(0, 1, N+2)\n",
    "u_ss=0.4+0.6*x\n",
    "\n",
    "x  = x[1:N+1] \n",
    "dx = x[1] - x[0] \n",
    "#Delta\n",
    "dt=0.01\n",
    "t_domain=np.linspace(0, 400, int((400 - 0) / dt + 1))\n",
    "#initial condition\n",
    "f0=np.zeros(len(x))\n",
    "f0=f0.reshape((len(f0),1))\n",
    "q=(1-((2*alph*dt)/(dx**2)))\n",
    "p=(alph*dt)/(dx**2)\n",
    "\n",
    "dum1=(-b/(a*dx-b))-2\n",
    "dum2=c*dt/(dx*(a*dx-b))\n",
    "\n",
    "\n"
   ]
  },
  {
   "cell_type": "code",
   "execution_count": 32,
   "id": "96f0648a-8bc5-4d6b-a6ea-dd27326c07b0",
   "metadata": {},
   "outputs": [],
   "source": [
    "f_old = np.zeros((len(x),1))\n",
    "f_new_list=[]\n",
    "xlist=[]\n",
    "\n",
    "dat_acq_int=1\n",
    "for it in range(len(t_domain)+1):\n",
    "    f_old[0]=p*(dum1*f_old[0]+f_old[1])+alph*dum2+f_old[0]\n",
    "    f_old[-1]=f_old[-1]+p*(f_old[-2]-2*f_old[-1]+1)\n",
    "    for j in range(1,len(x)-1):\n",
    "        f_old[j]=p*f_old[j-1]+q*f_old[j]+p*f_old[j+1]\n",
    "    \n",
    "    u_x_t=np.insert(np.insert(f_old, 0, ((b*f_old[0]-dx*c)/(b-dx*a))),len(x)+1,1)\n",
    "    norm_l2 = (norm(u_x_t-u_ss))/(norm(u_ss))\n",
    "    if norm_l2<1e-3:\n",
    "        break\n",
    "    if it%dat_acq_int==0:\n",
    "        f_new_list.append(list(u_x_t))\n",
    "        xlist.append(np.insert(np.insert(x, 0, 0),len(x)+1,1))\n",
    "#HTML(plotter(xlist,f_new_list,interv=100,dat_acq=dat_acq_int,p=0,q=1.5).to_html5_video())"
   ]
  },
  {
   "cell_type": "code",
   "execution_count": 36,
   "id": "d8832803-c61f-4d55-9d1a-f865b0bd9be9",
   "metadata": {},
   "outputs": [
    {
     "data": {
      "text/plain": [
       "102.24000000000001"
      ]
     },
     "execution_count": 36,
     "metadata": {},
     "output_type": "execute_result"
    }
   ],
   "source": [
    "it*dt"
   ]
  },
  {
   "cell_type": "code",
   "execution_count": 35,
   "id": "173c5991-4772-424f-b5d7-c056e6e8bc32",
   "metadata": {},
   "outputs": [
    {
     "data": {
      "text/plain": [
       "10224"
      ]
     },
     "execution_count": 35,
     "metadata": {},
     "output_type": "execute_result"
    }
   ],
   "source": [
    "point1=int(6/dt)\n",
    "point2=int(49/dt)\n",
    "point3=int(101/dt)\n",
    "\n",
    "plt.plot(xlist[point1],f_new_list[point1],'--k',label='t=6')\n",
    "#plt.plot(xlist[point1],f_new_list[point1],label='t=5',color='red')\n",
    "#plt.plot(xlist[point2],f_new_list[point2],label='t=51',color='blue')\n",
    "plt.plot(xlist[point2],f_new_list[point2],'--o',label='t=49')\n",
    "plt.plot(xlist[point3],f_new_list[point3],label='t=101',color='Red')\n",
    "#plt.plot(xlist[point3],f_new_list[point3],label='t=102',color='Yellow')\n",
    "plt.xlabel(\" $X_{domain}$ \", fontsize='15')\n",
    "plt.ylabel(\"U\", fontsize='15')\n",
    "plt.legend()\n",
    "plt.minorticks_on()\n",
    "plt.tick_params(direction='in', right=True, top=True)\n",
    "plt.tick_params(labelsize=14)\n",
    "plt.tick_params(labelbottom=True, labeltop=False, labelright=False, labelleft=True)\n",
    "plt.tick_params(direction='in', which='minor', length=6, bottom=True, top=True, left=True, right=True)\n",
    "plt.tick_params(direction='in', which='major', length= 12, bottom= True, top= True, left=True, right=True)\n",
    "\n",
    "plt.title('Explicit Euler with t=0.01', fontsize='15')\n",
    "#ax.set_ylabel('u')\n",
    "#ax.set_title('CFL_0.8 at t=3')\n",
    "#plt.figure(figsize=(4, 3), dpi=80)\n",
    "#plt.savefig('AB2_Lex_CF08.jpg')\n",
    "plt.savefig('/Users/moatasimfarooque/Desktop/CFD/Plots/Moatasim/Explicit Euler.jpg', dpi=300, bbox_inches =\"tight\")\n"
   ]
  },
  {
   "cell_type": "code",
   "execution_count": null,
   "id": "96792ffb-413f-4200-b762-02e0170b6536",
   "metadata": {},
   "outputs": [],
   "source": [
    "HTML(plotter(xlist,f_new_list,interv=100,dat_acq=dat_acq_int,p=0,q=1.5).to_html5_video())"
   ]
  },
  {
   "cell_type": "code",
   "execution_count": null,
   "id": "7ff3b871-71d7-4918-b1fa-e4130bf4281d",
   "metadata": {},
   "outputs": [],
   "source": []
  }
 ],
 "metadata": {
  "kernelspec": {
   "display_name": "Python 3 (ipykernel)",
   "language": "python",
   "name": "python3"
  },
  "language_info": {
   "codemirror_mode": {
    "name": "ipython",
    "version": 3
   },
   "file_extension": ".py",
   "mimetype": "text/x-python",
   "name": "python",
   "nbconvert_exporter": "python",
   "pygments_lexer": "ipython3",
   "version": "3.8.13"
  }
 },
 "nbformat": 4,
 "nbformat_minor": 5
}

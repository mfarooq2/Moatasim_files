{
 "cells": [
  {
   "cell_type": "code",
   "execution_count": 6,
   "id": "21a41aa0-187b-4f99-8f9f-b0bf5b5c22dc",
   "metadata": {},
   "outputs": [],
   "source": [
    "import numpy as np\n",
    "import matplotlib.pyplot as plt\n",
    "from matplotlib.animation import FuncAnimation\n",
    "import time\n",
    "\n",
    "from itertools import count\n",
    "from IPython import display\n",
    "\n",
    "import seaborn as sns\n",
    "from IPython.display import HTML\n",
    "from scipy.io import loadmat\n",
    "from utils.helper_util import Func_GaussElimination,plotter"
   ]
  },
  {
   "cell_type": "code",
   "execution_count": 7,
   "id": "36ce0767-1a54-4925-9844-891d264a0e7b",
   "metadata": {},
   "outputs": [],
   "source": [
    "\n",
    "\n",
    "##diffusivity\n",
    "a  = 0.005 ;\n",
    "\n",
    "##Boundary conditions\n",
    "DBC_L = 1 ;\n",
    "DBC_R = 2 ;\n",
    "\n",
    "## Delta t\n",
    "dt = 0.02 ;\n",
    "\n",
    "\n",
    "## grid\n",
    "N  = 49 ;\n",
    "x  = np.linspace(0, 1, N+2)\n",
    "x  = x[1:N+1] ;\n",
    "dx = x[1] - x[0] ;\n",
    "\n",
    "## initial condition\n",
    "f0 = np.zeros((len(x),1)) ;\n",
    "## Build LHS matrix (matrix A)\n",
    "p = a * dt / (dx**2)\n",
    "A =   np.diag(-p * np.ones((N-1)), -1) + np.diag(2 * p * np.ones((N)), 0)+ np.diag(-p * np.ones((N-1)), +1)\n",
    "\n",
    "A=A+np.identity(len(A))\n",
    "\n",
    "## Build BC vector\n",
    "u_bc = np.zeros((len(x),1))\n",
    "u_bc[0] = a * dt / (dx**2) * DBC_L \n",
    "u_bc[-1] = a * dt / (dx**2) * DBC_R \n",
    "## Time stepping\n",
    "f_old = f0 \n"
   ]
  },
  {
   "cell_type": "code",
   "execution_count": 8,
   "id": "642b3707-6fab-4bad-98be-bfcad1015570",
   "metadata": {},
   "outputs": [
    {
     "data": {
      "text/plain": [
       "array([[ 1.5 , -0.25,  0.  , ...,  0.  ,  0.  ,  0.  ],\n",
       "       [-0.25,  1.5 , -0.25, ...,  0.  ,  0.  ,  0.  ],\n",
       "       [ 0.  , -0.25,  1.5 , ...,  0.  ,  0.  ,  0.  ],\n",
       "       ...,\n",
       "       [ 0.  ,  0.  ,  0.  , ...,  1.5 , -0.25,  0.  ],\n",
       "       [ 0.  ,  0.  ,  0.  , ..., -0.25,  1.5 , -0.25],\n",
       "       [ 0.  ,  0.  ,  0.  , ...,  0.  , -0.25,  1.5 ]])"
      ]
     },
     "execution_count": 8,
     "metadata": {},
     "output_type": "execute_result"
    }
   ],
   "source": [
    "A"
   ]
  },
  {
   "cell_type": "code",
   "execution_count": null,
   "id": "46ee8747-0859-464a-ab9b-83d15743fc2d",
   "metadata": {},
   "outputs": [],
   "source": [
    "f_new_list=[]\n",
    "xlist=[]\n",
    "f_old = f0\n",
    "dat_acq_int=50\n",
    "for it in range(10000):\n",
    "    b = u_bc + f_old \n",
    "    f_new = Func_GaussElimination(A, b) \n",
    "    f_old = f_new\n",
    "    if it%dat_acq_int==0:\n",
    "        f_new_list.append(np.insert(np.insert(f_new, 0, DBC_L),len(x)+1,DBC_R))\n",
    "        xlist.append(np.insert(np.insert(x, 0, 0),len(x)+1,1))\n",
    "HTML(plotter(xlist,f_new_list,interv=50,dat_acq=dat_acq_int).to_html5_video())"
   ]
  },
  {
   "cell_type": "code",
   "execution_count": 9,
   "id": "4564024c-cd75-4506-b2c9-807f84200028",
   "metadata": {},
   "outputs": [],
   "source": [
    "b = u_bc + f_old "
   ]
  },
  {
   "cell_type": "code",
   "execution_count": null,
   "id": "5b2f6a13-4979-4be0-b561-6f6b5f1aa41d",
   "metadata": {},
   "outputs": [],
   "source": []
  }
 ],
 "metadata": {
  "kernelspec": {
   "display_name": "Python 3 (ipykernel)",
   "language": "python",
   "name": "python3"
  },
  "language_info": {
   "codemirror_mode": {
    "name": "ipython",
    "version": 3
   },
   "file_extension": ".py",
   "mimetype": "text/x-python",
   "name": "python",
   "nbconvert_exporter": "python",
   "pygments_lexer": "ipython3",
   "version": "3.8.13"
  }
 },
 "nbformat": 4,
 "nbformat_minor": 5
}

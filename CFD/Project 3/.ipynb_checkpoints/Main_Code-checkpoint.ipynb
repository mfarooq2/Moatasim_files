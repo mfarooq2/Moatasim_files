{
 "cells": [
  {
   "cell_type": "code",
   "execution_count": 2,
   "id": "138636a3-f4e3-4e6d-ab10-b5829b2e3248",
   "metadata": {},
   "outputs": [],
   "source": [
    "from func_list import GenPointer,Grad,Div,BC_Div,Laplace,BC_Laplace,Adv"
   ]
  },
  {
   "cell_type": "code",
   "execution_count": 3,
   "id": "9451b032-9ae4-4274-872e-58f7cc9f9326",
   "metadata": {},
   "outputs": [],
   "source": [
    "#### Various functions and their inputs/outputs\n",
    "## Adv(qi, uBC_L, uBC_R, uBC_B, uBC_T, vBC_L, vBC_R, vBC_T, vBC_B,nu,iu,iv,nx,ny,dx,dy): return qo\n",
    "## BC_Laplace(uBC_L, uBC_R, uBC_B, uBC_T, vBC_L, vBC_R, vBC_T, vBC_B,nu,iu,iv,nx,ny,dx,dy): return bcL\n",
    "## Laplace(qi,nu,iu,iv,nx,ny,dx,dy ): return qo\n",
    "## BC_Div(uBC_L, uBC_R, vBC_T, vBC_B,np,ip,nx,ny,dx,dy): return bcD\n",
    "## Div(qi,np,nu,nx,ny,dx,dy,iu,iv,ip): return qo\n",
    "## Grad(qi,np,nu,nx,ny,dx,dy,iu,iv,ip): return qo\n",
    "## GenPointer(nx, ny): return ip,iu,iv"
   ]
  },
  {
   "cell_type": "code",
   "execution_count": null,
   "id": "81c9582c-c714-461d-8507-ab8e78a45c80",
   "metadata": {},
   "outputs": [],
   "source": []
  }
 ],
 "metadata": {
  "kernelspec": {
   "display_name": "Python 3 (ipykernel)",
   "language": "python",
   "name": "python3"
  },
  "language_info": {
   "codemirror_mode": {
    "name": "ipython",
    "version": 3
   },
   "file_extension": ".py",
   "mimetype": "text/x-python",
   "name": "python",
   "nbconvert_exporter": "python",
   "pygments_lexer": "ipython3",
   "version": "3.8.13"
  }
 },
 "nbformat": 4,
 "nbformat_minor": 5
}

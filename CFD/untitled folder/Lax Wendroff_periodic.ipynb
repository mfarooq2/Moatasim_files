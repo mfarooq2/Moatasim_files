{
 "cells": [
  {
   "cell_type": "code",
   "execution_count": 64,
   "id": "5d2397bd-9b44-40d0-ad0a-2f49004b3208",
   "metadata": {},
   "outputs": [],
   "source": [
    "import numpy as np\n",
    "import matplotlib.pyplot as plt\n",
    "from matplotlib.animation import FuncAnimation\n",
    "import time\n",
    "\n",
    "from itertools import count\n",
    "from IPython import display\n",
    "\n",
    "import seaborn as sns\n",
    "from IPython.display import HTML\n",
    "from scipy.io import loadmat\n",
    "from utils.helper_util import Func_GaussElimination,plotter\n",
    "import pandas as pd"
   ]
  },
  {
   "cell_type": "code",
   "execution_count": 58,
   "id": "c21e3f12-980f-4f6c-9332-b98fa84da732",
   "metadata": {},
   "outputs": [],
   "source": [
    "##Wave Propagation\n",
    "c=1\n",
    "##CFL\n",
    "CFL=0.8\n",
    "## grid\n",
    "N  = 100 ;\n",
    "x  = np.linspace(0, 1, N+1)\n",
    "x  = x[0:N] \n",
    "dx = x[1] - x[0] \n",
    "#Delta\n",
    "dt=CFL*dx/(c)\n",
    "t_domain=np.linspace(0, 4, int((4 - 0) / dt + 1))\n",
    "#initial condition\n",
    "sigma=0.01\n",
    "def f_not(x):\n",
    "    return np.exp((-(x-0.5)**2)/sigma)\n",
    "##Function_list\n",
    "f_new_list=[]\n",
    "xlist=[]\n",
    "Diff_old=np.zeros(len(x))\n",
    "Diff_new=np.zeros(len(x))\n",
    "dat_acq_int=1\n",
    "for j in range(len(x)):\n",
    "    Diff_new[j]=f_not(x[j])\n",
    "f_new_list.append(list(Diff_new))\n",
    "xlist.append(x)\n",
    "##AB-2 for solution\n",
    "dat_acq_int=1\n",
    "for it in range(1000):\n",
    "    Diff_new[0]=Diff_new[0]-(c*dt/(2*dx))*(-Diff_new[-1]+Diff_new[1])+(((c*dt)**2)/(2*dx**2))*(Diff_new[-1]-2*Diff_new[0]+Diff_new[1])\n",
    "    Diff_new[-1]=Diff_new[-1]-(c*dt/(2*dx))*(-Diff_new[-2]+Diff_new[0])+(((c*dt)**2)/(2*dx**2))*(Diff_new[-2]-2*Diff_new[-1]+Diff_new[0])\n",
    "    for j in range(1,len(x)-1):\n",
    "        Diff_new[j]=Diff_new[j]-(c*dt/(2*dx))*(-Diff_new[j-1]+Diff_new[j+1])+(((c*dt)**2)/(2*dx**2))*(Diff_new[j-1]-2*Diff_new[j]+Diff_new[j+1])\n",
    "    #f_new_list.append(list(Diff_new))\n",
    "    f_new_list.append(list(np.insert(Diff_new, len(x), Diff_new[0])))\n",
    "    xlist.append(np.insert(x, len(x), 1))\n",
    "    "
   ]
  }
 ],
 "metadata": {
  "kernelspec": {
   "display_name": "Python 3 (ipykernel)",
   "language": "python",
   "name": "python3"
  },
  "language_info": {
   "codemirror_mode": {
    "name": "ipython",
    "version": 3
   },
   "file_extension": ".py",
   "mimetype": "text/x-python",
   "name": "python",
   "nbconvert_exporter": "python",
   "pygments_lexer": "ipython3",
   "version": "3.8.13"
  }
 },
 "nbformat": 4,
 "nbformat_minor": 5
}

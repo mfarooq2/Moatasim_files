{
 "cells": [
  {
   "cell_type": "code",
   "execution_count": 1,
   "id": "b62c6b3e-97c9-43d7-b7bf-95cff94220d0",
   "metadata": {
    "tags": []
   },
   "outputs": [],
   "source": [
    "import numpy as np\n",
    "import matplotlib.pyplot as plt\n",
    "import pandas as pd\n",
    "from numpy.linalg import norm\n",
    "from tqdm import tqdm\n",
    "from func_list import explicit_matrix,GenPointer,Grad,Div,BC_Div,Laplace,BC_Laplace,Adv,pointer_mapping,CG_solver,CG_solver_all,R_operator,S_operator,R_inv_operator,curl_operator,BC_Curl,inter_velocity"
   ]
  },
  {
   "cell_type": "code",
   "execution_count": 2,
   "id": "b268b500-01a9-4c5f-a75e-11d01d81024c",
   "metadata": {},
   "outputs": [],
   "source": [
    "nx = 5\n",
    "ny = 5\n",
    "## Pointer and Grid\n",
    "ip, iu, iv,idu = GenPointer(nx, ny)\n",
    "\n",
    "dx = 1 / nx\n",
    "dy = 1 / ny\n",
    "\n",
    "np_ = nx * ny\n",
    "nu = 2*nx*ny - nx - ny\n",
    "dt=0.001\n",
    "v=0.5\n",
    "p  = np.zeros((np_, 1))\n",
    "u  = np.zeros((nu, 1))\n",
    "\n",
    "\n",
    "args=np_,nu,nx,ny,dx,dy,iu,iv,ip,dt,v\n",
    "inp=nu\n",
    "out=np_\n",
    "A=explicit_matrix(Div,out,inp,args)\n",
    "#args=np_,nu,nx,ny,dx,dy,iu,iv,ip,dt,v\n",
    "#A,i=explicit_matrix(Grad,out,inp,args)"
   ]
  },
  {
   "cell_type": "code",
   "execution_count": 6,
   "id": "87b5acbc-6dd7-4297-82c3-450f76f3cc39",
   "metadata": {},
   "outputs": [
    {
     "data": {
      "text/plain": [
       "(40, 1)"
      ]
     },
     "execution_count": 6,
     "metadata": {},
     "output_type": "execute_result"
    }
   ],
   "source": [
    "(A@p).shape"
   ]
  },
  {
   "cell_type": "code",
   "execution_count": 4,
   "id": "bb310f20-e033-4fde-b702-1e955dbb7488",
   "metadata": {},
   "outputs": [
    {
     "data": {
      "text/plain": [
       "(40, 1)"
      ]
     },
     "execution_count": 4,
     "metadata": {},
     "output_type": "execute_result"
    }
   ],
   "source": []
  },
  {
   "cell_type": "code",
   "execution_count": null,
   "id": "7da42587-43dd-4ef3-b691-f75e2667a9df",
   "metadata": {},
   "outputs": [],
   "source": [
    "vis=pointer_mapping(A,0)"
   ]
  },
  {
   "cell_type": "code",
   "execution_count": null,
   "id": "bcdaba34-6b37-4342-8c5c-a3070bf54694",
   "metadata": {},
   "outputs": [],
   "source": [
    "plt.matshow(A, fignum=None)\n",
    "plt.show()"
   ]
  },
  {
   "cell_type": "code",
   "execution_count": null,
   "id": "1da5472b-e3c3-4c42-9de3-701247d4d2d6",
   "metadata": {},
   "outputs": [],
   "source": [
    "Q.shape"
   ]
  },
  {
   "cell_type": "code",
   "execution_count": null,
   "id": "579a7c71-5eca-437f-9f03-0c25fe4bc3df",
   "metadata": {},
   "outputs": [],
   "source": [
    "Q.shape"
   ]
  },
  {
   "cell_type": "code",
   "execution_count": null,
   "id": "fbedd168-68ef-4924-929c-0a083e66ea2c",
   "metadata": {},
   "outputs": [],
   "source": [
    "oct_array = np.frompyfunc(np.sqrt, 1, 1)\n",
    "oct_array(np.array((10, 30, 100)))"
   ]
  },
  {
   "cell_type": "code",
   "execution_count": null,
   "id": "d32c6f92-3c2f-4fc1-92b9-be002e90065e",
   "metadata": {},
   "outputs": [],
   "source": [
    "np.sqrt(np.array((10, 30, 100)))"
   ]
  },
  {
   "cell_type": "code",
   "execution_count": null,
   "id": "9dbc9a3e-7be9-4fca-aaa7-c142b8746752",
   "metadata": {},
   "outputs": [],
   "source": []
  }
 ],
 "metadata": {
  "kernelspec": {
   "display_name": "Python 3 (ipykernel)",
   "language": "python",
   "name": "python3"
  },
  "language_info": {
   "codemirror_mode": {
    "name": "ipython",
    "version": 3
   },
   "file_extension": ".py",
   "mimetype": "text/x-python",
   "name": "python",
   "nbconvert_exporter": "python",
   "pygments_lexer": "ipython3",
   "version": "3.8.13"
  }
 },
 "nbformat": 4,
 "nbformat_minor": 5
}

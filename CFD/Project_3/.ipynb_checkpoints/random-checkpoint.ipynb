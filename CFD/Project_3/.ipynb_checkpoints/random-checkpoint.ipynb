{
 "cells": [
  {
   "cell_type": "code",
   "execution_count": null,
   "id": "7047672e",
   "metadata": {
    "tags": []
   },
   "outputs": [],
   "source": [
    "import numpy as np\n",
    "import matplotlib.pyplot as plt\n",
    "import pandas as pd\n",
    "from numpy.linalg import norm\n",
    "from tqdm import tqdm\n",
    "from func_list_vect import *\n",
    "import json"
   ]
  },
  {
   "cell_type": "code",
   "execution_count": null,
   "id": "eae12736",
   "metadata": {},
   "outputs": [],
   "source": [
    "v,args,cg_iter,nx,ny,dx,dy,np_,nu,X,Y,ip,iu,iv,idu,dt,p,u,qi,bcL,bcD,uBC_L, uBC_R, uBC_B, uBC_T, vBC_L, vBC_R, vBC_T, vBC_B=data_unloader(**json.load(open('/Users/moatasimfarooque/Documents/CFD/Moatasim_files/CFD/Project_3/data.json')))\n"
   ]
  },
  {
   "cell_type": "code",
   "execution_count": null,
   "id": "9791aa56",
   "metadata": {},
   "outputs": [],
   "source": [
    "file='/Users/moatasimfarooque/Documents/CFD/Moatasim_files/CFD/Project_3/test_2.npy'\n",
    "with open(file, 'rb') as f:\n",
    "    qi= np.load(f,allow_pickle=True)\n",
    "    uf= np.load(f,allow_pickle=True)\n",
    "    u_new = np.load(f,allow_pickle=True)\n",
    "    P = np.load(f,allow_pickle=True)\n",
    "\n",
    "quant=u_new\n",
    "u_vec=np.reshape(quant[0:iu[-1,-1]+1], (nx-1,ny), order='C')\n",
    "new_row=np.zeros((1,ny))\n",
    "u_vec=np.vstack([u_vec, new_row])\n",
    "\n",
    "v_vec=np.reshape(quant[iu[-1,-1]+1:], (nx,ny-1), order='C')\n",
    "new_row=np.zeros((nx,1))\n",
    "v_vec=np.hstack([v_vec, new_row])\n",
    "fig,ax=plt.subplots(1,1)\n",
    "#cp = ax.contour(X, Y, curl_visual,cmap='coolwarm')\n",
    "cp = ax.contourf(X, Y, u_vec)\n",
    "fig.colorbar(cp)\n",
    "ax.set_title('Filled Contours Plot')\n",
    "ax.set_xlabel('x (units)')\n",
    "ax.set_ylabel('y (units)')\n",
    "plt.show()"
   ]
  },
  {
   "cell_type": "code",
   "execution_count": null,
   "id": "c146a2e3",
   "metadata": {},
   "outputs": [],
   "source": [
    "dict_saver=pd.read_csv('dict_saver.csv')"
   ]
  },
  {
   "cell_type": "code",
   "execution_count": null,
   "id": "32d5b759",
   "metadata": {},
   "outputs": [],
   "source": [
    "X,Y=np.meshgrid(np.linspace(0,1,nx), np.linspace(0,1,ny), indexing='ij')\n",
    "p_vec=np.reshape(P[0:ip[-1,-1]+1], (nx,ny), order='C')\n",
    "\n",
    "fig,ax=plt.subplots(1,1)\n",
    "#cp = ax.contour(X, Y, curl_visual,cmap='coolwarm')\n",
    "cp = ax.contourf(X, Y, p_vec)\n",
    "fig.colorbar(cp)\n",
    "ax.set_title('Filled Contours Plot')\n",
    "ax.set_xlabel('x (units)')\n",
    "ax.set_ylabel('y (units)')\n",
    "plt.show()"
   ]
  },
  {
   "cell_type": "code",
   "execution_count": null,
   "id": "7eb9c398",
   "metadata": {},
   "outputs": [],
   "source": [
    "new_row.shape"
   ]
  },
  {
   "cell_type": "code",
   "execution_count": null,
   "id": "adf99bc3",
   "metadata": {},
   "outputs": [],
   "source": [
    "nx,ny"
   ]
  },
  {
   "cell_type": "code",
   "execution_count": null,
   "id": "a03a807a",
   "metadata": {},
   "outputs": [],
   "source": [
    "u_vec.shape"
   ]
  },
  {
   "cell_type": "code",
   "execution_count": null,
   "id": "dc42c8ef",
   "metadata": {},
   "outputs": [],
   "source": [
    "u_vec=np.reshape(u_new[0:iu[-1,-1]+1], (nx-1,ny), order='C')\n",
    "new_row=np.zeros((1,ny))\n",
    "u_vec=np.vstack([u_vec, new_row])\n",
    "\n",
    "v_vec=np.reshape(u_new[iu[-1,-1]+1:], (nx,ny-1), order='C')\n",
    "new_row=np.zeros((nx,1))\n",
    "v_vec=np.hstack([v_vec, new_row])\n",
    "fig,ax=plt.subplots(1,1)\n",
    "#cp = ax.contour(X, Y, curl_visual,cmap='coolwarm')\n",
    "cp = ax.contourf(X, Y, v_vec)\n",
    "fig.colorbar(cp)\n",
    "ax.set_title('Filled Contours Plot')\n",
    "ax.set_xlabel('x (units)')\n",
    "ax.set_ylabel('y (units)')\n",
    "plt.show()"
   ]
  },
  {
   "cell_type": "code",
   "execution_count": null,
   "id": "1759af86",
   "metadata": {},
   "outputs": [],
   "source": [
    "p=explicit_matrix(Adv_Vec,2,nu,args)"
   ]
  },
  {
   "cell_type": "code",
   "execution_count": null,
   "id": "b3a3b0b7",
   "metadata": {},
   "outputs": [],
   "source": [
    "matrix_A=[]\n",
    "for i in range(nu):\n",
    "    Q=np.zeros((nu,1))\n",
    "    Q[i,0]=1\n",
    "    pd.DataFrame(list(Adv_Vec(Q,*args)[:,0])).to_csv(f\"/Users/moatasimfarooque/Documents/CFD/Moatasim_files/CFD/Project_3/Adv_Matrix/matrix_repr{i}.csv\",index=False)"
   ]
  },
  {
   "cell_type": "code",
   "execution_count": null,
   "id": "6eda076d",
   "metadata": {},
   "outputs": [],
   "source": [
    "s=pd.read_csv('/Users/moatasimfarooque/Documents/CFD/Moatasim_files/CFD/Project_3/Adv_Matrix/matrix_repr0.csv')"
   ]
  },
  {
   "cell_type": "code",
   "execution_count": null,
   "id": "0450f23d",
   "metadata": {},
   "outputs": [],
   "source": [
    "indptr = [0]\n",
    "indices = []\n",
    "data = []\n",
    "vocabulary = {}\n",
    "for i in tqdm(range(5)):\n",
    "    Q=np.zeros((5,1))\n",
    "    Q[i,0]=1\n",
    "    s=list(Adv_Vec(Q,*args)[:,0])\n",
    "    for term in s:\n",
    "        index = vocabulary.setdefault(term, len(vocabulary))\n",
    "        indices.append(index)\n",
    "        data.append(1)\n",
    "    indptr.append(len(indices))"
   ]
  },
  {
   "cell_type": "code",
   "execution_count": null,
   "id": "df80da39",
   "metadata": {},
   "outputs": [],
   "source": [
    "mat = csr_matrix((data, indices, indptr), shape=(128, 128))"
   ]
  },
  {
   "cell_type": "code",
   "execution_count": null,
   "id": "16dd5042",
   "metadata": {},
   "outputs": [],
   "source": [
    "iu.shape"
   ]
  },
  {
   "cell_type": "code",
   "execution_count": null,
   "id": "44b0cbca",
   "metadata": {},
   "outputs": [],
   "source": [
    "iv.shape"
   ]
  },
  {
   "cell_type": "code",
   "execution_count": null,
   "id": "8cdef591",
   "metadata": {},
   "outputs": [],
   "source": [
    "v,args,cg_iter,nx,ny,dx,dy,np_,nu,X,Y,ip,iu,iv,idu,dt,p,u,qi,bcL,bcD,uBC_L, uBC_R, uBC_B, uBC_T, vBC_L, vBC_R, vBC_T, vBC_B=data_unloader(**json.load(open('/Users/moatasimfarooque/Documents/CFD/Moatasim_files/CFD/Project_3/data.json')))\n",
    "Operator=[[Grad_Vec],[Laplace_Vec],[Div_Vec],[Adv_Vec]]\n",
    "Operator_names=['Grad','Laplace','Div','Adv']\n",
    "nu_list=[np_,nu,nu,nu]\n",
    "#args=np_,nu,nx,ny,dx,dy,iu,iv,ip,dt,v\n",
    "fig, axs = plt.subplots(2, 2)\n",
    "k=0\n",
    "for i in range(2):\n",
    "    for j in range(2):\n",
    "        s=explicit_matrix_combo(Operator[k],nu_list[k],args)\n",
    "        axs[i, j].matshow(s)\n",
    "        axs[i, j].set_title(f\"{Operator_names[k]}\")\n",
    "        k=k+1\n",
    "plt.show()"
   ]
  },
  {
   "cell_type": "code",
   "execution_count": null,
   "id": "dcce71bc",
   "metadata": {},
   "outputs": [],
   "source": []
  }
 ],
 "metadata": {
  "kernelspec": {
   "display_name": "Python 3 (ipykernel)",
   "language": "python",
   "name": "python3"
  },
  "language_info": {
   "codemirror_mode": {
    "name": "ipython",
    "version": 3
   },
   "file_extension": ".py",
   "mimetype": "text/x-python",
   "name": "python",
   "nbconvert_exporter": "python",
   "pygments_lexer": "ipython3",
   "version": "3.8.13"
  }
 },
 "nbformat": 4,
 "nbformat_minor": 5
}

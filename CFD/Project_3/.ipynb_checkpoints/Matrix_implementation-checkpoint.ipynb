{
 "cells": [
  {
   "cell_type": "code",
   "execution_count": 41,
   "id": "1eb9f5b4-9472-413f-84b6-d5037bbf02c7",
   "metadata": {},
   "outputs": [],
   "source": [
    "import numpy as np\n",
    "import matplotlib.pyplot as plt\n",
    "import pandas as pd\n",
    "from numpy.linalg import norm\n",
    "from tqdm import tqdm\n",
    "from scipy.linalg import lu_factor,lu_solve,cho_factor,cho_solve\n",
    "from scipy import linalg as linalg \n",
    "from func_list import explicit_matrix,GenPointer,Grad,Div,BC_Div,Laplace,BC_Laplace,Adv,pointer_mapping,CG_solver,CG_solver_all,R_operator,S_operator,R_inv_operator,curl_operator,BC_Curl,inter_velocity"
   ]
  },
  {
   "cell_type": "code",
   "execution_count": 43,
   "id": "fdbc6e82-65cf-4d95-a3a2-5b64ea6491e3",
   "metadata": {},
   "outputs": [],
   "source": [
    "!conda env list"
   ]
  },
  {
   "cell_type": "code",
   "execution_count": 38,
   "id": "2c4b262f-c728-4607-a6e2-4348c400d78f",
   "metadata": {},
   "outputs": [],
   "source": [
    "\n",
    "nx = 7\n",
    "ny = 6\n",
    "## Pointer and Grid\n",
    "ip, iu, iv,idu = GenPointer(nx, ny)\n",
    "\n",
    "dx = 1 / nx\n",
    "dy = 1 / ny\n",
    "\n",
    "np_ = nx * ny\n",
    "nu = 2*nx*ny - nx - ny\n",
    "dt=0.001\n",
    "v=0.5\n",
    "X,Y=np.meshgrid(np.linspace(0,1,nx), np.linspace(0,1,ny), indexing='ij')\n",
    "\n",
    "###Boundaries\n",
    "uBC_L = 0\n",
    "uBC_R = 0\n",
    "uBC_B = 0\n",
    "uBC_T = 1\n",
    "vBC_L = 0\n",
    "vBC_R = 0\n",
    "vBC_T = 0\n",
    "vBC_B = 0\n",
    "Re=40\n",
    "v=1/Re\n",
    "dt=1/((1/dx)+(1/dy))\n",
    "dt=dt/20\n",
    "p  = np.zeros((np_, 1))\n",
    "u  = np.zeros((nu, 1))\n",
    "qi = np.zeros((nu,1))\n",
    "b  = np.zeros((nu,1))\n",
    "bcL=BC_Laplace(uBC_L, uBC_R, uBC_B, uBC_T, vBC_L, vBC_R, vBC_T, vBC_B,nu,iu,iv,nx,ny,dx,dy)\n",
    "bcD = BC_Div(uBC_L, uBC_R, vBC_T, vBC_B,np_,ip,nx,ny,dx,dy)\n",
    "\n",
    "cg_iter=100\n"
   ]
  },
  {
   "cell_type": "code",
   "execution_count": 29,
   "id": "70d9f8ab-1fab-4eed-9d30-e4a7c5478e09",
   "metadata": {},
   "outputs": [],
   "source": [
    "##Advection_Matrix\n",
    "args=uBC_L, uBC_R, uBC_B, uBC_T, vBC_L, vBC_R, vBC_T, vBC_B,nu,iu,iv,nx,ny,dx,dy,dt,v\n",
    "Advection_M=explicit_matrix(Adv,nu,nu,args)\n",
    "##Laplace_Matrix\n",
    "args=nu,iu,iv,nx,ny,dx,dy,dt,v\n",
    "Laplace_M=explicit_matrix(Laplace,nu,nu,args)"
   ]
  },
  {
   "cell_type": "code",
   "execution_count": 30,
   "id": "125c6e7e-4634-4352-86af-564cdfabc386",
   "metadata": {},
   "outputs": [],
   "source": [
    "##Divergence_Matrix\n",
    "args=np_,nu,nx,ny,dx,dy,iu,iv,ip,dt,v\n",
    "Divergence_M=explicit_matrix(Div,np_,nu,args)"
   ]
  },
  {
   "cell_type": "code",
   "execution_count": 31,
   "id": "ace4ee1e-dc3e-4df6-bb5b-47ca3887bcc5",
   "metadata": {},
   "outputs": [],
   "source": [
    "##Gradient\n",
    "args=np_,nu,nx,ny,dx,dy,iu,iv,ip,dt,v\n",
    "Grad_M=explicit_matrix(Grad,nu,np_,args)"
   ]
  },
  {
   "cell_type": "code",
   "execution_count": 32,
   "id": "86c4168e-c401-4fef-8d55-23cc28207302",
   "metadata": {},
   "outputs": [],
   "source": [
    "args=nu,iu,iv,nx,ny,dx,dy,dt,v\n",
    "R_inv=explicit_matrix(R_inv_operator,nu,nu,args)"
   ]
  },
  {
   "cell_type": "code",
   "execution_count": 36,
   "id": "7e3d7490-973c-4da2-817b-ba2b5de01af9",
   "metadata": {},
   "outputs": [
    {
     "data": {
      "image/png": "[encoded data removed]",
      "text/plain": [
       "<Figure size 288x288 with 1 Axes>"
      ]
     },
     "metadata": {
      "needs_background": "light"
     },
     "output_type": "display_data"
    }
   ],
   "source": [
    "plt.matshow(Divergence_M@R_inv@Grad_M, fignum=None)\n",
    "plt.show()"
   ]
  },
  {
   "cell_type": "code",
   "execution_count": 33,
   "id": "04429884-0e28-4d72-9504-a56e6dcf62d3",
   "metadata": {},
   "outputs": [
    {
     "name": "stderr",
     "output_type": "stream",
     "text": [
      "/var/folders/g4/wndq11z17l7bl56tk3j1s6980000gn/T/ipykernel_27088/2538138997.py:5: LinAlgWarning: Diagonal number 41 is exactly zero. Singular matrix.\n",
      "  x=lu_factor(Divergence_M@R_inv@Grad_M )\n"
     ]
    }
   ],
   "source": [
    "A_n=Advection_M@qi\n",
    "Lu_n=Laplace_M@qi\n",
    "uf=qi + dt*(A_n+v*Lu_n)\n",
    "D_rhs= (Divergence_M@uf)/dt\n",
    "x=lu_factor(Divergence_M@R_inv@Grad_M ) "
   ]
  },
  {
   "cell_type": "code",
   "execution_count": 40,
   "id": "03755750-492a-49d1-8547-9ef59d865830",
   "metadata": {},
   "outputs": [
    {
     "ename": "LinAlgError",
     "evalue": "1-th leading minor of the array is not positive definite",
     "output_type": "error",
     "traceback": [
      "\u001b[0;31m---------------------------------------------------------------------------\u001b[0m",
      "\u001b[0;31mLinAlgError\u001b[0m                               Traceback (most recent call last)",
      "Input \u001b[0;32mIn [40]\u001b[0m, in \u001b[0;36m<cell line: 1>\u001b[0;34m()\u001b[0m\n\u001b[0;32m----> 1\u001b[0m c, low \u001b[38;5;241m=\u001b[39m \u001b[43mcho_factor\u001b[49m\u001b[43m(\u001b[49m\u001b[43mDivergence_M\u001b[49m\u001b[38;5;129;43m@R_inv\u001b[39;49m\u001b[38;5;129;43m@Grad_M\u001b[39;49m\u001b[43m \u001b[49m\u001b[43m)\u001b[49m\n",
      "File \u001b[0;32m~/opt/anaconda3/lib/python3.9/site-packages/scipy/linalg/decomp_cholesky.py:152\u001b[0m, in \u001b[0;36mcho_factor\u001b[0;34m(a, lower, overwrite_a, check_finite)\u001b[0m\n\u001b[1;32m     93\u001b[0m \u001b[38;5;28;01mdef\u001b[39;00m \u001b[38;5;21mcho_factor\u001b[39m(a, lower\u001b[38;5;241m=\u001b[39m\u001b[38;5;28;01mFalse\u001b[39;00m, overwrite_a\u001b[38;5;241m=\u001b[39m\u001b[38;5;28;01mFalse\u001b[39;00m, check_finite\u001b[38;5;241m=\u001b[39m\u001b[38;5;28;01mTrue\u001b[39;00m):\n\u001b[1;32m     94\u001b[0m     \u001b[38;5;124;03m\"\"\"\u001b[39;00m\n\u001b[1;32m     95\u001b[0m \u001b[38;5;124;03m    Compute the Cholesky decomposition of a matrix, to use in cho_solve\u001b[39;00m\n\u001b[1;32m     96\u001b[0m \n\u001b[0;32m   (...)\u001b[0m\n\u001b[1;32m    150\u001b[0m \n\u001b[1;32m    151\u001b[0m \u001b[38;5;124;03m    \"\"\"\u001b[39;00m\n\u001b[0;32m--> 152\u001b[0m     c, lower \u001b[38;5;241m=\u001b[39m \u001b[43m_cholesky\u001b[49m\u001b[43m(\u001b[49m\u001b[43ma\u001b[49m\u001b[43m,\u001b[49m\u001b[43m \u001b[49m\u001b[43mlower\u001b[49m\u001b[38;5;241;43m=\u001b[39;49m\u001b[43mlower\u001b[49m\u001b[43m,\u001b[49m\u001b[43m \u001b[49m\u001b[43moverwrite_a\u001b[49m\u001b[38;5;241;43m=\u001b[39;49m\u001b[43moverwrite_a\u001b[49m\u001b[43m,\u001b[49m\u001b[43m \u001b[49m\u001b[43mclean\u001b[49m\u001b[38;5;241;43m=\u001b[39;49m\u001b[38;5;28;43;01mFalse\u001b[39;49;00m\u001b[43m,\u001b[49m\n\u001b[1;32m    153\u001b[0m \u001b[43m                         \u001b[49m\u001b[43mcheck_finite\u001b[49m\u001b[38;5;241;43m=\u001b[39;49m\u001b[43mcheck_finite\u001b[49m\u001b[43m)\u001b[49m\n\u001b[1;32m    154\u001b[0m     \u001b[38;5;28;01mreturn\u001b[39;00m c, lower\n",
      "File \u001b[0;32m~/opt/anaconda3/lib/python3.9/site-packages/scipy/linalg/decomp_cholesky.py:37\u001b[0m, in \u001b[0;36m_cholesky\u001b[0;34m(a, lower, overwrite_a, clean, check_finite)\u001b[0m\n\u001b[1;32m     35\u001b[0m c, info \u001b[38;5;241m=\u001b[39m potrf(a1, lower\u001b[38;5;241m=\u001b[39mlower, overwrite_a\u001b[38;5;241m=\u001b[39moverwrite_a, clean\u001b[38;5;241m=\u001b[39mclean)\n\u001b[1;32m     36\u001b[0m \u001b[38;5;28;01mif\u001b[39;00m info \u001b[38;5;241m>\u001b[39m \u001b[38;5;241m0\u001b[39m:\n\u001b[0;32m---> 37\u001b[0m     \u001b[38;5;28;01mraise\u001b[39;00m LinAlgError(\u001b[38;5;124m\"\u001b[39m\u001b[38;5;132;01m%d\u001b[39;00m\u001b[38;5;124m-th leading minor of the array is not positive \u001b[39m\u001b[38;5;124m\"\u001b[39m\n\u001b[1;32m     38\u001b[0m                       \u001b[38;5;124m\"\u001b[39m\u001b[38;5;124mdefinite\u001b[39m\u001b[38;5;124m\"\u001b[39m \u001b[38;5;241m%\u001b[39m info)\n\u001b[1;32m     39\u001b[0m \u001b[38;5;28;01mif\u001b[39;00m info \u001b[38;5;241m<\u001b[39m \u001b[38;5;241m0\u001b[39m:\n\u001b[1;32m     40\u001b[0m     \u001b[38;5;28;01mraise\u001b[39;00m \u001b[38;5;167;01mValueError\u001b[39;00m(\u001b[38;5;124m'\u001b[39m\u001b[38;5;124mLAPACK reported an illegal value in \u001b[39m\u001b[38;5;132;01m{}\u001b[39;00m\u001b[38;5;124m-th argument\u001b[39m\u001b[38;5;124m'\u001b[39m\n\u001b[1;32m     41\u001b[0m                      \u001b[38;5;124m'\u001b[39m\u001b[38;5;124mon entry to \u001b[39m\u001b[38;5;124m\"\u001b[39m\u001b[38;5;124mPOTRF\u001b[39m\u001b[38;5;124m\"\u001b[39m\u001b[38;5;124m.\u001b[39m\u001b[38;5;124m'\u001b[39m\u001b[38;5;241m.\u001b[39mformat(\u001b[38;5;241m-\u001b[39minfo))\n",
      "\u001b[0;31mLinAlgError\u001b[0m: 1-th leading minor of the array is not positive definite"
     ]
    }
   ],
   "source": [
    "\n",
    "c, low = cho_factor(Divergence_M@R_inv@Grad_M )\n",
    "#x = cho_solve((c, low), [1, 1, 1, 1])"
   ]
  },
  {
   "cell_type": "code",
   "execution_count": 35,
   "id": "de0bea9a-0f2f-4b89-8eb6-accc976494a8",
   "metadata": {},
   "outputs": [
    {
     "data": {
      "text/plain": [
       "array([[  0.        ,   0.        ,   0.        , ...,   0.        ,\n",
       "          0.        ,   0.        ],\n",
       "       [ 14.95384615, -69.67307692,  12.46153846, ...,   0.        ,\n",
       "          0.        ,   0.        ],\n",
       "       [  2.49230769,  12.46153846, -69.67307692, ...,   0.        ,\n",
       "          0.        ,   0.        ],\n",
       "       ...,\n",
       "       [  0.        ,   0.        ,   0.        , ..., -69.67307692,\n",
       "         12.46153846,   2.49230769],\n",
       "       [  0.        ,   0.        ,   0.        , ...,  12.46153846,\n",
       "        -69.67307692,  14.95384615],\n",
       "       [  0.        ,   0.        ,   0.        , ...,   2.49230769,\n",
       "         14.95384615, -53.81923077]])"
      ]
     },
     "execution_count": 35,
     "metadata": {},
     "output_type": "execute_result"
    }
   ],
   "source": [
    "(Divergence_M@R_inv@Grad_M)"
   ]
  },
  {
   "cell_type": "code",
   "execution_count": null,
   "id": "4fa74028-d9d0-4945-b6fc-4a526122641d",
   "metadata": {},
   "outputs": [
    {
     "ename": "AttributeError",
     "evalue": "module 'numpy.linalg' has no attribute 'lu_factor'",
     "output_type": "error",
     "traceback": [
      "\u001b[0;31m---------------------------------------------------------------------------\u001b[0m",
      "\u001b[0;31mAttributeError\u001b[0m                            Traceback (most recent call last)",
      "Input \u001b[0;32mIn [16]\u001b[0m, in \u001b[0;36m<cell line: 1>\u001b[0;34m()\u001b[0m\n\u001b[0;32m----> 1\u001b[0m LU \u001b[38;5;241m=\u001b[39m \u001b[43mnp\u001b[49m\u001b[38;5;241;43m.\u001b[39;49m\u001b[43mlinalg\u001b[49m\u001b[38;5;241;43m.\u001b[39;49m\u001b[43mlu_factor\u001b[49m(Divergence_M\u001b[38;5;129m@R_inv\u001b[39m\u001b[38;5;129m@Grad_M\u001b[39m)\n",
      "\u001b[0;31mAttributeError\u001b[0m: module 'numpy.linalg' has no attribute 'lu_factor'"
     ]
    }
   ],
   "source": [
    "LU = np.linalg.lu_factor(Divergence_M@R_inv@Grad_M) "
   ]
  },
  {
   "cell_type": "code",
   "execution_count": null,
   "id": "f654ac43-b796-4d99-9045-adddfc37d3a1",
   "metadata": {},
   "outputs": [],
   "source": [
    "A_n=Adv(qi, uBC_L, uBC_R, uBC_B, uBC_T, vBC_L, vBC_R, vBC_T, vBC_B,nu,iu,iv,nx,ny,dx,dy,dt,v)\n",
    "Lu_n=Laplace(qi,nu,iu,iv,nx,ny,dx,dy,dt,v)+bcL\n",
    "\n",
    "uf=qi + dt*(A_n+v*Lu_n)\n",
    "D_rhs= (Div(uf,np_,nu,nx,ny,dx,dy,iu,iv,ip,dt,v)+bcD)/dt\n",
    "\n",
    "\n",
    "args1=np_,nu,nx,ny,dx,dy,iu,iv,ip,dt,v\n",
    "args2=np_,nu,nx,ny,dx,dy,iu,iv,ip,dt,v\n",
    "#args3=np_,nu,nx,ny,dx,dy,iu,iv,ip\n",
    "    \n",
    "P=CG_solver_all([Grad,Div],D_rhs,p,args1,args2,args2,cg_iter)\n",
    "u_new=uf-dt*Grad(P,np_,nu,nx,ny,dx,dy,iu,iv,ip,dt,v)"
   ]
  }
 ],
 "metadata": {
  "kernelspec": {
   "display_name": "Python 3 (ipykernel)",
   "language": "python",
   "name": "python3"
  },
  "language_info": {
   "codemirror_mode": {
    "name": "ipython",
    "version": 3
   },
   "file_extension": ".py",
   "mimetype": "text/x-python",
   "name": "python",
   "nbconvert_exporter": "python",
   "pygments_lexer": "ipython3",
   "version": "3.8.13"
  }
 },
 "nbformat": 4,
 "nbformat_minor": 5
}

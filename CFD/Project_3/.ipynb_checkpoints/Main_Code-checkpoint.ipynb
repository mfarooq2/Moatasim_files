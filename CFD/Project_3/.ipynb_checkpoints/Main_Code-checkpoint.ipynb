{
 "cells": [
  {
   "cell_type": "code",
   "execution_count": 1,
   "id": "138636a3-f4e3-4e6d-ab10-b5829b2e3248",
   "metadata": {},
   "outputs": [],
   "source": [
    "import numpy as np\n",
    "import matplotlib.pyplot as plt\n",
    "import pandas as pd\n",
    "from numpy.linalg import norm\n",
    "from tqdm import tqdm\n",
    "from func_list import explicit_matrix,GenPointer,Grad,Div,BC_Div,Laplace,BC_Laplace,Adv,pointer_mapping,CG_solver,CG_solver_all,R_operator,S_operator,R_inv_operator,curl_operator,BC_Curl,inter_velocity"
   ]
  },
  {
   "cell_type": "code",
   "execution_count": 4,
   "id": "e581dde7-4922-4756-9cf8-0a5a266654b1",
   "metadata": {},
   "outputs": [],
   "source": [
    "!conda env list"
   ]
  },
  {
   "cell_type": "code",
   "execution_count": 2,
   "id": "81c9582c-c714-461d-8507-ab8e78a45c80",
   "metadata": {},
   "outputs": [],
   "source": [
    "\n",
    "nx = 129\n",
    "ny = 129\n",
    "## Pointer and Grid\n",
    "ip, iu, iv,idu = GenPointer(nx, ny)\n",
    "\n",
    "dx = 1 / nx\n",
    "dy = 1 / ny\n",
    "\n",
    "np_ = nx * ny\n",
    "nu = 2*nx*ny - nx - ny\n",
    "dt=0.001\n",
    "v=0.5\n",
    "X,Y=np.meshgrid(np.linspace(0,1,nx), np.linspace(0,1,ny), indexing='ij')\n",
    "\n",
    "###Boundaries\n",
    "uBC_L = 0\n",
    "uBC_R = 0\n",
    "uBC_B = 0\n",
    "uBC_T = 1\n",
    "vBC_L = 0\n",
    "vBC_R = 0\n",
    "vBC_T = 0\n",
    "vBC_B = 0\n",
    "Re=40\n",
    "v=1/Re\n",
    "dt=1/((1/dx)+(1/dy))\n",
    "dt=dt/20\n",
    "p  = np.zeros((np_, 1))\n",
    "u  = np.zeros((nu, 1))\n",
    "qi = np.zeros((nu,1))\n",
    "b  = np.zeros((nu,1))\n",
    "bcL=BC_Laplace(uBC_L, uBC_R, uBC_B, uBC_T, vBC_L, vBC_R, vBC_T, vBC_B,nu,iu,iv,nx,ny,dx,dy)\n",
    "bcD = BC_Div(uBC_L, uBC_R, vBC_T, vBC_B,np_,ip,nx,ny,dx,dy)\n",
    "\n",
    "cg_iter=1000\n"
   ]
  },
  {
   "cell_type": "code",
   "execution_count": null,
   "id": "5bba9398-242b-4326-9cd8-376b023dfee0",
   "metadata": {},
   "outputs": [],
   "source": [
    "A_n=Adv(qi, uBC_L, uBC_R, uBC_B, uBC_T, vBC_L, vBC_R, vBC_T, vBC_B,nu,iu,iv,nx,ny,dx,dy,dt,v)\n",
    "Lu_n=Laplace(qi,nu,iu,iv,nx,ny,dx,dy,dt,v)+bcL\n",
    "\n",
    "uf=qi + dt*(A_n+v*Lu_n)\n",
    "D_rhs= (Div(uf,np_,nu,nx,ny,dx,dy,iu,iv,ip,dt,v)+bcD)/dt\n",
    "\n",
    "\n",
    "args1=np_,nu,nx,ny,dx,dy,iu,iv,ip,dt,v\n",
    "args2=np_,nu,nx,ny,dx,dy,iu,iv,ip,dt,v\n",
    "#args3=np_,nu,nx,ny,dx,dy,iu,iv,ip\n",
    "    \n",
    "P=CG_solver_all([Grad,Div],D_rhs,p,args1,args2,args2,cg_iter)\n",
    "u_new=uf-dt*Grad(P,np_,nu,nx,ny,dx,dy,iu,iv,ip,dt,v)"
   ]
  },
  {
   "cell_type": "code",
   "execution_count": null,
   "id": "ffac8236-2f31-4dcf-9a66-92a9cc1a9459",
   "metadata": {},
   "outputs": [],
   "source": [
    "\n",
    "## time stepping using fractial step\n",
    "res=[]\n",
    "nt=200000\n",
    "for it in range(nt):\n",
    "    ## fractial step: stage 1\n",
    "    A_n_1 = Adv(qi, uBC_L, uBC_R, uBC_B, uBC_T, vBC_L, vBC_R, vBC_T, vBC_B,nu,iu,iv,nx,ny,dx,dy,dt,v)\n",
    "    A_n= Adv(u_new, uBC_L, uBC_R, uBC_B, uBC_T, vBC_L, vBC_R, vBC_T, vBC_B,nu,iu,iv,nx,ny,dx,dy,dt,v)\n",
    "    RHS_b = S_operator(u_new,nu,iu,iv,nx,ny,dx,dy,dt,v) + dt*(3*(A_n)-(A_n_1))/2 +dt*v*bcL\n",
    "    args=nu,iu,iv,nx,ny,dx,dy,dt,v\n",
    "    u_int=np.random.rand(u_new.shape[0],u_new.shape[1])\n",
    "    uf    = CG_solver(R_operator,RHS_b,u_int,args,cg_iter)\n",
    "\n",
    "    ## fractial step: stage 2\n",
    "    RHS_b = (Div(uf,np_,nu,nx,ny,dx,dy,iu,iv,ip,dt,v)+bcD)/dt\n",
    "    \n",
    "    args1=np_,nu,nx,ny,dx,dy,iu,iv,ip,dt,v\n",
    "    args2=nu,iu,iv,nx,ny,dx,dy,dt,v\n",
    "    args3=np_,nu,nx,ny,dx,dy,iu,iv,ip,dt,v\n",
    "    \n",
    "    \n",
    "    pnew  = CG_solver_all([Grad,R_inv_operator,Div],RHS_b,P,args1,args2,args3,cg_iter)\n",
    "    \n",
    "\n",
    "    ## fractial step: stage 3 (assemble u_new)\n",
    "    qi=u_new\n",
    "    P=np.random.rand(pnew.shape[0],pnew.shape[1])\n",
    "    u_new = uf-dt*R_inv_operator(Grad(pnew,np_,nu,nx,ny,dx,dy,iu,iv,ip,dt,v),nu,iu,iv,nx,ny,dx,dy,dt,v)\n",
    "    if nt%100==0:\n",
    "        norm_l2 = (norm(u_new-qi))/(norm(qi))\n",
    "        res.append(norm_l2)\n",
    "        with open('test1.npy', 'wb') as f:\n",
    "            np.save(f, qi)\n",
    "            np.save(f, u_new)\n",
    "#pd.DataFrame({'u_new':u_new[:,0]}).to_csv('latest_data.csv')"
   ]
  },
  {
   "cell_type": "code",
   "execution_count": null,
   "id": "d5ce5c70-447b-4bff-b19e-3cda72b77515",
   "metadata": {},
   "outputs": [],
   "source": [
    "file='/Users/moatasimfarooque/Documents/CFD/Moatasim_files/CFD/Project_3/snapshots/Re_40//ulist_25.npy'\n",
    "#file=''\n",
    "with open(file, 'rb') as f:\n",
    "    u_new = np.load(f,allow_pickle=True)\n",
    "    #u_new = np.load(f,allow_pickle=True)\n",
    "    \n",
    "nx = 129\n",
    "ny = 129\n",
    "## Pointer and Grid\n",
    "ip, iu, iv,idu = GenPointer(nx, ny)\n",
    "\n",
    "X,Y=np.meshgrid(np.linspace(0,1,nx), np.linspace(0,1,ny), indexing='ij')\n",
    "u_vec=np.reshape(u_new[0:iu[-1,-1]+1], (nx-1,ny), order='C')\n",
    "new_row=np.zeros((ny))\n",
    "u_vec=np.vstack([u_vec, new_row])\n",
    "Rex=(u_vec*nx)/v\n",
    "\n",
    "v_vec=np.reshape(u_new[iu[-1,-1]+1:], (nx,ny-1), order='C')\n",
    "new_row=np.zeros((nx,1))\n",
    "v_vec=np.hstack([v_vec, new_row])\n",
    "Rey=(v_vec*ny)/v\n",
    "\n",
    "#curl_new=curl_operator(u_new,np_,nu,ip,iu,iv,nx,ny,dx,dy,dt,v)+BC_Curl(uBC_L, uBC_R, vBC_T, vBC_B,np_,ip,nx,ny,dx,dy)\n",
    "#curl_visual=np.reshape(curl_new,(nx,ny))\n",
    "\n",
    "fig,ax=plt.subplots(1,1)\n",
    "#cp = ax.contour(X, Y, curl_visual,cmap='coolwarm')\n",
    "cp = ax.contourf(X, Y, v_vec)\n",
    "fig.colorbar(cp)\n",
    "ax.set_title('Filled Contours Plot')\n",
    "ax.set_xlabel('x (units)')\n",
    "ax.set_ylabel('y (units)')\n",
    "plt.show()"
   ]
  },
  {
   "cell_type": "code",
   "execution_count": null,
   "id": "8b44d8d0-7ed6-49df-8292-822559b9a4ba",
   "metadata": {},
   "outputs": [],
   "source": [
    "plt.quiver(X.T, Y.T, u_vec.T, v_vec.T, color=\"black\")"
   ]
  },
  {
   "cell_type": "code",
   "execution_count": null,
   "id": "f152392a-a729-4ade-a780-2409bbb6dc10",
   "metadata": {},
   "outputs": [],
   "source": [
    "plt.streamplot(X.T, Y.T, u_vec.T, v_vec.T, color=\"black\")\n",
    "plt.xlim((0, 1))\n",
    "plt.ylim((0, 1))\n",
    "plt.show()"
   ]
  },
  {
   "cell_type": "code",
   "execution_count": null,
   "id": "79f0bb58-1078-482d-966b-557672dbeeb2",
   "metadata": {},
   "outputs": [],
   "source": [
    "u_new_s=np.arange(0,len(u_new)).reshape(len(u_new),1)\n",
    "u_vec_s=np.reshape(u_new_s[0:iu[-1,-1]+1], (nx-1,ny), order='C')\n",
    "u_vec_s=np.vstack([np.zeros((ny)),u_vec_s])"
   ]
  },
  {
   "cell_type": "code",
   "execution_count": null,
   "id": "13848170-9583-4141-a7fd-93f6c554ecc3",
   "metadata": {},
   "outputs": [],
   "source": [
    "#v_new_s=np.arange(0,len(u_new)).reshape(len(u_new),1)\n",
    "\n",
    "v_new_s=np.reshape(u_new_s[iu[-1,-1]+1:], (nx,ny-1), order='C')\n",
    "v_new_s=np.hstack([np.zeros((nx,1)),v_new_s])\n"
   ]
  },
  {
   "cell_type": "code",
   "execution_count": null,
   "id": "bf5ba0d3-c25d-4676-9328-1901e8ac1b93",
   "metadata": {},
   "outputs": [],
   "source": [
    "fig,ax=plt.subplots(1,1)\n",
    "#cp = ax.contour(X, Y, curl_visual,cmap='coolwarm')\n",
    "cp = ax.contourf(X,Y,u_vec_s)\n",
    "fig.colorbar(cp)\n",
    "ax.set_title('Filled Contours Plot')\n",
    "ax.set_xlabel('x (units)')\n",
    "ax.set_ylabel('y (units)')\n",
    "plt.show()\n",
    "s=2"
   ]
  },
  {
   "cell_type": "code",
   "execution_count": null,
   "id": "96235842-841a-4856-a4df-db5d1deac6ef",
   "metadata": {},
   "outputs": [],
   "source": [
    "u_new_int,v_new_int=inter_velocity(u_new,nx,ny,iu,iv,idu)\n",
    "u_new_int=u_new_int.reshape(nx,ny)\n",
    "v_new_int=v_new_int.reshape(nx,ny)"
   ]
  },
  {
   "cell_type": "code",
   "execution_count": null,
   "id": "a46a028f-3283-4f6d-b5ad-b9ab1d87c99f",
   "metadata": {},
   "outputs": [],
   "source": [
    "fig,ax=plt.subplots(1,1)\n",
    "#cp = ax.contour(X, Y, curl_visual,cmap='coolwarm')\n",
    "cp = ax.contourf(X,Y,u_new_int)\n",
    "fig.colorbar(cp)\n",
    "ax.set_title('Filled Contours Plot')\n",
    "ax.set_xlabel('x (units)')\n",
    "ax.set_ylabel('y (units)')\n",
    "plt.show()\n",
    "s=2"
   ]
  },
  {
   "cell_type": "code",
   "execution_count": null,
   "id": "3c2dd2eb-4c17-4828-8bb1-d3e9fc001d67",
   "metadata": {},
   "outputs": [],
   "source": [
    "plt.matshow(u_vec, fignum=None)\n",
    "plt.show()"
   ]
  },
  {
   "cell_type": "code",
   "execution_count": null,
   "id": "5eff9ded-b85b-4d3b-927d-c1225b96ab13",
   "metadata": {},
   "outputs": [],
   "source": [
    "type(Grad)"
   ]
  },
  {
   "cell_type": "code",
   "execution_count": null,
   "id": "642d7cda-1bf4-4ca4-9cd0-14159f45b357",
   "metadata": {},
   "outputs": [],
   "source": []
  }
 ],
 "metadata": {
  "kernelspec": {
   "display_name": "Python 3 (ipykernel)",
   "language": "python",
   "name": "python3"
  },
  "language_info": {
   "codemirror_mode": {
    "name": "ipython",
    "version": 3
   },
   "file_extension": ".py",
   "mimetype": "text/x-python",
   "name": "python",
   "nbconvert_exporter": "python",
   "pygments_lexer": "ipython3",
   "version": "3.9.12"
  },
  "vscode": {
   "interpreter": {
    "hash": "c5f72a9d21c308b1f5681806c3159315e317372a8e25cff37e1319138d5c5606"
   }
  }
 },
 "nbformat": 4,
 "nbformat_minor": 5
}

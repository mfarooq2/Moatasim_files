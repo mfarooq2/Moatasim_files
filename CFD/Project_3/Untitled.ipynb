{
 "cells": [
  {
   "cell_type": "code",
   "execution_count": null,
   "id": "8d803026-2f4e-496d-9caf-193197b43f81",
   "metadata": {},
   "outputs": [],
   "source": [
    "qo[iv[1:nx-1, 2:ny-1]] = - (1/dx) * ( - ( qi[iu[0:nx-2,2:ny-1  ]] + qi[iu[1:nx-1,2:ny-1  ]] ) / 2 * ( qi[iv[0:nx-2,2:ny-1  ]] + qi[iv[1:nx-1  ,2:ny-1  ]] ) / 2          \\\n",
    "                                    + ( qi[iu[2:nx ,1:ny-2  ]] + qi[iu[2:nx,2:ny-1  ]] ) / 2 * ( qi[iv[2:nx  ,2:ny-1  ]] + qi[iv[1:nx-1,2:ny-1 ]] ) / 2 )   \\\n",
    "                       - (1/dy) * ( - ( qi[iv[1:nx-1  ,1:ny-2]] + qi[iv[1:nx-1,2:ny-1  ]] ) / 2 * ( qi[iv[1:nx-1,1:ny-2  ]] + qi[iv[1:nx-1  ,2:ny-1  ]] ) / 2          \\\n",
    "                                    + ( qi[iv[1:nx-1  ,3:ny  ]] + qi[iv[1:nx-1  ,2:ny-1]] ) / 2 * ( qi[iv[1:nx-1,3:ny]] + qi[iv[1:nx-1  ,2:ny-1]] ) / 2 )\n",
    "\n",
    "\n",
    "\n"
   ]
  }
 ],
 "metadata": {
  "kernelspec": {
   "display_name": "Python 3 (ipykernel)",
   "language": "python",
   "name": "python3"
  },
  "language_info": {
   "codemirror_mode": {
    "name": "ipython",
    "version": 3
   },
   "file_extension": ".py",
   "mimetype": "text/x-python",
   "name": "python",
   "nbconvert_exporter": "python",
   "pygments_lexer": "ipython3",
   "version": "3.8.13"
  }
 },
 "nbformat": 4,
 "nbformat_minor": 5
}

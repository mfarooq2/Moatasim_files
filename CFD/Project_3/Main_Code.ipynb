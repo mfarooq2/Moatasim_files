{
 "cells": [
  {
   "cell_type": "code",
   "execution_count": null,
   "id": "138636a3-f4e3-4e6d-ab10-b5829b2e3248",
   "metadata": {},
   "outputs": [],
   "source": [
    "import numpy as np\n",
    "import matplotlib.pyplot as plt\n",
    "import pandas as pd\n",
    "from numpy.linalg import norm\n",
    "import itertools\n",
    "from multiprocessing import Pool, freeze_support\n",
    "from tqdm import tqdm\n",
    "import os\n",
    "from IPython import display\n",
    "import seaborn as sns\n",
    "from IPython.display import HTML\n",
    "from glob import glob\n",
    "from helper_util import Func_GaussElimination,plotter_animation_contour\n",
    "import json\n",
    "from func_list_jax import *\n",
    "#from func_list_vect import visualizer\n",
    "from scipy.sparse.linalg import LinearOperator\n",
    "from scipy.sparse.linalg import spsolve\n",
    "from scipy.sparse.linalg import cg"
   ]
  },
  {
   "cell_type": "code",
   "execution_count": null,
   "id": "2f843176-7e9a-4ae5-9c64-9f2a701590ce",
   "metadata": {},
   "outputs": [],
   "source": [
    "v,args,cg_iter,nx,ny,dx,dy,np_,nu,X,Y,ip,iu,iv,idu,dt,p,u,qi,bcL,bcD,uBC_L, uBC_R, uBC_B, uBC_T, vBC_L, vBC_R, vBC_T, vBC_B=data_unloader(**json.load(open('/Users/moatasimfarooque/Documents/CFD/Moatasim_files/CFD/Project_3/data.json')))\n",
    "\n",
    "Adv_O = LinearOperator((nu,nu), matvec=lambda x: Adv_Vec(x, *args))\n",
    "Grad_O = LinearOperator((nu,np_), matvec=lambda x: Grad_Vec(x, *args))\n",
    "Div_O = LinearOperator((np_,nu), matvec=lambda x: Div_Vec(x, *args))\n",
    "Laplace_O = LinearOperator((nu,nu), matvec=lambda x: Laplace_Vec(x, *args))\n",
    "S_O=S_operator_O(args)\n",
    "R_O=R_operator_O(args)\n",
    "R_inv_O=R_inv_operator_O(args)\n",
    "\n",
    "Div_Grad=Div_O@Grad_O\n",
    "Div_Rinv_Grad=Div_O@R_inv_O@Grad_O\n",
    "#B = LinearOperator((nu,nu), matvec=lambda x: 1-(dt/2)*Laplace_Vec(x, *args))\n",
    "#C = LinearOperator((nu,nu), matvec=lambda x: 1+(dt/2)*Laplace_Vec(x, *args))"
   ]
  },
  {
   "cell_type": "code",
   "execution_count": null,
   "id": "481acf51-ec85-4bf9-ba07-6a5a4aed3f84",
   "metadata": {},
   "outputs": [],
   "source": [
    "A_n=Adv_O.matvec(qi)\n",
    "Lu_n=Laplace_O.matvec(qi)+v*bcL\n",
    "uf=(qi + dt*(A_n+Lu_n))[:,0]\n",
    "D_rhs=((Div_O.matvec(uf)+bcD)/dt)[0]\n",
    "P, exit_code = cg(Div_Grad, D_rhs)\n",
    "u_new=(uf-dt*(Grad_O.matvec(P))).reshape(nu,1)\n",
    "\n",
    "A_n_1 = Adv_O.matvec(qi)\n",
    "A_n= Adv_O.matvec(u_new)\n",
    "\n",
    "RHS_b = (S_O.matvec(u_new) + dt*(3*(A_n)-(A_n_1))/2 +dt*v*bcL)\n",
    "uf,exit_code  = cg(R_O, RHS_b,maxiter=cg_iter)\n",
    "\n",
    "## fractial step: stage 2\n",
    "RHS_b = (Div_O.matvec(uf)+bcD[:,0])/dt\n",
    "pnew,_= cg(Div_Rinv_Grad,RHS_b,P,maxiter=cg_iter)\n"
   ]
  },
  {
   "cell_type": "code",
   "execution_count": null,
   "id": "6eeb01f9-bb3c-4e87-bd4a-529ce71b054f",
   "metadata": {},
   "outputs": [],
   "source": [
    "RHS_b"
   ]
  },
  {
   "cell_type": "code",
   "execution_count": null,
   "id": "3ee3f069-895e-4fa5-979b-080206e277ff",
   "metadata": {},
   "outputs": [],
   "source": [
    "drG1=Div_Rinv_Grad.matvec(P)"
   ]
  },
  {
   "cell_type": "code",
   "execution_count": null,
   "id": "4a1da45e-f071-4ed8-9088-1ab4b47f0d6b",
   "metadata": {},
   "outputs": [],
   "source": [
    "drG2=Div_Vec(R_inv_operator(Grad_Vec(P,*args),*args),*args).T"
   ]
  },
  {
   "cell_type": "code",
   "execution_count": null,
   "id": "5bba9398-242b-4326-9cd8-376b023dfee0",
   "metadata": {},
   "outputs": [],
   "source": [
    "A_n=Adv_Vec(qi, *args)\n",
    "Lu_n=Laplace_Vec(qi,*args)+bcL\n",
    "uf=qi + dt*(A_n+v*Lu_n)\n",
    "D_rhs= (Div_Vec(uf,*args)+bcD)/dt\n",
    "P=CG_solver_all([Grad_Vec,Div_Vec],D_rhs,p,args,cg_iter)\n",
    "u_new=uf-dt*Grad_Vec(P,*args)\n",
    "\n",
    "\n",
    "A_n_1 = Adv_Vec(qi, *args)\n",
    "A_n= Adv_Vec(u_new, *args)\n",
    "RHS_b1 = S_operator(u_new,*args) + dt*(3*(A_n)-(A_n_1))/2 +dt*v*bcL\n",
    "uf    =CG_solver(R_operator,RHS_b1,u_new,args,cg_iter)\n",
    "\n",
    "\n",
    "RHS_b2 = (Div_Vec(uf,*args)+bcD)/dt\n",
    "pnew  = CG_solver_all([Grad_Vec,R_inv_operator,Div_Vec],RHS_b,P,args,cg_iter)"
   ]
  },
  {
   "cell_type": "code",
   "execution_count": null,
   "id": "fee298a5-9ba8-4516-ab3e-b8b04184c4c1",
   "metadata": {},
   "outputs": [],
   "source": [
    "RHS_b1"
   ]
  },
  {
   "cell_type": "code",
   "execution_count": null,
   "id": "63a7204e-ec5d-4cf3-ba9c-e2f0af909b21",
   "metadata": {},
   "outputs": [],
   "source": [
    "pnew  = CG_solver_all([Grad_Vec,R_inv_operator,Div_Vec],RHS_b,P,args,cg_iter)"
   ]
  },
  {
   "cell_type": "code",
   "execution_count": null,
   "id": "9460453d-630e-42e0-828d-a4c134ab5530",
   "metadata": {},
   "outputs": [],
   "source": [
    "A_n_1 = Adv_Vec(qi, uBC_L, uBC_R, uBC_B, uBC_T, vBC_L, vBC_R, vBC_T, vBC_B,nu,iu,iv,nx,ny,dx,dy,dt,v)\n",
    "A_n= Adv_Vec(u_new, uBC_L, uBC_R, uBC_B, uBC_T, vBC_L, vBC_R, vBC_T, vBC_B,nu,iu,iv,nx,ny,dx,dy,dt,v)\n",
    "RHS_b = S_operator(u_new,uBC_L, uBC_R, uBC_B, uBC_T, vBC_L, vBC_R, vBC_T, vBC_B,nu,iu,iv,nx,ny,dx,dy,dt,v) + dt*(3*(A_n)-(A_n_1))/2 +dt*v*bcL\n",
    "args=nu,iu,iv,nx,ny,dx,dy,dt,v"
   ]
  },
  {
   "cell_type": "code",
   "execution_count": null,
   "id": "ffac8236-2f31-4dcf-9a66-92a9cc1a9459",
   "metadata": {},
   "outputs": [],
   "source": [
    "\n",
    "## time stepping using fractial step\n",
    "res=[]\n",
    "nt=200000\n",
    "for it in range(2):\n",
    "    ## fractial step: stage 1\n",
    "    A_n_1 = Adv(qi, uBC_L, uBC_R, uBC_B, uBC_T, vBC_L, vBC_R, vBC_T, vBC_B,nu,iu,iv,nx,ny,dx,dy,dt,v)\n",
    "    A_n= Adv(u_new, uBC_L, uBC_R, uBC_B, uBC_T, vBC_L, vBC_R, vBC_T, vBC_B,nu,iu,iv,nx,ny,dx,dy,dt,v)\n",
    "    RHS_b = S_operator(u_new,nu,iu,iv,nx,ny,dx,dy,dt,v) + dt*(3*(A_n)-(A_n_1))/2 +dt*v*bcL\n",
    "    args=nu,iu,iv,nx,ny,dx,dy,dt,v\n",
    "    u_int=np.random.rand(u_new.shape[0],u_new.shape[1])\n",
    "    uf    = CG_solver(R_operator,RHS_b,u_int,args,cg_iter)\n",
    "\n",
    "    ## fractial step: stage 2\n",
    "    RHS_b = (Div(uf,np_,nu,nx,ny,dx,dy,iu,iv,ip,dt,v)+bcD)/dt\n",
    "    \n",
    "    args1=np_,nu,nx,ny,dx,dy,iu,iv,ip,dt,v\n",
    "    args2=nu,iu,iv,nx,ny,dx,dy,dt,v\n",
    "    args3=np_,nu,nx,ny,dx,dy,iu,iv,ip,dt,v\n",
    "    \n",
    "    \n",
    "    pnew  = CG_solver_all([Grad,R_inv_operator,Div],RHS_b,P,args1,args2,args3,cg_iter)\n",
    "\n",
    "    ## fractial step: stage 3 (assemble u_new)\n",
    "    qi=u_new\n",
    "    P=np.random.rand(pnew.shape[0],pnew.shape[1])\n",
    "    u_new = uf-dt*R_inv_operator(Grad(pnew,np_,nu,nx,ny,dx,dy,iu,iv,ip,dt,v),nu,iu,iv,nx,ny,dx,dy,dt,v)\n",
    "    if it%1==0:\n",
    "        norm_l2 = (norm(u_new-qi))/(norm(qi))\n",
    "        res.append(norm_l2)\n",
    "        with open('test1.npy', 'wb') as f:\n",
    "            np.save(f, qi)\n",
    "            np.save(f, u_new)\n",
    "#pd.DataFrame({'u_new':u_new[:,0]}).to_csv('latest_data.csv')"
   ]
  },
  {
   "cell_type": "code",
   "execution_count": null,
   "id": "51239c2a-614b-4a38-aa89-6e026b6c380e",
   "metadata": {},
   "outputs": [],
   "source": [
    "#file='/Users/moatasimfarooque/Documents/CFD/Moatasim_files/CFD/Project_3/snapshots/Re_40/ulist_105.npy'\n",
    "file='/Users/moatasimfarooque/Documents/CFD/Moatasim_files/CFD/Project_3/test_2.npy'\n",
    "with open(file, 'rb') as f:\n",
    "    qi= np.load(f,allow_pickle=True)\n",
    "    u_new = np.load(f,allow_pickle=True)"
   ]
  },
  {
   "cell_type": "code",
   "execution_count": null,
   "id": "f03eb6f9-1366-410c-9ca3-6bc5de210791",
   "metadata": {},
   "outputs": [],
   "source": [
    "u_new.shape"
   ]
  },
  {
   "cell_type": "code",
   "execution_count": null,
   "id": "426f6cc8-e84e-41de-ad0b-b4f25e625d96",
   "metadata": {},
   "outputs": [],
   "source": []
  },
  {
   "cell_type": "code",
   "execution_count": null,
   "id": "01d0b286-9749-48a9-8f5b-7dbef19dd62c",
   "metadata": {},
   "outputs": [],
   "source": [
    "#s=glob('/Users/moatasimfarooque/Documents/CFD/Moatasim_files/CFD/Project_3/snapshots/*')\n",
    "#s=[int(x.split('ulist_')[-1].split('.')[0]) for x in s ]\n",
    "#max_u=np.max(s)\n",
    "#file=f\"/Users/moatasimfarooque/Documents/CFD/Moatasim_files/CFD/Project_3/snapshots/ulist_{max_u}.npy\"\n",
    "#with open(file, 'rb') as f:\n",
    "#    u_new = np.load(f,allow_pickle=True)\n",
    "file='/Users/moatasimfarooque/Documents/CFD/Moatasim_files/CFD/Project_3/test_2.npy'\n",
    "with open(file, 'rb') as f:\n",
    "    qi= np.load(f,allow_pickle=True)\n",
    "    u_new = np.load(f,allow_pickle=True)\n",
    "nx = 128\n",
    "ny = 128\n",
    "## Pointer and Grid\n",
    "ip, iu, iv,idu = GenPointer(nx, ny)\n",
    "\n",
    "X,Y=np.meshgrid(np.linspace(0,1,nx), np.linspace(0,1,ny), indexing='ij')\n",
    "\n",
    "u_new_int,v_new_int=inter_velocity(u_new,nx,ny,iu,iv,idu)\n",
    "u_new_int=u_new_int.reshape(nx,ny)\n",
    "v_new_int=v_new_int.reshape(nx,ny)\n",
    "fig,ax=plt.subplots(1,1)\n",
    "#cp = ax.contour(X, Y, curl_visual,cmap='coolwarm')\n",
    "cp = ax.contourf(X, Y, u_new_int)\n",
    "fig.colorbar(cp)\n",
    "ax.set_title('V-Velocity 30X29 Grid (Re=400,dt=0.0001 )')\n",
    "ax.set_xlabel('x (units)')\n",
    "ax.set_ylabel('y (units)')\n",
    "plt.show()"
   ]
  },
  {
   "cell_type": "code",
   "execution_count": null,
   "id": "f2fee685-2343-46d1-a403-6bd35c959eee",
   "metadata": {},
   "outputs": [],
   "source": [
    "u_new.shape[0]"
   ]
  },
  {
   "cell_type": "code",
   "execution_count": null,
   "id": "b7c0e1f1-6b2d-4b1e-aded-6cc9b38c9c11",
   "metadata": {},
   "outputs": [],
   "source": [
    "visualizer(u_new, *args)"
   ]
  },
  {
   "cell_type": "code",
   "execution_count": null,
   "id": "ca713cca-9a70-4a67-960b-f214c77d680e",
   "metadata": {},
   "outputs": [],
   "source": [
    "fig,ax=plt.subplots(1,1)\n",
    "#cp = ax.contour(X, Y, curl_visual,cmap='coolwarm')\n",
    "cp1 = ax.streamplot(X.T, Y.T, u_new_int.T, v_new_int.T, color=np.sqrt(u_new_int**2+v_new_int**2),density=1.2)\n",
    "cp = ax.contourf(X, Y, np.sqrt(u_new_int**2+v_new_int**2),cmap='coolwarm')\n",
    "fig.colorbar(cp)\n",
    "ax.set_title('Streamlines with color showing velocity magnitude')\n",
    "ax.set_xlabel('x (units)')\n",
    "ax.set_ylabel('y (units)')\n",
    "plt.show()"
   ]
  },
  {
   "cell_type": "code",
   "execution_count": null,
   "id": "3815798e-12ef-4b9c-939c-00d294a84480",
   "metadata": {},
   "outputs": [],
   "source": [
    "plt.streamplot(X.T, Y.T, u_new_int.T, v_new_int.T, color=np.sqrt(u_new_int**2+v_new_int**2),density=1.2)\n",
    "fig.colorbar(cp)\n",
    "plt.xlim((0, 1))\n",
    "plt.ylim((0, 1))\n",
    "plt.show()"
   ]
  },
  {
   "cell_type": "code",
   "execution_count": null,
   "id": "1b04e0b2-9f22-4f68-af4e-068cf6831c35",
   "metadata": {},
   "outputs": [],
   "source": [
    "#s=glob('/Users/moatasimfarooque/Documents/CFD/Moatasim_files/CFD/Project_3/snapshots/*')\n",
    "#s=[int(x.split('ulist_')[-1].split('.')[0]) for x in s ]\n",
    "#max_u=np.max(s)\n",
    "#file=f\"/Users/moatasimfarooque/Documents/CFD/Moatasim_files/CFD/Project_3/snapshots/ulist_{max_u}.npy\"\n",
    "#with open(file, 'rb') as f:\n",
    "#    u_new = np.load(f,allow_pickle=True)\n",
    "\n",
    "nx = 30\n",
    "ny = 29\n",
    "## Pointer and Grid\n",
    "ip, iu, iv,idu = GenPointer(nx, ny)\n",
    "\n",
    "X,Y=np.meshgrid(np.linspace(0,1,nx), np.linspace(0,1,ny), indexing='ij')\n",
    "u_vec=np.reshape(u_new[0:iu[-1,-1]+1], (nx-1,ny), order='C')\n",
    "new_row=np.zeros((ny))\n",
    "u_vec=np.vstack([u_vec, new_row])\n",
    "\n",
    "v_vec=np.reshape(u_new[iu[-1,-1]+1:], (nx,ny-1), order='C')\n",
    "new_row=np.zeros((nx,1))\n",
    "v_vec=np.hstack([v_vec, new_row])\n",
    "\n",
    "fig,ax=plt.subplots(1,1)\n",
    "#cp = ax.contour(X, Y, curl_visual,cmap='coolwarm')\n",
    "cp = ax.contourf(X, Y, v_vec)\n",
    "fig.colorbar(cp)\n",
    "ax.set_title('Filled Contours Plot')\n",
    "ax.set_xlabel('x (units)')\n",
    "ax.set_ylabel('y (units)')\n",
    "plt.show()"
   ]
  },
  {
   "cell_type": "code",
   "execution_count": null,
   "id": "f152392a-a729-4ade-a780-2409bbb6dc10",
   "metadata": {},
   "outputs": [],
   "source": [
    "fig,ax=plt.subplots(1,1)\n",
    "plt.streamplot(X.T, Y.T, u_vec.T, v_vec.T,density=1)\n",
    "plt.xlim((0, 1))\n",
    "plt.ylim((0, 1))\n",
    "ax.set_title('Streamlines')\n",
    "ax.set_xlabel('x (units)')\n",
    "ax.set_ylabel('y (units)')\n",
    "\n",
    "plt.show()"
   ]
  },
  {
   "cell_type": "code",
   "execution_count": null,
   "id": "79f0bb58-1078-482d-966b-557672dbeeb2",
   "metadata": {},
   "outputs": [],
   "source": [
    "u_new_s=np.arange(0,len(u_new)).reshape(len(u_new),1)\n",
    "u_vec_s=np.reshape(u_new_s[0:iu[-1,-1]+1], (nx-1,ny), order='C')\n",
    "u_vec_s=np.vstack([np.zeros((ny)),u_vec_s])"
   ]
  },
  {
   "cell_type": "code",
   "execution_count": null,
   "id": "13848170-9583-4141-a7fd-93f6c554ecc3",
   "metadata": {},
   "outputs": [],
   "source": [
    "#v_new_s=np.arange(0,len(u_new)).reshape(len(u_new),1)\n",
    "\n",
    "v_new_s=np.reshape(u_new_s[iu[-1,-1]+1:], (nx,ny-1), order='C')\n",
    "v_new_s=np.hstack([np.zeros((nx,1)),v_new_s])\n"
   ]
  },
  {
   "cell_type": "code",
   "execution_count": null,
   "id": "bf5ba0d3-c25d-4676-9328-1901e8ac1b93",
   "metadata": {},
   "outputs": [],
   "source": [
    "fig,ax=plt.subplots(1,1)\n",
    "#cp = ax.contour(X, Y, curl_visual,cmap='coolwarm')\n",
    "cp = ax.contourf(X,Y,u_vec_s)\n",
    "fig.colorbar(cp)\n",
    "ax.set_title('Filled Contours Plot')\n",
    "ax.set_xlabel('x (units)')\n",
    "ax.set_ylabel('y (units)')\n",
    "plt.show()\n",
    "s=2"
   ]
  },
  {
   "cell_type": "code",
   "execution_count": null,
   "id": "96235842-841a-4856-a4df-db5d1deac6ef",
   "metadata": {},
   "outputs": [],
   "source": [
    "u_new_int,v_new_int=inter_velocity(u_new,nx,ny,iu,iv,idu)\n",
    "u_new_int=u_new_int.reshape(nx,ny)\n",
    "v_new_int=v_new_int.reshape(nx,ny)"
   ]
  },
  {
   "cell_type": "code",
   "execution_count": null,
   "id": "a46a028f-3283-4f6d-b5ad-b9ab1d87c99f",
   "metadata": {},
   "outputs": [],
   "source": [
    "fig,ax=plt.subplots(1,1)\n",
    "#cp = ax.contour(X, Y, curl_visual,cmap='coolwarm')\n",
    "cp = ax.contourf(X,Y,u_new_int)\n",
    "fig.colorbar(cp)\n",
    "ax.set_title('Filled Contours Plot')\n",
    "ax.set_xlabel('x (units)')\n",
    "ax.set_ylabel('y (units)')\n",
    "plt.show()\n",
    "s=2"
   ]
  },
  {
   "cell_type": "code",
   "execution_count": null,
   "id": "3c2dd2eb-4c17-4828-8bb1-d3e9fc001d67",
   "metadata": {},
   "outputs": [],
   "source": []
  },
  {
   "cell_type": "code",
   "execution_count": null,
   "id": "5eff9ded-b85b-4d3b-927d-c1225b96ab13",
   "metadata": {},
   "outputs": [],
   "source": [
    "nx=5\n",
    "ny=5\n",
    "ip, iu, iv,idu = GenPointer(nx, ny)\n",
    "np_ = nx * ny\n",
    "nu = 2*nx*ny - nx - ny\n",
    "args= uBC_L, uBC_R, uBC_B, uBC_T, vBC_L, vBC_R, vBC_T, vBC_B,np_,nu,nx,ny,dx,dy,iu,iv,ip,dt,v\n",
    "\n",
    "#args=np_,nu,nx,ny,dx,dy,iu,iv,ip,dt,v\n",
    "s=explicit_matrix_combo([Adv],nu,args)\n",
    "\n",
    "\n",
    "fig,ax=plt.subplots(1,1)\n",
    "#ax.set_title('$DR^{-1}G$ Combined Operator')\n",
    "ax.set_title('Advection Operator')\n",
    "ax.matshow(s)\n"
   ]
  },
  {
   "cell_type": "code",
   "execution_count": null,
   "id": "0d61408c-9bc8-4789-b3db-9f6af18af6a0",
   "metadata": {},
   "outputs": [],
   "source": [
    "s.shape"
   ]
  },
  {
   "cell_type": "code",
   "execution_count": null,
   "id": "71acb204-e26b-454c-9d36-c09ab5496004",
   "metadata": {},
   "outputs": [],
   "source": [
    "s=glob('/Users/moatasimfarooque/Documents/CFD/Moatasim_files/CFD/Project_3/snapshots/*')\n",
    "s=[x for x in s if 'ulist' in x]\n",
    "#s=[int(x.split('ulist_')[-1].split('.')[0]) for x in s ]\n",
    "#max_u=np.max(s)\n",
    "u_new_list=[]\n",
    "v_new_list=[]\n",
    "#file=f\"/Users/moatasimfarooque/Documents/CFD/Moatasim_files/CFD/Project_3/snapshots/ulist_{max_u}.npy\"\n",
    "for file in s:\n",
    "    with open(file, 'rb') as f:\n",
    "        u_new = np.load(f,allow_pickle=True)\n",
    "        u_new_int,v_new_int=inter_velocity(u_new,nx,ny,iu,iv,idu)\n",
    "        u_new_int=u_new_int.reshape(nx,ny)\n",
    "        v_new_int=v_new_int.reshape(nx,ny)\n",
    "        u_new_list.append(u_new_int)\n",
    "        v_new_list.append(v_new_int)\n",
    "print(len(s))"
   ]
  },
  {
   "cell_type": "code",
   "execution_count": null,
   "id": "642d7cda-1bf4-4ca4-9cd0-14159f45b357",
   "metadata": {},
   "outputs": [],
   "source": [
    "dat_acq_int=1\n",
    "HTML(plotter_animation_contour(X,Y,u_new_list,interv=100,dat_acq=dat_acq_int,p=0,q=1).to_html5_video())\n"
   ]
  },
  {
   "cell_type": "code",
   "execution_count": null,
   "id": "45af36c2-f16e-4851-9994-c99f6b73249c",
   "metadata": {},
   "outputs": [],
   "source": [
    "res1=pd.read_csv('/Users/moatasimfarooque/Documents/CFD/Moatasim_files/CFD/Project_3/res2.csv').rename(columns={'Unnamed: 0':'iteration','0':'Res'})\n"
   ]
  },
  {
   "cell_type": "code",
   "execution_count": null,
   "id": "77e7a151-997a-4acf-9ea1-ced591a3286c",
   "metadata": {},
   "outputs": [],
   "source": [
    "#plt.plot(list(res1.iteration),list(res1.Res))\n",
    "\n",
    "fig,ax=plt.subplots(1,1)\n",
    "#cp = ax.contour(X, Y, curl_visual,cmap='coolwarm')\n",
    "plt.plot(list(res1.iteration),list(res1.Res))\n",
    "ax.set_title('Time Evolution of Residuals')\n",
    "ax.set_xlabel('Time iterations')\n",
    "ax.set_ylabel('Residual')\n",
    "plt.show()\n",
    "s=2\n"
   ]
  },
  {
   "cell_type": "code",
   "execution_count": null,
   "id": "c73405d6-d094-4b75-aa84-959e4a8327fd",
   "metadata": {},
   "outputs": [],
   "source": [
    "v,args,cg_iter,nx,ny,dx,dy,np_,nu,X,Y,ip,iu,iv,idu,dt,p,u,qi,bcL,bcD,uBC_L, uBC_R, uBC_B, uBC_T, vBC_L, vBC_R, vBC_T, vBC_B=data_unloader(**json.load(open('/Users/moatasimfarooque/Documents/CFD/Moatasim_files/CFD/Project_3/data.json')))\n",
    "Operator=[[Grad_Vec],[Laplace_Vec],[Div_Vec],[Adv_Vec]]\n",
    "Operator_names=['Grad','Laplace','Div','Adv']\n",
    "nu_list=[np_,nu,nu,nu]\n",
    "#args=np_,nu,nx,ny,dx,dy,iu,iv,ip,dt,v\n",
    "fig, axs = plt.subplots(2, 2)\n",
    "k=0\n",
    "for i in range(2):\n",
    "    for j in range(2):\n",
    "        s=explicit_matrix_combo(Operator[k],nu_list[k],args)\n",
    "        axs[i, j].matshow(s)\n",
    "        axs[i, j].set_title(f\"{Operator_names[k]}\")\n",
    "        k=k+1\n",
    "plt.show()"
   ]
  },
  {
   "cell_type": "code",
   "execution_count": null,
   "id": "12d78b5c-d341-4a23-92bb-0cdcd014ad21",
   "metadata": {},
   "outputs": [],
   "source": [
    "nx=30\n",
    "ny=29\n",
    "dx=1/nx\n",
    "dy=1/ny\n",
    "ip, iu, iv,idu = GenPointer(nx, ny)\n",
    "np_ = nx * ny\n",
    "nu = 2*nx*ny - nx - ny\n",
    "args=uBC_L, uBC_R, uBC_B, uBC_T, vBC_L, vBC_R, vBC_T, vBC_B,np_,nu,nx,ny,dx,dy,iu,iv,ip,dt,v"
   ]
  },
  {
   "cell_type": "code",
   "execution_count": null,
   "id": "24586db5-efb4-4ecd-8757-95a6361968e3",
   "metadata": {},
   "outputs": [],
   "source": [
    "nx=30\n",
    "ny=29\n",
    "ip, iu, iv,idu = GenPointer(nx, ny)\n",
    "np_ = nx * ny\n",
    "nu = 2*nx*ny - nx - ny\n",
    "\n",
    "u_n1=Adv(u_new,*args)\n",
    "\n",
    "X,Y=np.meshgrid(np.linspace(0,1,nx), np.linspace(0,1,ny), indexing='ij')\n",
    "u_vec=np.reshape(u_n1[0:iu[-1,-1]+1], (nx-1,ny), order='C')\n",
    "new_row=np.zeros((ny))\n",
    "u_vec=np.vstack([u_vec, new_row])\n",
    "\n",
    "v_vec=np.reshape(u_n1[iu[-1,-1]+1:], (nx,ny-1), order='C')\n",
    "new_row=np.zeros((nx,1))\n",
    "v_vec=np.hstack([v_vec, new_row])\n",
    "\n",
    "fig,ax=plt.subplots(1,1)\n",
    "#cp = ax.contour(X, Y, curl_visual,cmap='coolwarm')\n",
    "cp = ax.contourf(X, Y, v_vec)\n",
    "fig.colorbar(cp)\n",
    "ax.set_title('Filled Contours Plot')\n",
    "ax.set_xlabel('x (units)')\n",
    "ax.set_ylabel('y (units)')\n",
    "plt.show()"
   ]
  },
  {
   "cell_type": "code",
   "execution_count": null,
   "id": "5a8b4ba1-c214-4c37-bd82-bf8618691565",
   "metadata": {},
   "outputs": [],
   "source": [
    "nx=30\n",
    "ny=29\n",
    "ip, iu, iv,idu = GenPointer(nx, ny)\n",
    "np_ = nx * ny\n",
    "nu = 2*nx*ny - nx - ny\n",
    "args=uBC_L, uBC_R, uBC_B, uBC_T, vBC_L, vBC_R, vBC_T, vBC_B,np_,nu,nx,ny,dx,dy,iu,iv,ip,dt,v\n",
    "\n",
    "u_n=Adv_Vec(u_new,*args)\n",
    "\n",
    "X,Y=np.meshgrid(np.linspace(0,1,nx), np.linspace(0,1,ny), indexing='ij')\n",
    "u_vec=np.reshape(u_n[0:iu[-1,-1]+1], (nx-1,ny), order='C')\n",
    "new_row=np.zeros((ny))\n",
    "u_vec=np.vstack([u_vec, new_row])\n",
    "\n",
    "v_vec=np.reshape(u_n[iu[-1,-1]+1:], (nx,ny-1), order='C')\n",
    "new_row=np.zeros((nx,1))\n",
    "v_vec=np.hstack([v_vec, new_row])\n",
    "\n",
    "fig,ax=plt.subplots(1,1)\n",
    "#cp = ax.contour(X, Y, curl_visual,cmap='coolwarm')\n",
    "cp = ax.contourf(X, Y, v_vec)\n",
    "fig.colorbar(cp)\n",
    "ax.set_title('Filled Contours Plot')\n",
    "ax.set_xlabel('x (units)')\n",
    "ax.set_ylabel('y (units)')\n",
    "plt.show()"
   ]
  },
  {
   "cell_type": "code",
   "execution_count": null,
   "id": "f1f72e39-1929-46a9-b7ee-3c08aeaad8d8",
   "metadata": {},
   "outputs": [],
   "source": [
    "np.allclose(u_n,u_n1)"
   ]
  },
  {
   "cell_type": "code",
   "execution_count": null,
   "id": "e717c655-9536-4914-921f-4ae9a2156a1a",
   "metadata": {},
   "outputs": [],
   "source": []
  }
 ],
 "metadata": {
  "kernelspec": {
   "display_name": "Python 3 (ipykernel)",
   "language": "python",
   "name": "python3"
  },
  "language_info": {
   "codemirror_mode": {
    "name": "ipython",
    "version": 3
   },
   "file_extension": ".py",
   "mimetype": "text/x-python",
   "name": "python",
   "nbconvert_exporter": "python",
   "pygments_lexer": "ipython3",
   "version": "3.8.13"
  },
  "vscode": {
   "interpreter": {
    "hash": "c5f72a9d21c308b1f5681806c3159315e317372a8e25cff37e1319138d5c5606"
   }
  }
 },
 "nbformat": 4,
 "nbformat_minor": 5
}

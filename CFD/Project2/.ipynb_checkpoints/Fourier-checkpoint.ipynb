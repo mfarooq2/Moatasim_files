{
 "cells": [
  {
   "cell_type": "code",
   "execution_count": 33,
   "id": "a9883500-31a1-43ad-983e-261b76164c3b",
   "metadata": {},
   "outputs": [],
   "source": [
    "import numpy, scipy.io\n",
    "import scipy.integrate\n",
    "import matplotlib.pyplot as plt\n",
    "from operator_functions.pointer_func import pointer_vector"
   ]
  },
  {
   "cell_type": "code",
   "execution_count": 4,
   "id": "539673cd-0842-46fa-8bf2-071dd8c14452",
   "metadata": {},
   "outputs": [],
   "source": [
    "\n",
    "#siin paneme paika vajalikud parameetrid\n",
    "punktide_arv=256\n",
    "salv=.01 #kui tiheda sammuga salvestan\n",
    "tf=0.1 #lppaeg\n",
    "atol=1e-12\n",
    "rtol=1e-10\n",
    "nsteps=1e7\n",
    "integrator='vode'\n",
    "#momg vajalikud raamatukogud\n"
   ]
  },
  {
   "cell_type": "code",
   "execution_count": 58,
   "id": "3845780f-ee7d-42ea-b2a9-bc5a5af7aeb1",
   "metadata": {},
   "outputs": [],
   "source": [
    "def psm_start(punktide_arv,salv,tf,atol,rtol):\n",
    "    dx=(1*2*numpy.pi/punktide_arv)\n",
    "    #sisuliselt omega, et tuletisi vtta\n",
    "    abi=numpy.hstack((numpy.arange(punktide_arv/2),numpy.arange(-punktide_arv/2,0)))\n",
    "    suurK=abi\n",
    "    for i in range(punktide_arv-1):\n",
    "        suurK=numpy.vstack((suurK,abi))\n",
    "    #omega transponeeritud, et tuletisi vtta y'st\n",
    "    suurL=suurK.swapaxes(0,1)\n",
    "    #print 'max,min',numpy.max(suurKP),numpy.min(suurKP)\n",
    "    x=dx*numpy.arange(-punktide_arv/2,punktide_arv/2)\n",
    "    y=x\n",
    "    xx,yy=numpy.meshgrid(x,y)\n",
    "    u0=numpy.exp(-(xx**2+yy**2)*25.0)\n",
    "    #nd siis integreeerima!\n",
    "    print('integreerin ',integrator,\"'ga\", u0.shape)\n",
    "    solver=scipy.integrate.ode(funktsioon).set_integrator(integrator,nsteps=nsteps,atol=atol, rtol=rtol)\n",
    "    1\n",
    "    u0 = u0.flatten ()\n",
    "    solver.set_initial_value(u0, 0).set_f_params(suurK,suurL)\n",
    "    lahend=[u0.copy()]\n",
    "    tv=[0,]\n",
    "    counter=0\n",
    "    while solver.t< tf:#solver.successful() and solver.t < tf:\n",
    "        counter+=1\n",
    "        solver.integrate(solver.t + salv)\n",
    "        print(numpy.min(solver.y), numpy.max(solver.y))\n",
    "        ucurrent=solver.y\n",
    "        print(numpy.shape(ucurrent), numpy.max(numpy.abs(ucurrent-u0)))\n",
    "        #proovisin!\n",
    "        lahend.append(ucurrent)\n",
    "        #print numpy.min(ucurrent), numpy.max(ucurrent)\n",
    "        tv.append(solver.t)\n",
    "        print('arvutan, aeg: ',solver.t,solver.successful())\n",
    "        if counter-1>tf/float(salv):\n",
    "            break\n",
    "    return u0,suurK,suurL,lahend,x,y,punktide_arv\n",
    "    #scipy.io.savemat('heat_eq_test_12_04',{'u0':u0,'suurK':suurK,'lahend':lahend,'tv':tv,'x':x\\\n",
    "    #,'y':y,'punktide_arv':punktide_arv})\n"
   ]
  },
  {
   "cell_type": "code",
   "execution_count": 83,
   "id": "531d7357-12ad-46c6-a445-6fcd597789ce",
   "metadata": {},
   "outputs": [],
   "source": [
    "xxyy=numpy.concatenate((x.reshape((len(x),1)),y.reshape((len(y),1))),axis=1)"
   ]
  },
  {
   "cell_type": "code",
   "execution_count": 100,
   "id": "c0258fc3-5e43-44c9-a9b8-1574d058fadd",
   "metadata": {},
   "outputs": [],
   "source": [
    "xxyy=numpy.array(numpy.meshgrid(x,y))"
   ]
  },
  {
   "cell_type": "code",
   "execution_count": 99,
   "id": "02336e2a-5859-476c-a872-2a5cd591c15e",
   "metadata": {},
   "outputs": [
    {
     "data": {
      "text/plain": [
       "(2, 256, 256)"
      ]
     },
     "execution_count": 99,
     "metadata": {},
     "output_type": "execute_result"
    }
   ],
   "source": [
    "xxyy.shape"
   ]
  },
  {
   "cell_type": "code",
   "execution_count": 101,
   "id": "ad9b31f4-1c71-4c02-bb06-538eb957c0e5",
   "metadata": {},
   "outputs": [],
   "source": [
    "\n",
    "def funktsioon(t,xxyy,suurK,suurL):\n",
    "#kasuta seda integreerimiseks!\n",
    "\n",
    "    a=1\n",
    "    #xxyy = numpy.reshape( xxyy, (punktide_arv,)*2)\n",
    "    #print 'SIIN!!!'\n",
    "    #print '================================================================'\n",
    "    uxx=numpy.real(numpy.fft.ifft(-suurK**2*numpy.fft.fft(xxyy,axis=1),axis=1))\n",
    "    uyy=numpy.real(numpy.fft.ifft(-suurL**2*numpy.fft.fft(xxyy,axis=0),axis=0))\n",
    "    tul=a*(uxx+uyy)\n",
    "    #print 'sain tulemuse:', tul.shape\n",
    "    #print max(tul),min(tul)\n",
    "    return tul.flatten()\n"
   ]
  },
  {
   "cell_type": "code",
   "execution_count": 102,
   "id": "ac421711-55df-4f12-9d99-e594812858f2",
   "metadata": {},
   "outputs": [
    {
     "ename": "ValueError",
     "evalue": "cannot reshape array of size 131072 into shape (256,256)",
     "output_type": "error",
     "traceback": [
      "\u001b[0;31m---------------------------------------------------------------------------\u001b[0m",
      "\u001b[0;31mValueError\u001b[0m                                Traceback (most recent call last)",
      "Input \u001b[0;32mIn [102]\u001b[0m, in \u001b[0;36m<cell line: 1>\u001b[0;34m()\u001b[0m\n\u001b[0;32m----> 1\u001b[0m \u001b[43mfunktsioon\u001b[49m\u001b[43m(\u001b[49m\u001b[43m[\u001b[49m\u001b[43mi\u001b[49m\u001b[43m \u001b[49m\u001b[38;5;28;43;01mfor\u001b[39;49;00m\u001b[43m \u001b[49m\u001b[43mi\u001b[49m\u001b[43m \u001b[49m\u001b[38;5;129;43;01min\u001b[39;49;00m\u001b[43m \u001b[49m\u001b[38;5;28;43mrange\u001b[39;49m\u001b[43m(\u001b[49m\u001b[38;5;241;43m12\u001b[39;49m\u001b[43m)\u001b[49m\u001b[43m]\u001b[49m\u001b[43m,\u001b[49m\u001b[43mxxyy\u001b[49m\u001b[43m,\u001b[49m\u001b[43msuurK\u001b[49m\u001b[43m,\u001b[49m\u001b[43msuurL\u001b[49m\u001b[43m)\u001b[49m\n",
      "Input \u001b[0;32mIn [101]\u001b[0m, in \u001b[0;36mfunktsioon\u001b[0;34m(t, xxyy, suurK, suurL)\u001b[0m\n\u001b[1;32m      1\u001b[0m \u001b[38;5;28;01mdef\u001b[39;00m \u001b[38;5;21mfunktsioon\u001b[39m(t,xxyy,suurK,suurL):\n\u001b[1;32m      2\u001b[0m \u001b[38;5;66;03m#kasuta seda integreerimiseks!\u001b[39;00m\n\u001b[1;32m      4\u001b[0m     a\u001b[38;5;241m=\u001b[39m\u001b[38;5;241m1\u001b[39m\n\u001b[0;32m----> 5\u001b[0m     xxyy \u001b[38;5;241m=\u001b[39m \u001b[43mnumpy\u001b[49m\u001b[38;5;241;43m.\u001b[39;49m\u001b[43mreshape\u001b[49m\u001b[43m(\u001b[49m\u001b[43m \u001b[49m\u001b[43mxxyy\u001b[49m\u001b[43m,\u001b[49m\u001b[43m \u001b[49m\u001b[43m(\u001b[49m\u001b[43mpunktide_arv\u001b[49m\u001b[43m,\u001b[49m\u001b[43m)\u001b[49m\u001b[38;5;241;43m*\u001b[39;49m\u001b[38;5;241;43m2\u001b[39;49m\u001b[43m)\u001b[49m\n\u001b[1;32m      6\u001b[0m     \u001b[38;5;66;03m#print 'SIIN!!!'\u001b[39;00m\n\u001b[1;32m      7\u001b[0m     \u001b[38;5;66;03m#print '================================================================'\u001b[39;00m\n\u001b[1;32m      8\u001b[0m     uxx\u001b[38;5;241m=\u001b[39mnumpy\u001b[38;5;241m.\u001b[39mreal(numpy\u001b[38;5;241m.\u001b[39mfft\u001b[38;5;241m.\u001b[39mifft(\u001b[38;5;241m-\u001b[39msuurK\u001b[38;5;241m*\u001b[39m\u001b[38;5;241m*\u001b[39m\u001b[38;5;241m2\u001b[39m\u001b[38;5;241m*\u001b[39mnumpy\u001b[38;5;241m.\u001b[39mfft\u001b[38;5;241m.\u001b[39mfft(xxyy,axis\u001b[38;5;241m=\u001b[39m\u001b[38;5;241m1\u001b[39m),axis\u001b[38;5;241m=\u001b[39m\u001b[38;5;241m1\u001b[39m))\n",
      "File \u001b[0;32m<__array_function__ internals>:180\u001b[0m, in \u001b[0;36mreshape\u001b[0;34m(*args, **kwargs)\u001b[0m\n",
      "File \u001b[0;32m~/miniforge3/envs/mlp/lib/python3.8/site-packages/numpy/core/fromnumeric.py:298\u001b[0m, in \u001b[0;36mreshape\u001b[0;34m(a, newshape, order)\u001b[0m\n\u001b[1;32m    198\u001b[0m \u001b[38;5;129m@array_function_dispatch\u001b[39m(_reshape_dispatcher)\n\u001b[1;32m    199\u001b[0m \u001b[38;5;28;01mdef\u001b[39;00m \u001b[38;5;21mreshape\u001b[39m(a, newshape, order\u001b[38;5;241m=\u001b[39m\u001b[38;5;124m'\u001b[39m\u001b[38;5;124mC\u001b[39m\u001b[38;5;124m'\u001b[39m):\n\u001b[1;32m    200\u001b[0m     \u001b[38;5;124;03m\"\"\"\u001b[39;00m\n\u001b[1;32m    201\u001b[0m \u001b[38;5;124;03m    Gives a new shape to an array without changing its data.\u001b[39;00m\n\u001b[1;32m    202\u001b[0m \n\u001b[0;32m   (...)\u001b[0m\n\u001b[1;32m    296\u001b[0m \u001b[38;5;124;03m           [5, 6]])\u001b[39;00m\n\u001b[1;32m    297\u001b[0m \u001b[38;5;124;03m    \"\"\"\u001b[39;00m\n\u001b[0;32m--> 298\u001b[0m     \u001b[38;5;28;01mreturn\u001b[39;00m \u001b[43m_wrapfunc\u001b[49m\u001b[43m(\u001b[49m\u001b[43ma\u001b[49m\u001b[43m,\u001b[49m\u001b[43m \u001b[49m\u001b[38;5;124;43m'\u001b[39;49m\u001b[38;5;124;43mreshape\u001b[39;49m\u001b[38;5;124;43m'\u001b[39;49m\u001b[43m,\u001b[49m\u001b[43m \u001b[49m\u001b[43mnewshape\u001b[49m\u001b[43m,\u001b[49m\u001b[43m \u001b[49m\u001b[43morder\u001b[49m\u001b[38;5;241;43m=\u001b[39;49m\u001b[43morder\u001b[49m\u001b[43m)\u001b[49m\n",
      "File \u001b[0;32m~/miniforge3/envs/mlp/lib/python3.8/site-packages/numpy/core/fromnumeric.py:57\u001b[0m, in \u001b[0;36m_wrapfunc\u001b[0;34m(obj, method, *args, **kwds)\u001b[0m\n\u001b[1;32m     54\u001b[0m     \u001b[38;5;28;01mreturn\u001b[39;00m _wrapit(obj, method, \u001b[38;5;241m*\u001b[39margs, \u001b[38;5;241m*\u001b[39m\u001b[38;5;241m*\u001b[39mkwds)\n\u001b[1;32m     56\u001b[0m \u001b[38;5;28;01mtry\u001b[39;00m:\n\u001b[0;32m---> 57\u001b[0m     \u001b[38;5;28;01mreturn\u001b[39;00m \u001b[43mbound\u001b[49m\u001b[43m(\u001b[49m\u001b[38;5;241;43m*\u001b[39;49m\u001b[43margs\u001b[49m\u001b[43m,\u001b[49m\u001b[43m \u001b[49m\u001b[38;5;241;43m*\u001b[39;49m\u001b[38;5;241;43m*\u001b[39;49m\u001b[43mkwds\u001b[49m\u001b[43m)\u001b[49m\n\u001b[1;32m     58\u001b[0m \u001b[38;5;28;01mexcept\u001b[39;00m \u001b[38;5;167;01mTypeError\u001b[39;00m:\n\u001b[1;32m     59\u001b[0m     \u001b[38;5;66;03m# A TypeError occurs if the object does have such a method in its\u001b[39;00m\n\u001b[1;32m     60\u001b[0m     \u001b[38;5;66;03m# class, but its signature is not identical to that of NumPy's. This\u001b[39;00m\n\u001b[0;32m   (...)\u001b[0m\n\u001b[1;32m     64\u001b[0m     \u001b[38;5;66;03m# Call _wrapit from within the except clause to ensure a potential\u001b[39;00m\n\u001b[1;32m     65\u001b[0m     \u001b[38;5;66;03m# exception has a traceback chain.\u001b[39;00m\n\u001b[1;32m     66\u001b[0m     \u001b[38;5;28;01mreturn\u001b[39;00m _wrapit(obj, method, \u001b[38;5;241m*\u001b[39margs, \u001b[38;5;241m*\u001b[39m\u001b[38;5;241m*\u001b[39mkwds)\n",
      "\u001b[0;31mValueError\u001b[0m: cannot reshape array of size 131072 into shape (256,256)"
     ]
    }
   ],
   "source": [
    "funktsioon([i for i in range(12)],xxyy,suurK,suurL)"
   ]
  },
  {
   "cell_type": "code",
   "execution_count": 59,
   "id": "2ddc31d9-387f-4cf0-988d-07dc35117aa1",
   "metadata": {},
   "outputs": [
    {
     "name": "stdout",
     "output_type": "stream",
     "text": [
      "integreerin  vode 'ga (256, 256)\n",
      "-7.283267629357645e-13 0.5000000008811903\n",
      "(65536,) 0.49999999911880966\n",
      "arvutan, aeg:  0.01 True\n",
      "-3.432287509788131e-13 0.3333333334964714\n",
      "(65536,) 0.6666666665035286\n",
      "arvutan, aeg:  0.02 True\n",
      "-1.7632764792952669e-13 0.2500000000452656\n",
      "(65536,) 0.7499999999547344\n",
      "arvutan, aeg:  0.03 True\n",
      "-3.3345280871303893e-13 0.20000000001741305\n",
      "(65536,) 0.799999999982587\n",
      "arvutan, aeg:  0.04 True\n",
      "-3.157585099915619e-13 0.1666666665303205\n",
      "(65536,) 0.8333333334696795\n",
      "arvutan, aeg:  0.05 True\n",
      "-9.658603298647953e-14 0.14285714244466394\n",
      "(65536,) 0.857142857555336\n",
      "arvutan, aeg:  0.060000000000000005 True\n",
      "-5.469050732810873e-13 0.1249999993117044\n",
      "(65536,) 0.8750000006882956\n",
      "arvutan, aeg:  0.07 True\n",
      "-1.929574823399362e-13 0.11111110997386604\n",
      "(65536,) 0.8888888900261339\n",
      "arvutan, aeg:  0.08 True\n",
      "-9.284788219419614e-14 0.0999999988627242\n",
      "(65536,) 0.9000000011372757\n",
      "arvutan, aeg:  0.09 True\n",
      "-4.694594160630047e-13 0.09090908992438988\n",
      "(65536,) 0.9090909100756102\n",
      "arvutan, aeg:  0.09999999999999999 True\n",
      "-5.4583232135903314e-14 0.08333333243096178\n",
      "(65536,) 0.9166666675690383\n",
      "arvutan, aeg:  0.10999999999999999 True\n"
     ]
    }
   ],
   "source": [
    "u0,suurK,suurL,lahend,x,y,punktide_arv=psm_start(punktide_arv,salv,tf,atol,rtol)"
   ]
  },
  {
   "cell_type": "code",
   "execution_count": 56,
   "id": "97bb455f-22f7-4aba-a8b3-e237088f934f",
   "metadata": {},
   "outputs": [
    {
     "data": {
      "text/plain": [
       "array([[ 0.,  1.,  2., ..., -3., -2., -1.],\n",
       "       [ 0.,  1.,  2., ..., -3., -2., -1.],\n",
       "       [ 0.,  1.,  2., ..., -3., -2., -1.],\n",
       "       ...,\n",
       "       [ 0.,  1.,  2., ..., -3., -2., -1.],\n",
       "       [ 0.,  1.,  2., ..., -3., -2., -1.],\n",
       "       [ 0.,  1.,  2., ..., -3., -2., -1.]])"
      ]
     },
     "execution_count": 56,
     "metadata": {},
     "output_type": "execute_result"
    }
   ],
   "source": [
    "suurK"
   ]
  },
  {
   "cell_type": "code",
   "execution_count": 53,
   "id": "31e0e341-4028-4535-87a5-b3e303677e48",
   "metadata": {},
   "outputs": [
    {
     "data": {
      "image/png": "[encoded data removed]",
      "text/plain": [
       "<Figure size 640x480 with 2 Axes>"
      ]
     },
     "metadata": {},
     "output_type": "display_data"
    }
   ],
   "source": [
    "Mat_sol=numpy.zeros((len(x),len(y)))\n",
    "iQ=pointer_vector(len(x),len(y))\n",
    "for i in range(0,(len(x))):\n",
    "    for j in range(0,len(y)):\n",
    "        p=lahend[11].copy()\n",
    "        Mat_sol[i,j] =p[iQ[i, j]]\n",
    "        \n",
    "fig,ax=plt.subplots(1,1)\n",
    "cp = ax.contourf(x, y, Mat_sol)\n",
    "fig.colorbar(cp)\n",
    "ax.set_title('Filled Contours Plot')\n",
    "ax.set_xlabel('x (units)')\n",
    "ax.set_ylabel('y (units)')\n",
    "plt.show()"
   ]
  },
  {
   "cell_type": "code",
   "execution_count": 42,
   "id": "aeb44d44-b795-48b6-ae15-3035275dc2de",
   "metadata": {},
   "outputs": [
    {
     "data": {
      "text/plain": [
       "(65536,)"
      ]
     },
     "execution_count": 42,
     "metadata": {},
     "output_type": "execute_result"
    }
   ],
   "source": [
    ".shape"
   ]
  },
  {
   "cell_type": "code",
   "execution_count": 40,
   "id": "8e2dc08c-84db-4cdf-8cb3-95a3e9f4d5c1",
   "metadata": {},
   "outputs": [
    {
     "data": {
      "text/plain": [
       "256"
      ]
     },
     "execution_count": 40,
     "metadata": {},
     "output_type": "execute_result"
    }
   ],
   "source": [
    "punktide_arv"
   ]
  },
  {
   "cell_type": "code",
   "execution_count": null,
   "id": "bda1b1c0-2648-4b0e-b0af-bcb080a648ad",
   "metadata": {},
   "outputs": [],
   "source": []
  }
 ],
 "metadata": {
  "kernelspec": {
   "display_name": "Python 3 (ipykernel)",
   "language": "python",
   "name": "python3"
  },
  "language_info": {
   "codemirror_mode": {
    "name": "ipython",
    "version": 3
   },
   "file_extension": ".py",
   "mimetype": "text/x-python",
   "name": "python",
   "nbconvert_exporter": "python",
   "pygments_lexer": "ipython3",
   "version": "3.8.13"
  }
 },
 "nbformat": 4,
 "nbformat_minor": 5
}

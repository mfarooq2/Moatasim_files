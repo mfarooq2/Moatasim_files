{
 "cells": [
  {
   "cell_type": "code",
   "execution_count": 1,
   "id": "1aae77f5-316a-428e-971f-4898ee974ac1",
   "metadata": {},
   "outputs": [],
   "source": [
    "import numpy as np\n",
    "import jax.numpy as jnp\n",
    "from jax import grad, jit, vmap\n",
    "from jax import random\n",
    "import matplotlib.pyplot as plt\n",
    "from mpl_toolkits import mplot3d\n",
    "from matplotlib.animation import FuncAnimation\n",
    "import time\n",
    "import pandas as pd\n",
    "from numpy.linalg import norm\n",
    "from itertools import count\n",
    "from IPython import display\n",
    "import seaborn as sns\n",
    "from IPython.display import HTML\n",
    "from scipy.io import loadmat\n",
    "from operator_functions.pointer_func import pointer_vector\n",
    "from operator_functions.AB_operator import A_operator,B_operator,uBC_Laplace,b_vector_creator\n",
    "from operator_functions.Conjugate_gradient import CG_solver,CG_solver_transient_Matrix,CG_solver_transient\n",
    "from operator_functions.bound_append import bound_appender\n",
    "from operator_functions.helper_util import Func_GaussElimination,plotter_animation_contour\n",
    "import time\n",
    "from joblib import Parallel, delayed"
   ]
  },
  {
   "cell_type": "code",
   "execution_count": 2,
   "id": "80d0baf8-f208-4aa7-a8d1-f097cd2854fc",
   "metadata": {},
   "outputs": [],
   "source": [
    "##diffusivity\n",
    "alpha  = 0.005 ;\n",
    "## Delta t\n",
    "dt = 0.02 ;\n",
    "## grid\n",
    "Nx=19\n",
    "Ny=19\n",
    "xtotal  = np.linspace(0,1,Nx+2)\n",
    "x=xtotal[1:Nx+1]\n",
    "ytotal  = np.linspace(0,1,Ny+2)\n",
    "y=ytotal[1:Ny+1]\n",
    "dx = x[1] - x[0] \n",
    "dy=y[1] - y[0] \n",
    "xv, yv = np.meshgrid(x, y, indexing='ij')\n",
    "X,Y=np.meshgrid(xtotal, ytotal, indexing='ij')\n",
    "kappa=0.02*np.exp(-((((xv-0.7)**2)/0.09)+(((yv-0.6)**2)/0.25)))\n",
    "b=-1*kappa/(alpha)\n",
    "Q=np.zeros((Nx*Ny,1))\n",
    "BCB=(-0.3)*np.ones(Nx)\n",
    "BCL=0.5-0.5*np.cos(2*np.pi*y)\n",
    "BCT=0.5+0.5*np.sin(4*np.pi*x-0.5*np.pi)\n",
    "BCR=np.zeros(Ny)\n",
    "b_residual_list=[]\n",
    "cg_iter_list=[10,50,100,200,250]\n",
    "#for cg_iter in cg_iter_list:\n",
    "#    Steady_ss,Solution_Matrix,b_residual=CG_solver(Q,b,Nx,Ny,dx,dy,BCB,BCL,BCT,BCR,cg_iter)\n",
    "#    b_residual_list.append(b_residual)\n",
    "cg_iter=100\n",
    "Steady_ss,Solution_Matrix,b_residual=CG_solver(Q,b,Nx,Ny,dx,dy,BCB,BCL,BCT,BCR,cg_iter)\n",
    "N=Nx*Ny\n",
    "matrix_A=[]\n",
    "matrix_B=[]\n",
    "\n",
    "BCB=(-0.3)*np.ones(Nx)\n",
    "BCL=0.5-0.5*np.cos(2*np.pi*y)\n",
    "BCT=0.5+0.5*np.sin(4*np.pi*x-0.5*np.pi)\n",
    "BCR=np.zeros(Ny)\n",
    "\n",
    "for i in range(N):\n",
    "   Q=np.zeros((N,1))\n",
    "   Q[i,0]=1\n",
    "   matrix_A.append(list(A_operator(Q,Nx,Ny,dx,dy,dt,alpha)[:,0]))\n",
    "    \n",
    "   Q=np.zeros((N,1))\n",
    "   Q[i,0]=1\n",
    "   matrix_B.append(list(B_operator(Q,Nx,Ny,dx,dy,dt,alpha)[:,0]))\n",
    "matrix_A=np.array(matrix_A)\n",
    "inv_A=np.linalg.inv(matrix_A)\n",
    "matrix_B=np.array(matrix_B)\n",
    "inv_B=np.linalg.inv(matrix_B)\n",
    "dt_range=[0.01,0.1,1,10]"
   ]
  },
  {
   "cell_type": "code",
   "execution_count": null,
   "id": "3553e323-b7a6-4304-8cf9-ffbbe8e20e82",
   "metadata": {},
   "outputs": [],
   "source": [
    "def is_hermitian_positive_semidefinite(X):\n",
    "    if X.shape[0] != X.shape[1]: # must be a square matrix\n",
    "        return False\n",
    "\n",
    "    if not np.all( X - X.T == 0 ): # must be a symmetric or hermitian matrix\n",
    "        return False\n",
    "\n",
    "    try: # Cholesky decomposition fails for matrices that are NOT positive definite.\n",
    "\n",
    "        # But since the matrix may be positive SEMI-definite due to rank deficiency\n",
    "        # we must regularize.\n",
    "        regularized_X = X + np.eye(X.shape[0]) * 1e-14\n",
    "\n",
    "        np.linalg.cholesky(regularized_X)\n",
    "    except np.linalg.LinAlgError:\n",
    "        return False\n",
    "\n",
    "    return True"
   ]
  },
  {
   "cell_type": "code",
   "execution_count": null,
   "id": "0fb671ef-7215-4a04-a16a-eb841bf23665",
   "metadata": {},
   "outputs": [],
   "source": [
    "is_hermitian_positive_semidefinite(matrix_B)"
   ]
  },
  {
   "cell_type": "code",
   "execution_count": null,
   "id": "cc6a7eba-7bc8-4619-88e0-3d0a57b4e951",
   "metadata": {},
   "outputs": [],
   "source": [
    "plt.plot([i for i in range(len(b_residual))],b_residual,label=f\"cg_iter={cg_iter}\")\n",
    "plt.legend()\n",
    "plt.show()"
   ]
  },
  {
   "cell_type": "code",
   "execution_count": null,
   "id": "476faf1b-5a39-48e8-aefa-705299e6eb4d",
   "metadata": {},
   "outputs": [],
   "source": [
    "def timer_iteration(dt):\n",
    "    kappa=dt*kappa_base\n",
    "    Q=np.zeros((Nx*Ny,1))\n",
    "    norm_list=[]\n",
    "    b_vector=b_vector_creator(kappa,Nx,Ny,dx,dy,BCB,BCL,BCT,BCR,dt,alpha)\n",
    "    for it in range(100):\n",
    "        b=A_operator(Q,Nx,Ny,dx,dy,dt,alpha)+b_vector\n",
    "        Q,Solution_Matrix=CG_solver_transient(Q,b,Nx,Ny,dx,dy,BCB,BCL,BCT,BCR,dt,alpha)\n",
    "        norm_l2 = (norm(Q-Steady_ss))/(norm(Steady_ss))\n",
    "        if it%10==0:\n",
    "            print(it*dt,norm_l2)\n",
    "        norm_list.append(norm_l2)\n",
    "        if norm_l2<1e-4:\n",
    "            break\n",
    "    return Q,norm_list"
   ]
  },
  {
   "cell_type": "code",
   "execution_count": null,
   "id": "87a61304-644e-4c98-bb77-674af6dd8ee8",
   "metadata": {},
   "outputs": [],
   "source": [
    "norm_list_total=[]\n",
    "iter_list_total=[]\n",
    "t = time.time()\n",
    "results = Parallel(n_jobs=2)(delayed(timer_iteration)(dt) for dt in [0.1,1,5,10])\n",
    "print(time.time()-t)"
   ]
  },
  {
   "cell_type": "code",
   "execution_count": null,
   "id": "3c26d3c3-f4ff-4cf7-be62-beab46c52492",
   "metadata": {},
   "outputs": [],
   "source": [
    "plt.plot([i for i in range(len(results[0]))],results[0],label=f\"dt={dt_range[0]}\")\n",
    "plt.plot([i for i in range(len(results[1]))],results[1],label=f\"dt={dt_range[1]}\")\n",
    "plt.plot([i for i in range(len(results[2]))],results[2],label=f\"dt={dt_range[2]}\")\n",
    "plt.plot([i for i in range(len(results[3]))],results[3],label=f\"dt={dt_range[3]}\")\n",
    "plt.legend()\n",
    "plt.show()"
   ]
  },
  {
   "cell_type": "code",
   "execution_count": 3,
   "id": "08b34c5e-ca96-4ef4-994e-bd1c7a65faa1",
   "metadata": {},
   "outputs": [
    {
     "ename": "ValueError",
     "evalue": "operands could not be broadcast together with shapes (361,1) (19,19) ",
     "output_type": "error",
     "traceback": [
      "\u001b[0;31m---------------------------------------------------------------------------\u001b[0m",
      "\u001b[0;31mValueError\u001b[0m                                Traceback (most recent call last)",
      "Input \u001b[0;32mIn [3]\u001b[0m, in \u001b[0;36m<cell line: 7>\u001b[0;34m()\u001b[0m\n\u001b[1;32m     16\u001b[0m \u001b[38;5;66;03m#b_vector=b_vector_creator(kappa,Nx,Ny,dx,dy,BCB,BCL,BCT,BCR,dt,alpha)\u001b[39;00m\n\u001b[1;32m     17\u001b[0m \u001b[38;5;28;01mfor\u001b[39;00m it \u001b[38;5;129;01min\u001b[39;00m \u001b[38;5;28mrange\u001b[39m(\u001b[38;5;241m1000\u001b[39m):\n\u001b[1;32m     18\u001b[0m     \u001b[38;5;66;03m#b=A_operator(Q,Nx,Ny,dx,dy,dt,alpha)+b_vector\u001b[39;00m\n\u001b[0;32m---> 19\u001b[0m     Q,Solution_Matrix,b_residual\u001b[38;5;241m=\u001b[39m\u001b[43mCG_solver_transient\u001b[49m\u001b[43m(\u001b[49m\u001b[43mQ\u001b[49m\u001b[43m,\u001b[49m\u001b[43mkappa\u001b[49m\u001b[43m,\u001b[49m\u001b[43mNx\u001b[49m\u001b[43m,\u001b[49m\u001b[43mNy\u001b[49m\u001b[43m,\u001b[49m\u001b[43mdx\u001b[49m\u001b[43m,\u001b[49m\u001b[43mdy\u001b[49m\u001b[43m,\u001b[49m\u001b[43mBCB\u001b[49m\u001b[43m,\u001b[49m\u001b[43mBCL\u001b[49m\u001b[43m,\u001b[49m\u001b[43mBCT\u001b[49m\u001b[43m,\u001b[49m\u001b[43mBCR\u001b[49m\u001b[43m,\u001b[49m\u001b[43mdt\u001b[49m\u001b[43m,\u001b[49m\u001b[43malpha\u001b[49m\u001b[43m)\u001b[49m\n\u001b[1;32m     20\u001b[0m     norm_l2 \u001b[38;5;241m=\u001b[39m (norm(Q\u001b[38;5;241m-\u001b[39mSteady_ss))\u001b[38;5;241m/\u001b[39m(norm(Steady_ss))\n\u001b[1;32m     21\u001b[0m     \u001b[38;5;28;01mif\u001b[39;00m it\u001b[38;5;241m%\u001b[39m\u001b[38;5;241m10\u001b[39m\u001b[38;5;241m==\u001b[39m\u001b[38;5;241m0\u001b[39m:\n",
      "File \u001b[0;32m~/Desktop/CFD/Project2/operator_functions/Conjugate_gradient.py:36\u001b[0m, in \u001b[0;36mCG_solver_transient\u001b[0;34m(Q, b, Nx, Ny, dx, dy, BCB, BCL, BCT, BCR, dt, alpha)\u001b[0m\n\u001b[1;32m     35\u001b[0m \u001b[38;5;28;01mdef\u001b[39;00m \u001b[38;5;21mCG_solver_transient\u001b[39m(Q,b,Nx,Ny,dx,dy,BCB,BCL,BCT,BCR,dt,alpha):\n\u001b[0;32m---> 36\u001b[0m     b\u001b[38;5;241m=\u001b[39m\u001b[43mA_operator\u001b[49m\u001b[43m(\u001b[49m\u001b[43mQ\u001b[49m\u001b[43m,\u001b[49m\u001b[43mNx\u001b[49m\u001b[43m,\u001b[49m\u001b[43mNy\u001b[49m\u001b[43m,\u001b[49m\u001b[43mdx\u001b[49m\u001b[43m,\u001b[49m\u001b[43mdy\u001b[49m\u001b[43m,\u001b[49m\u001b[43mdt\u001b[49m\u001b[43m,\u001b[49m\u001b[43malpha\u001b[49m\u001b[43m)\u001b[49m\u001b[38;5;241;43m+\u001b[39;49m\u001b[43mb\u001b[49m\u001b[38;5;241m+\u001b[39muBC_Laplace(Nx,Ny,dx,dy,BCB,BCL,BCT,BCR,dt,alpha)\u001b[38;5;241m-\u001b[39mB_operator(Q,Nx,Ny,dx,dy,dt,alpha)\n\u001b[1;32m     37\u001b[0m     d_old\u001b[38;5;241m=\u001b[39mb\u001b[38;5;241m-\u001b[39mB_operator(Q,Nx,Ny,dx,dy,dt,alpha)\n\u001b[1;32m     38\u001b[0m     r_old\u001b[38;5;241m=\u001b[39md_old\n",
      "\u001b[0;31mValueError\u001b[0m: operands could not be broadcast together with shapes (361,1) (19,19) "
     ]
    }
   ],
   "source": [
    "norm_list_total=[]\n",
    "iter_list_total=[]\n",
    "Solution_Matrix_list=[]\n",
    "b_residual_list=[]\n",
    "kappa_base=0.02*np.exp(-((((xv-0.7)**2)/0.09)+(((yv-0.6)**2)/0.25)))\n",
    "dt_range=[1]\n",
    "for dt in dt_range:\n",
    "    ## grid\n",
    "    kappa=dt*kappa_base\n",
    "    Q=np.zeros((Nx*Ny,1))\n",
    "    BCB=(-0.3)*np.ones(Nx)\n",
    "    BCL=0.5-0.5*np.cos(2*np.pi*y)\n",
    "    BCT=0.5+0.5*np.sin(4*np.pi*x-0.5*np.pi)\n",
    "    BCR=np.zeros(Ny)\n",
    "    norm_list=[]\n",
    "    #b_vector=b_vector_creator(kappa,Nx,Ny,dx,dy,BCB,BCL,BCT,BCR,dt,alpha)\n",
    "    for it in range(1000):\n",
    "        #b=A_operator(Q,Nx,Ny,dx,dy,dt,alpha)+b_vector\n",
    "        Q,Solution_Matrix,b_residual=CG_solver_transient(Q,kappa,Nx,Ny,dx,dy,BCB,BCL,BCT,BCR,dt,alpha)\n",
    "        norm_l2 = (norm(Q-Steady_ss))/(norm(Steady_ss))\n",
    "        if it%10==0:\n",
    "            print(it*dt,norm_l2)\n",
    "        norm_list.append(norm_l2)\n",
    "        iter_list.append(it)\n",
    "        if norm_l2<1e-4:\n",
    "            b_residual_list.append(b_residual)\n",
    "            break\n",
    "        Solution_Matrix_list.append(Solution_Matrix)\n",
    "    norm_list_total.append(norm_list)\n",
    "    iter_list_total.append(iter_list)"
   ]
  },
  {
   "cell_type": "code",
   "execution_count": 4,
   "id": "f9187392-e150-4179-983a-7fa1c68ab2d1",
   "metadata": {},
   "outputs": [
    {
     "data": {
      "text/plain": [
       "(19, 19)"
      ]
     },
     "execution_count": 4,
     "metadata": {},
     "output_type": "execute_result"
    }
   ],
   "source": [
    "b.shape"
   ]
  },
  {
   "cell_type": "code",
   "execution_count": null,
   "id": "4dd8cca3-9c9d-4643-a035-12d254ebad3c",
   "metadata": {},
   "outputs": [],
   "source": [
    "uBC_Laplace"
   ]
  },
  {
   "cell_type": "code",
   "execution_count": null,
   "id": "7e2a8cb7-b1f0-478c-a112-dcdcc120045e",
   "metadata": {},
   "outputs": [],
   "source": [
    "plt.plot([i for i in range(len(b_residual))],b_residual,label=f\"dt={dt_range[0]}\")\n",
    "# plt.plot([i for i in range(len(norm_list_total[1]))],norm_list_total[1],label=f\"dt={dt_range[1]}\")\n",
    "# plt.plot([i for i in range(len(norm_list_total[2]))],norm_list_total[2],label=f\"dt={dt_range[2]}\")\n",
    "# plt.plot([i for i in range(len(norm_list_total[3]))],norm_list_total[3],label=f\"dt={dt_range[3]}\")\n",
    "# plt.legend()\n",
    "# plt.show()"
   ]
  },
  {
   "cell_type": "code",
   "execution_count": null,
   "id": "5a54b29e-e219-410f-8750-f21b949b2750",
   "metadata": {},
   "outputs": [],
   "source": [
    "dat_acq_int=1\n",
    "HTML(plotter_animation_contour(xv,yv,Solution_Matrix_list,interv=100,dat_acq=dat_acq_int,p=0,q=1).to_html5_video())"
   ]
  },
  {
   "cell_type": "code",
   "execution_count": null,
   "id": "b694ad26-18a4-4f00-ac59-53536164c99f",
   "metadata": {},
   "outputs": [],
   "source": [
    "fig,ax=plt.subplots(1,1)\n",
    "cp = ax.contourf(xv, yv, Solution_Matrix)\n",
    "fig.colorbar(cp)\n",
    "ax.set_title('Filled Contours Plot')\n",
    "ax.set_xlabel('x (units)')\n",
    "ax.set_ylabel('y (units)')\n",
    "plt.show()"
   ]
  },
  {
   "cell_type": "markdown",
   "id": "ebec3db2-5179-4170-ac76-ab021e8ece86",
   "metadata": {},
   "source": []
  },
  {
   "cell_type": "code",
   "execution_count": null,
   "id": "6a0e37d9-73b0-4660-b351-c01b14e2e2ef",
   "metadata": {},
   "outputs": [],
   "source": [
    "norm_list_total=[]\n",
    "iter_list_total=[]\n",
    "kappa_base=0.02*np.exp(-((((xv-0.7)**2)/0.09)+(((yv-0.6)**2)/0.25)))\n",
    "## grid\n",
    "dt=0.01\n",
    "kappa=(2*dt)*kappa_base\n",
    "Q=np.zeros((Nx*Ny,1))\n",
    "BCB=(-0.3)*np.ones(Nx)\n",
    "BCL=0.5-0.5*np.cos(2*np.pi*y)\n",
    "BCT=0.5+0.5*np.sin(4*np.pi*x-0.5*np.pi)\n",
    "BCR=np.zeros(Ny)\n",
    "norm_list=[]\n",
    "iter_list=[]\n",
    "b_vector=b_vector_creator(kappa,Nx,Ny,dx,dy,BCB,BCL,BCT,BCR,dt,alpha)\n",
    "for it in range(20000):\n",
    "    b=A_operator(Q,Nx,Ny,dx,dy,dt,alpha)+b_vector\n",
    "    #Q=np.linalg.solve(matrix_B, b)\n",
    "    Q,Solution_Matrix=CG_solver_transient_Matrix(matrix_B,Q,b,Nx,Ny,dx,dy,BCB,BCL,BCT,BCR,dt,alpha)\n",
    "    norm_l2 = (norm(Q-Steady_ss))/(norm(Steady_ss))\n",
    "    if it%100==0:\n",
    "        print(it*dt,norm_l2)\n",
    "    norm_list.append(norm_l2)\n",
    "    iter_list.append(it)\n",
    "    if norm_l2<1e-4:\n",
    "        break\n",
    "    if it>3:\n",
    "        if (norm_list[-1]-norm_list[-2])>0.00001:\n",
    "            break\n",
    "norm_list_total.append(norm_list)\n",
    "iter_list_total.append(iter_list)"
   ]
  },
  {
   "cell_type": "code",
   "execution_count": null,
   "id": "86d2338e-8921-4db0-8d6a-a95f2a23abea",
   "metadata": {},
   "outputs": [],
   "source": [
    "b_vector=b_vector_creator(kappa,Nx,Ny,dx,dy,BCB,BCL,BCT,BCR,dt,alpha)"
   ]
  },
  {
   "cell_type": "code",
   "execution_count": null,
   "id": "107d4ab6-a1d3-4082-bb39-899b428ba0be",
   "metadata": {},
   "outputs": [],
   "source": [
    "norm_list_total.µ, append(norm_list)"
   ]
  },
  {
   "cell_type": "code",
   "execution_count": null,
   "id": "aaed7d63-2292-4150-a5db-e55ce92cb3f9",
   "metadata": {},
   "outputs": [],
   "source": [
    "plt.plot([i for i in range(len(norm_list_total[0]))],norm_list_total[0],label=f\"dt={dt_range[0]}\")\n",
    "#plt.plot([i for i in range(len(norm_list_total[1]))],norm_list_total[1],label=f\"dt={dt_range[1]}\")\n",
    "#plt.plot([i for i in range(len(norm_list_total[2]))],norm_list_total[2],label=f\"dt={dt_range[2]}\")\n",
    "#plt.plot([i for i in range(len(norm_list_total[3]))],norm_list_total[3],label=f\"dt={dt_range[3]}\")\n",
    "plt.legend()\n",
    "plt.show()"
   ]
  },
  {
   "cell_type": "code",
   "execution_count": null,
   "id": "1b704c38-555d-48ef-b6db-5ce5e831ef53",
   "metadata": {},
   "outputs": [],
   "source": [
    "Mat_sol=np.zeros((Nx,Ny))\n",
    "iQ=pointer_vector(Nx, Ny)\n",
    "for i in range(0,Nx):\n",
    "    for j in range(0,Ny):\n",
    "        Mat_sol[i,j] = Q[iQ[i, j]]"
   ]
  },
  {
   "cell_type": "code",
   "execution_count": null,
   "id": "91c0b8c7-9aa3-4aae-93de-38a3d363714c",
   "metadata": {},
   "outputs": [],
   "source": [
    "fig,ax=plt.subplots(1,1)\n",
    "cp = ax.contourf(xv, yv, Mat_sol)\n",
    "fig.colorbar(cp)\n",
    "ax.set_title('Filled Contours Plot')\n",
    "ax.set_xlabel('x (units)')\n",
    "ax.set_ylabel('y (units)')\n",
    "plt.show()"
   ]
  },
  {
   "cell_type": "code",
   "execution_count": null,
   "id": "353c74c0-4c5f-4a9e-85a4-a34957c1b2fd",
   "metadata": {},
   "outputs": [],
   "source": [
    "np.max(Q)"
   ]
  },
  {
   "cell_type": "code",
   "execution_count": null,
   "id": "61ed163a-14f1-4f84-bdf8-98fa2cc8b364",
   "metadata": {},
   "outputs": [],
   "source": [
    "from scipy import sparse\n",
    "matrix_B = sparse.csr_matrix(matrix_B)"
   ]
  },
  {
   "cell_type": "code",
   "execution_count": null,
   "id": "cdcebfcc-801a-42a3-86f5-b9f6c50dfa61",
   "metadata": {},
   "outputs": [],
   "source": []
  },
  {
   "cell_type": "code",
   "execution_count": null,
   "id": "6a3acdd4-4c8d-492c-a24a-664872464f59",
   "metadata": {},
   "outputs": [],
   "source": [
    "matrix_B.shape"
   ]
  }
 ],
 "metadata": {
  "kernelspec": {
   "display_name": "Python 3 (ipykernel)",
   "language": "python",
   "name": "python3"
  },
  "language_info": {
   "codemirror_mode": {
    "name": "ipython",
    "version": 3
   },
   "file_extension": ".py",
   "mimetype": "text/x-python",
   "name": "python",
   "nbconvert_exporter": "python",
   "pygments_lexer": "ipython3",
   "version": "3.8.13"
  }
 },
 "nbformat": 4,
 "nbformat_minor": 5
}

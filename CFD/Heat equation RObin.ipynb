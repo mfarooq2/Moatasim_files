{
 "cells": [
  {
   "cell_type": "code",
   "execution_count": 29,
   "id": "3d0d1cd4-630d-4fa6-954a-de6efe5f7a2e",
   "metadata": {},
   "outputs": [],
   "source": [
    "# Importing NumPy Library\n",
    "import numpy as np\n",
    "import sys"
   ]
  },
  {
   "cell_type": "code",
   "execution_count": 30,
   "id": "4a9b5d8e-7933-4c47-9da8-ea63cf1f4594",
   "metadata": {},
   "outputs": [],
   "source": [
    "def Func_GaussElimination(A,b):\n",
    "    # Reading number of unknowns\n",
    "    n=A.shape[0]\n",
    "\n",
    "    # Making numpy array of n x n+1 size and initializing \n",
    "    # to zero for storing augmented matrix\n",
    "    a=np.concatenate((A,b.T),axis = 0).T\n",
    "    # Making numpy array of n size and initializing \n",
    "    # to zero for storing solution vector\n",
    "    x = np.zeros(n)\n",
    "\n",
    "    # Reading augmented matrix coefficients\n",
    "\n",
    "    # Applying Gauss Elimination\n",
    "    for i in range(n):\n",
    "        if a[i][i] == 0.0:\n",
    "            sys.exit('Divide by zero detected!')\n",
    "\n",
    "        for j in range(i+1, n):\n",
    "            ratio = a[j][i]/a[i][i]\n",
    "\n",
    "            for k in range(n+1):\n",
    "                a[j][k] = a[j][k] - ratio * a[i][k]\n",
    "\n",
    "    # Back Substitution\n",
    "    x[n-1] = a[n-1][n]/a[n-1][n-1]\n",
    "\n",
    "    for i in range(n-2,-1,-1):\n",
    "        x[i] = a[i][n]\n",
    "\n",
    "        for j in range(i+1,n):\n",
    "            x[i] = x[i] - a[i][j]*x[j]\n",
    "\n",
    "        x[i] = x[i]/a[i][i]\n",
    "    return x"
   ]
  },
  {
   "cell_type": "code",
   "execution_count": 36,
   "id": "89c07ade-9aee-42bd-8e4f-41ea68916910",
   "metadata": {},
   "outputs": [],
   "source": [
    "\n",
    "\n",
    "##diffusivity\n",
    "a  = 0.005 ;\n",
    "\n",
    "##Boundary conditions\n",
    "DBC_L = 1 ;\n",
    "DBC_R = 2 ;\n",
    "\n",
    "## Delta t\n",
    "dt = 0.02 ;\n",
    "\n",
    "\n",
    "## grid\n",
    "N  = 49 ;\n",
    "x  = np.linspace(0, 1, N+2)\n",
    "x  = x[1:N+1] ;\n",
    "dx = x[1] - x[0] ;\n",
    "\n",
    "## initial condition\n",
    "f0 = np.zeros((len(x),1)) ;\n",
    "## Build LHS matrix (matrix A)\n",
    "p = a * dt / (dx**2)\n",
    "A =   np.diag(-p * np.ones((N-1)), -1) + np.diag(2 * p * np.ones((N)), 0)+ np.diag(-p * np.ones((N-1)), +1)\n",
    "\n",
    "A=A+np.identity(len(A))\n",
    "\n",
    "## Build BC vector\n",
    "u_bc = np.zeros((len(x),1))\n",
    "u_bc[0] = a * dt / (dx**2) * DBC_L \n",
    "u_bc[-1] = a * dt / (dx**2) * DBC_R \n",
    "## Time stepping\n",
    "f_old = f0 \n"
   ]
  },
  {
   "cell_type": "code",
   "execution_count": 43,
   "id": "c5e72ee4-e8ab-447f-bafa-4aa9d4ad5ac9",
   "metadata": {},
   "outputs": [],
   "source": [
    "f_new_list=[]\n",
    "xlist=[]\n",
    "for it in range(2000):\n",
    "    b = u_bc + f_old \n",
    "    #f_new = Func_GaussElimination(A, b) \n",
    "    f_new = Func_GaussElimination(A, b)\n",
    "    f_old = f_new \n",
    "    f_old=f_old.reshape((len(f_old),1))\n",
    "    if it%20==0:\n",
    "        f_new_list.append(f_new)\n",
    "        xlist.append(x)"
   ]
  },
  {
   "cell_type": "code",
   "execution_count": 25,
   "id": "dc0a7ba2-c128-4b0d-91c6-e8156fd82c7a",
   "metadata": {},
   "outputs": [],
   "source": [
    "b = u_bc + f_old "
   ]
  },
  {
   "cell_type": "code",
   "execution_count": 41,
   "id": "72d56d50-f6bf-433d-9396-16996e6ca8c6",
   "metadata": {},
   "outputs": [
    {
     "data": {
      "text/plain": [
       "(49, 1)"
      ]
     },
     "execution_count": 41,
     "metadata": {},
     "output_type": "execute_result"
    }
   ],
   "source": [
    "b.shape"
   ]
  },
  {
   "cell_type": "code",
   "execution_count": 27,
   "id": "0261e7c9-dd77-4f28-b912-9c27cda01872",
   "metadata": {},
   "outputs": [],
   "source": [
    "a=np.concatenate((A,b.T),axis = 0).T"
   ]
  }
 ],
 "metadata": {
  "kernelspec": {
   "display_name": "Python 3 (ipykernel)",
   "language": "python",
   "name": "python3"
  },
  "language_info": {
   "codemirror_mode": {
    "name": "ipython",
    "version": 3
   },
   "file_extension": ".py",
   "mimetype": "text/x-python",
   "name": "python",
   "nbconvert_exporter": "python",
   "pygments_lexer": "ipython3",
   "version": "3.8.13"
  }
 },
 "nbformat": 4,
 "nbformat_minor": 5
}
